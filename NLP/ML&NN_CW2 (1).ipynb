{
  "nbformat": 4,
  "nbformat_minor": 0,
  "metadata": {
    "colab": {
      "provenance": []
    },
    "kernelspec": {
      "name": "python3",
      "display_name": "Python 3"
    },
    "language_info": {
      "name": "python"
    },
    "gpuClass": "standard"
  },
  "cells": [
    {
      "cell_type": "code",
      "execution_count": null,
      "metadata": {
        "id": "T9DcYvHSMTn3",
        "colab": {
          "base_uri": "https://localhost:8080/"
        },
        "outputId": "0ce86207-369b-446a-937f-049ef9c0236d"
      },
      "outputs": [
        {
          "output_type": "stream",
          "name": "stdout",
          "text": [
            "Mounted at /content/drive\n"
          ]
        }
      ],
      "source": [
        "from google.colab import drive\n",
        "drive.mount('/content/drive', force_remount=True)"
      ]
    },
    {
      "cell_type": "code",
      "source": [
        "PATH = './drive/MyDrive/mlnn2/'"
      ],
      "metadata": {
        "id": "_YdxMFdfY8_o"
      },
      "execution_count": null,
      "outputs": []
    },
    {
      "cell_type": "markdown",
      "source": [
        "<h1><a href=https://www.kaggle.com/datasets/anshulmehtakaggl/200000-abstracts-for-seq-sentence-classification> Dataset</a>: 20k Medical Abstracts with annotated sentences.</h1>\n",
        "\n",
        "<h2>Labels include: 'BACKGROUND', 'CONCLUSIONS', 'METHODS', 'OBJECTIVE', 'RESULTS'.</h2>"
      ],
      "metadata": {
        "id": "Ie0jvTM4adu-"
      }
    },
    {
      "cell_type": "markdown",
      "source": [
        "<h1>Task at hand: Sentence classification in medical abstracts.</h1>"
      ],
      "metadata": {
        "id": "ayonp5hlVlr0"
      }
    },
    {
      "cell_type": "markdown",
      "source": [
        "<h1>Tables of Content:</h1>\n",
        "\n",
        "<h2>1. Data loading, preprocessing Part 1.</h2>\n",
        "<h3>1.1. Loading the dataset into the dataframe.</h3>\n",
        "<h3>1.2. Transforming the lables.</h3>\n",
        "\n",
        "---\n",
        "\n",
        "<h2>2. Baseline model, preprocessing Part 2.</h2>\n",
        "<h3>2.1. Selecting Multinomial Naive Bayes as a baseline, evaluating it.</h3>\n",
        "<h3>2.2. Text preprocessing required for Neural Networks.</h3>\n",
        "<h3>2.3. Re-building preprocessed sentences into the intial 3 sets.</h3>\n",
        "<h3>2.4. Converting labels to one-hot vectors.</h3>\n",
        "<h3>2.5. Packaging sentences and their according labels into a batched TF dataset.</h3>\n",
        "\n",
        "---\n",
        "\n",
        "<h2>3. The initial NN model that beats the baseline.</h2>\n",
        "<h3>3.1. Initial 1-D Convolutional architechture.</h3>\n",
        "<h3>3.2. Investigation of how the number of epochs affects the validation accuracy/loss, detection of overfitting.</h3>\n",
        "<h3>3.3. Brief discussion of findings.</h3>\n",
        "\n",
        "\n",
        "---\n",
        "\n",
        "\n",
        "<h2>4. Systematic approach to hyperparameter selection with implementation of a hand-built Random Search.</h2>\n",
        "<h3>4.1. Adding an LSTM architechture for additional investigation.</h3>\n",
        "<h3>4.2. Adding a helper NN builder function used.</h3>\n",
        "<h3>4.3. Defining the Random Search tuner class.</h3>\n",
        "<h3>4.4. Defining the parameter grid.</h3>\n",
        "<h3>4.5. Discussion of results.</h3>\n",
        "<h3>4.6. Additional experimentation with batch sizes.</h3>\n",
        "<h3>4.7. Final Model.</h3>\n",
        "\n",
        "---\n",
        "\n",
        "<h2>Conclusion.</h2>\n"
      ],
      "metadata": {
        "id": "rivykDioOiO-"
      }
    },
    {
      "cell_type": "markdown",
      "source": [
        "<h2> <b>1.1</b> Below is the function that is used to build the datasets from raw text files. Every abstract has an ID, which is prefaced with ### pattern.\n",
        "<h3> Code is taken from <a href=https://www.kaggle.com/code/ankitajaiwar/abstract-classification-with-tensorflow> here</a> and slightly adjusted. <h3>"
      ],
      "metadata": {
        "id": "A18CVrxgXgZZ"
      }
    },
    {
      "cell_type": "code",
      "source": [
        "import os\n",
        "import pandas as pd\n",
        "\n",
        "def build_set(filename):\n",
        "    output = []\n",
        "    # read raw lines\n",
        "    with open(os.path.join(PATH + '20k_abstracts', filename), 'r') as f:\n",
        "        raw_lines = f.readlines()\n",
        "\n",
        "    # process the lines\n",
        "    for i, line in enumerate(raw_lines):\n",
        "        # skip the spaces\n",
        "        if line.isspace():\n",
        "            continue\n",
        "        # identify IDs\n",
        "        if line.startswith('###'):\n",
        "            abstract_id = line[3:].replace('\\n','')\n",
        "        # insert the text and according labels\n",
        "        else : output.append({'id': abstract_id, 'label': line.split('\\t')[0], 'text': line.split('\\t')[1]})\n",
        "\n",
        "    # convert to a panadas DataFrame\n",
        "    output = pd.DataFrame(data = output)\n",
        "\n",
        "    return output"
      ],
      "metadata": {
        "id": "cUPKTMgrbJWT"
      },
      "execution_count": null,
      "outputs": []
    },
    {
      "cell_type": "code",
      "source": [
        "train_set = build_set('train.txt')\n",
        "val_set = build_set('dev.txt')\n",
        "test_set = build_set('test.txt')"
      ],
      "metadata": {
        "id": "IL9Q30VWdEFf"
      },
      "execution_count": null,
      "outputs": []
    },
    {
      "cell_type": "code",
      "source": [
        "train_set"
      ],
      "metadata": {
        "colab": {
          "base_uri": "https://localhost:8080/",
          "height": 424
        },
        "id": "lhAEcPw7iF7S",
        "outputId": "06b42546-9089-45d8-e7b1-03f460b72a25"
      },
      "execution_count": null,
      "outputs": [
        {
          "output_type": "execute_result",
          "data": {
            "text/plain": [
              "              id  label                                               text\n",
              "0       24293578      3  To investigate the efficacy of 6 weeks of dail...\n",
              "1       24293578      2  A total of 125 patients with primary knee OA w...\n",
              "2       24293578      2  Outcome measures included pain reduction and i...\n",
              "3       24293578      2  Pain was assessed using the visual analog pain...\n",
              "4       24293578      2  Secondary outcome measures included the Wester...\n",
              "...          ...    ...                                                ...\n",
              "180035  26227186      4  For the absolute change in percent atheroma vo...\n",
              "180036  26227186      4  For PAV , a significantly greater percentage o...\n",
              "180037  26227186      4  Both strategies had acceptable side effect pro...\n",
              "180038  26227186      1  Compared with standard statin monotherapy , th...\n",
              "180039  26227186      1  ( Plaque Regression With Cholesterol Absorptio...\n",
              "\n",
              "[180040 rows x 3 columns]"
            ],
            "text/html": [
              "\n",
              "  <div id=\"df-5faad74a-8d41-4daa-9413-615e3a8169cd\">\n",
              "    <div class=\"colab-df-container\">\n",
              "      <div>\n",
              "<style scoped>\n",
              "    .dataframe tbody tr th:only-of-type {\n",
              "        vertical-align: middle;\n",
              "    }\n",
              "\n",
              "    .dataframe tbody tr th {\n",
              "        vertical-align: top;\n",
              "    }\n",
              "\n",
              "    .dataframe thead th {\n",
              "        text-align: right;\n",
              "    }\n",
              "</style>\n",
              "<table border=\"1\" class=\"dataframe\">\n",
              "  <thead>\n",
              "    <tr style=\"text-align: right;\">\n",
              "      <th></th>\n",
              "      <th>id</th>\n",
              "      <th>label</th>\n",
              "      <th>text</th>\n",
              "    </tr>\n",
              "  </thead>\n",
              "  <tbody>\n",
              "    <tr>\n",
              "      <th>0</th>\n",
              "      <td>24293578</td>\n",
              "      <td>3</td>\n",
              "      <td>To investigate the efficacy of 6 weeks of dail...</td>\n",
              "    </tr>\n",
              "    <tr>\n",
              "      <th>1</th>\n",
              "      <td>24293578</td>\n",
              "      <td>2</td>\n",
              "      <td>A total of 125 patients with primary knee OA w...</td>\n",
              "    </tr>\n",
              "    <tr>\n",
              "      <th>2</th>\n",
              "      <td>24293578</td>\n",
              "      <td>2</td>\n",
              "      <td>Outcome measures included pain reduction and i...</td>\n",
              "    </tr>\n",
              "    <tr>\n",
              "      <th>3</th>\n",
              "      <td>24293578</td>\n",
              "      <td>2</td>\n",
              "      <td>Pain was assessed using the visual analog pain...</td>\n",
              "    </tr>\n",
              "    <tr>\n",
              "      <th>4</th>\n",
              "      <td>24293578</td>\n",
              "      <td>2</td>\n",
              "      <td>Secondary outcome measures included the Wester...</td>\n",
              "    </tr>\n",
              "    <tr>\n",
              "      <th>...</th>\n",
              "      <td>...</td>\n",
              "      <td>...</td>\n",
              "      <td>...</td>\n",
              "    </tr>\n",
              "    <tr>\n",
              "      <th>180035</th>\n",
              "      <td>26227186</td>\n",
              "      <td>4</td>\n",
              "      <td>For the absolute change in percent atheroma vo...</td>\n",
              "    </tr>\n",
              "    <tr>\n",
              "      <th>180036</th>\n",
              "      <td>26227186</td>\n",
              "      <td>4</td>\n",
              "      <td>For PAV , a significantly greater percentage o...</td>\n",
              "    </tr>\n",
              "    <tr>\n",
              "      <th>180037</th>\n",
              "      <td>26227186</td>\n",
              "      <td>4</td>\n",
              "      <td>Both strategies had acceptable side effect pro...</td>\n",
              "    </tr>\n",
              "    <tr>\n",
              "      <th>180038</th>\n",
              "      <td>26227186</td>\n",
              "      <td>1</td>\n",
              "      <td>Compared with standard statin monotherapy , th...</td>\n",
              "    </tr>\n",
              "    <tr>\n",
              "      <th>180039</th>\n",
              "      <td>26227186</td>\n",
              "      <td>1</td>\n",
              "      <td>( Plaque Regression With Cholesterol Absorptio...</td>\n",
              "    </tr>\n",
              "  </tbody>\n",
              "</table>\n",
              "<p>180040 rows × 3 columns</p>\n",
              "</div>\n",
              "      <button class=\"colab-df-convert\" onclick=\"convertToInteractive('df-5faad74a-8d41-4daa-9413-615e3a8169cd')\"\n",
              "              title=\"Convert this dataframe to an interactive table.\"\n",
              "              style=\"display:none;\">\n",
              "        \n",
              "  <svg xmlns=\"http://www.w3.org/2000/svg\" height=\"24px\"viewBox=\"0 0 24 24\"\n",
              "       width=\"24px\">\n",
              "    <path d=\"M0 0h24v24H0V0z\" fill=\"none\"/>\n",
              "    <path d=\"M18.56 5.44l.94 2.06.94-2.06 2.06-.94-2.06-.94-.94-2.06-.94 2.06-2.06.94zm-11 1L8.5 8.5l.94-2.06 2.06-.94-2.06-.94L8.5 2.5l-.94 2.06-2.06.94zm10 10l.94 2.06.94-2.06 2.06-.94-2.06-.94-.94-2.06-.94 2.06-2.06.94z\"/><path d=\"M17.41 7.96l-1.37-1.37c-.4-.4-.92-.59-1.43-.59-.52 0-1.04.2-1.43.59L10.3 9.45l-7.72 7.72c-.78.78-.78 2.05 0 2.83L4 21.41c.39.39.9.59 1.41.59.51 0 1.02-.2 1.41-.59l7.78-7.78 2.81-2.81c.8-.78.8-2.07 0-2.86zM5.41 20L4 18.59l7.72-7.72 1.47 1.35L5.41 20z\"/>\n",
              "  </svg>\n",
              "      </button>\n",
              "      \n",
              "  <style>\n",
              "    .colab-df-container {\n",
              "      display:flex;\n",
              "      flex-wrap:wrap;\n",
              "      gap: 12px;\n",
              "    }\n",
              "\n",
              "    .colab-df-convert {\n",
              "      background-color: #E8F0FE;\n",
              "      border: none;\n",
              "      border-radius: 50%;\n",
              "      cursor: pointer;\n",
              "      display: none;\n",
              "      fill: #1967D2;\n",
              "      height: 32px;\n",
              "      padding: 0 0 0 0;\n",
              "      width: 32px;\n",
              "    }\n",
              "\n",
              "    .colab-df-convert:hover {\n",
              "      background-color: #E2EBFA;\n",
              "      box-shadow: 0px 1px 2px rgba(60, 64, 67, 0.3), 0px 1px 3px 1px rgba(60, 64, 67, 0.15);\n",
              "      fill: #174EA6;\n",
              "    }\n",
              "\n",
              "    [theme=dark] .colab-df-convert {\n",
              "      background-color: #3B4455;\n",
              "      fill: #D2E3FC;\n",
              "    }\n",
              "\n",
              "    [theme=dark] .colab-df-convert:hover {\n",
              "      background-color: #434B5C;\n",
              "      box-shadow: 0px 1px 3px 1px rgba(0, 0, 0, 0.15);\n",
              "      filter: drop-shadow(0px 1px 2px rgba(0, 0, 0, 0.3));\n",
              "      fill: #FFFFFF;\n",
              "    }\n",
              "  </style>\n",
              "\n",
              "      <script>\n",
              "        const buttonEl =\n",
              "          document.querySelector('#df-5faad74a-8d41-4daa-9413-615e3a8169cd button.colab-df-convert');\n",
              "        buttonEl.style.display =\n",
              "          google.colab.kernel.accessAllowed ? 'block' : 'none';\n",
              "\n",
              "        async function convertToInteractive(key) {\n",
              "          const element = document.querySelector('#df-5faad74a-8d41-4daa-9413-615e3a8169cd');\n",
              "          const dataTable =\n",
              "            await google.colab.kernel.invokeFunction('convertToInteractive',\n",
              "                                                     [key], {});\n",
              "          if (!dataTable) return;\n",
              "\n",
              "          const docLinkHtml = 'Like what you see? Visit the ' +\n",
              "            '<a target=\"_blank\" href=https://colab.research.google.com/notebooks/data_table.ipynb>data table notebook</a>'\n",
              "            + ' to learn more about interactive tables.';\n",
              "          element.innerHTML = '';\n",
              "          dataTable['output_type'] = 'display_data';\n",
              "          await google.colab.output.renderOutput(dataTable, element);\n",
              "          const docLink = document.createElement('div');\n",
              "          docLink.innerHTML = docLinkHtml;\n",
              "          element.appendChild(docLink);\n",
              "        }\n",
              "      </script>\n",
              "    </div>\n",
              "  </div>\n",
              "  "
            ]
          },
          "metadata": {},
          "execution_count": 27
        }
      ]
    },
    {
      "cell_type": "markdown",
      "source": [
        "<h2><b>1.2</b> Label encoding using sklearn's LabelEncoder"
      ],
      "metadata": {
        "id": "c5YMtjQUbkrs"
      }
    },
    {
      "cell_type": "code",
      "source": [
        "from sklearn.preprocessing import LabelEncoder\n",
        "\n",
        "le = LabelEncoder()\n",
        "train_set['label'] = le.fit_transform(train_set['label'])\n",
        "val_set['label']  = le.transform(val_set['label'])\n",
        "test_set['label']  = le.transform(test_set['label'])"
      ],
      "metadata": {
        "id": "cfkcEigedTlJ"
      },
      "execution_count": null,
      "outputs": []
    },
    {
      "cell_type": "code",
      "source": [
        "labels_array_train = train_set['label'].to_numpy()\n",
        "labels_array_val = val_set['label'].to_numpy()\n",
        "labels_array_test = test_set['label'].to_numpy()\n",
        "\n",
        "NUM_CLASSES = len(le.classes_)"
      ],
      "metadata": {
        "id": "J1iZJUydjR1N"
      },
      "execution_count": null,
      "outputs": []
    },
    {
      "cell_type": "code",
      "source": [
        "NUM_CLASSES, le.classes_"
      ],
      "metadata": {
        "colab": {
          "base_uri": "https://localhost:8080/"
        },
        "id": "3EIL_VedWyR4",
        "outputId": "f8ff8654-3997-45da-8e18-4a3fd294f66d"
      },
      "execution_count": null,
      "outputs": [
        {
          "output_type": "execute_result",
          "data": {
            "text/plain": [
              "(5, array(['BACKGROUND', 'CONCLUSIONS', 'METHODS', 'OBJECTIVE', 'RESULTS'],\n",
              "       dtype=object))"
            ]
          },
          "metadata": {},
          "execution_count": 11
        }
      ]
    },
    {
      "cell_type": "markdown",
      "source": [
        "<h2><b>2.1</b> For the baseline, it would be reasonable to use a Multinomial Naive Bayes approach, as it is a simple model with only a few tunable parameters, which makes it very quick to train.</h2>"
      ],
      "metadata": {
        "id": "F7daj0W9bwm8"
      }
    },
    {
      "cell_type": "markdown",
      "source": [
        "<h3>The code below uses a simple pipeline, where the text is first vectorized using TF-IDF, and then used train the Naive Bayes.</h3>"
      ],
      "metadata": {
        "id": "zdC2_OrRdWvd"
      }
    },
    {
      "cell_type": "code",
      "source": [
        "from sklearn.feature_extraction.text import TfidfVectorizer\n",
        "from sklearn.naive_bayes import MultinomialNB\n",
        "from sklearn.pipeline import Pipeline\n",
        "\n",
        "model_0 = Pipeline([\n",
        "    (\"tf-idf\",TfidfVectorizer()),\n",
        "    (\"clf\",MultinomialNB())\n",
        "])\n",
        "\n",
        "model_0.fit(X = train_set['text'].to_list(), y = labels_array_train)"
      ],
      "metadata": {
        "colab": {
          "base_uri": "https://localhost:8080/",
          "height": 126
        },
        "id": "ls-Y5q3wSS63",
        "outputId": "c6cab846-0bde-4065-8909-7e3f74de7eba"
      },
      "execution_count": null,
      "outputs": [
        {
          "output_type": "execute_result",
          "data": {
            "text/plain": [
              "Pipeline(steps=[('tf-idf', TfidfVectorizer()), ('clf', MultinomialNB())])"
            ],
            "text/html": [
              "<style>#sk-container-id-1 {color: black;background-color: white;}#sk-container-id-1 pre{padding: 0;}#sk-container-id-1 div.sk-toggleable {background-color: white;}#sk-container-id-1 label.sk-toggleable__label {cursor: pointer;display: block;width: 100%;margin-bottom: 0;padding: 0.3em;box-sizing: border-box;text-align: center;}#sk-container-id-1 label.sk-toggleable__label-arrow:before {content: \"▸\";float: left;margin-right: 0.25em;color: #696969;}#sk-container-id-1 label.sk-toggleable__label-arrow:hover:before {color: black;}#sk-container-id-1 div.sk-estimator:hover label.sk-toggleable__label-arrow:before {color: black;}#sk-container-id-1 div.sk-toggleable__content {max-height: 0;max-width: 0;overflow: hidden;text-align: left;background-color: #f0f8ff;}#sk-container-id-1 div.sk-toggleable__content pre {margin: 0.2em;color: black;border-radius: 0.25em;background-color: #f0f8ff;}#sk-container-id-1 input.sk-toggleable__control:checked~div.sk-toggleable__content {max-height: 200px;max-width: 100%;overflow: auto;}#sk-container-id-1 input.sk-toggleable__control:checked~label.sk-toggleable__label-arrow:before {content: \"▾\";}#sk-container-id-1 div.sk-estimator input.sk-toggleable__control:checked~label.sk-toggleable__label {background-color: #d4ebff;}#sk-container-id-1 div.sk-label input.sk-toggleable__control:checked~label.sk-toggleable__label {background-color: #d4ebff;}#sk-container-id-1 input.sk-hidden--visually {border: 0;clip: rect(1px 1px 1px 1px);clip: rect(1px, 1px, 1px, 1px);height: 1px;margin: -1px;overflow: hidden;padding: 0;position: absolute;width: 1px;}#sk-container-id-1 div.sk-estimator {font-family: monospace;background-color: #f0f8ff;border: 1px dotted black;border-radius: 0.25em;box-sizing: border-box;margin-bottom: 0.5em;}#sk-container-id-1 div.sk-estimator:hover {background-color: #d4ebff;}#sk-container-id-1 div.sk-parallel-item::after {content: \"\";width: 100%;border-bottom: 1px solid gray;flex-grow: 1;}#sk-container-id-1 div.sk-label:hover label.sk-toggleable__label {background-color: #d4ebff;}#sk-container-id-1 div.sk-serial::before {content: \"\";position: absolute;border-left: 1px solid gray;box-sizing: border-box;top: 0;bottom: 0;left: 50%;z-index: 0;}#sk-container-id-1 div.sk-serial {display: flex;flex-direction: column;align-items: center;background-color: white;padding-right: 0.2em;padding-left: 0.2em;position: relative;}#sk-container-id-1 div.sk-item {position: relative;z-index: 1;}#sk-container-id-1 div.sk-parallel {display: flex;align-items: stretch;justify-content: center;background-color: white;position: relative;}#sk-container-id-1 div.sk-item::before, #sk-container-id-1 div.sk-parallel-item::before {content: \"\";position: absolute;border-left: 1px solid gray;box-sizing: border-box;top: 0;bottom: 0;left: 50%;z-index: -1;}#sk-container-id-1 div.sk-parallel-item {display: flex;flex-direction: column;z-index: 1;position: relative;background-color: white;}#sk-container-id-1 div.sk-parallel-item:first-child::after {align-self: flex-end;width: 50%;}#sk-container-id-1 div.sk-parallel-item:last-child::after {align-self: flex-start;width: 50%;}#sk-container-id-1 div.sk-parallel-item:only-child::after {width: 0;}#sk-container-id-1 div.sk-dashed-wrapped {border: 1px dashed gray;margin: 0 0.4em 0.5em 0.4em;box-sizing: border-box;padding-bottom: 0.4em;background-color: white;}#sk-container-id-1 div.sk-label label {font-family: monospace;font-weight: bold;display: inline-block;line-height: 1.2em;}#sk-container-id-1 div.sk-label-container {text-align: center;}#sk-container-id-1 div.sk-container {/* jupyter's `normalize.less` sets `[hidden] { display: none; }` but bootstrap.min.css set `[hidden] { display: none !important; }` so we also need the `!important` here to be able to override the default hidden behavior on the sphinx rendered scikit-learn.org. See: https://github.com/scikit-learn/scikit-learn/issues/21755 */display: inline-block !important;position: relative;}#sk-container-id-1 div.sk-text-repr-fallback {display: none;}</style><div id=\"sk-container-id-1\" class=\"sk-top-container\"><div class=\"sk-text-repr-fallback\"><pre>Pipeline(steps=[(&#x27;tf-idf&#x27;, TfidfVectorizer()), (&#x27;clf&#x27;, MultinomialNB())])</pre><b>In a Jupyter environment, please rerun this cell to show the HTML representation or trust the notebook. <br />On GitHub, the HTML representation is unable to render, please try loading this page with nbviewer.org.</b></div><div class=\"sk-container\" hidden><div class=\"sk-item sk-dashed-wrapped\"><div class=\"sk-label-container\"><div class=\"sk-label sk-toggleable\"><input class=\"sk-toggleable__control sk-hidden--visually\" id=\"sk-estimator-id-1\" type=\"checkbox\" ><label for=\"sk-estimator-id-1\" class=\"sk-toggleable__label sk-toggleable__label-arrow\">Pipeline</label><div class=\"sk-toggleable__content\"><pre>Pipeline(steps=[(&#x27;tf-idf&#x27;, TfidfVectorizer()), (&#x27;clf&#x27;, MultinomialNB())])</pre></div></div></div><div class=\"sk-serial\"><div class=\"sk-item\"><div class=\"sk-estimator sk-toggleable\"><input class=\"sk-toggleable__control sk-hidden--visually\" id=\"sk-estimator-id-2\" type=\"checkbox\" ><label for=\"sk-estimator-id-2\" class=\"sk-toggleable__label sk-toggleable__label-arrow\">TfidfVectorizer</label><div class=\"sk-toggleable__content\"><pre>TfidfVectorizer()</pre></div></div></div><div class=\"sk-item\"><div class=\"sk-estimator sk-toggleable\"><input class=\"sk-toggleable__control sk-hidden--visually\" id=\"sk-estimator-id-3\" type=\"checkbox\" ><label for=\"sk-estimator-id-3\" class=\"sk-toggleable__label sk-toggleable__label-arrow\">MultinomialNB</label><div class=\"sk-toggleable__content\"><pre>MultinomialNB()</pre></div></div></div></div></div></div></div>"
            ]
          },
          "metadata": {},
          "execution_count": 12
        }
      ]
    },
    {
      "cell_type": "markdown",
      "source": [
        "<h3>The reference baseline that the deep learning model has to beat is shown below. To monitor how the model performs as it trains more easily, the score achieved on the validation set will be used.</h3>"
      ],
      "metadata": {
        "id": "OqjbQMyReWuw"
      }
    },
    {
      "cell_type": "code",
      "source": [
        "model_0.score(X = val_set['text'].to_list(), y = labels_array_val)"
      ],
      "metadata": {
        "colab": {
          "base_uri": "https://localhost:8080/"
        },
        "id": "eNve4QkXTL0M",
        "outputId": "14b83c1c-130d-4bf9-b98c-b85d0b54798d"
      },
      "execution_count": null,
      "outputs": [
        {
          "output_type": "execute_result",
          "data": {
            "text/plain": [
              "0.7317291142592347"
            ]
          },
          "metadata": {},
          "execution_count": 13
        }
      ]
    },
    {
      "cell_type": "code",
      "source": [
        "model_0.score(X = test_set['text'].to_list(), y = labels_array_test)"
      ],
      "metadata": {
        "colab": {
          "base_uri": "https://localhost:8080/"
        },
        "id": "iFS0maqUeBHw",
        "outputId": "c031bb8d-796e-488f-faef-acb7850e2be2"
      },
      "execution_count": null,
      "outputs": [
        {
          "output_type": "execute_result",
          "data": {
            "text/plain": [
              "0.7265637962502074"
            ]
          },
          "metadata": {},
          "execution_count": 14
        }
      ]
    },
    {
      "cell_type": "markdown",
      "source": [
        "<h2><b>2.2</b> Below is the class I've implemented to deal with vocabulary generation and construction of sentence array corpus, where each array represents a series of integers (calculated word indicies).</h2>"
      ],
      "metadata": {
        "id": "a_b_Oxy8fQnc"
      }
    },
    {
      "cell_type": "code",
      "source": [
        "import re\n",
        "from collections import Counter\n",
        "import numpy as np\n",
        "import nltk\n",
        "from tqdm import tqdm\n",
        "import pickle\n",
        "# import and set the stopwords\n",
        "# nltk.download('stopwords')\n",
        "\n",
        "# from nltk.corpus import stopwords\n",
        "\n",
        "# stop_words = set(stopwords.words(\"english\"))\n",
        "\n",
        "MAX_LEN = 55\n",
        "\n",
        "class Vocab:\n",
        "\n",
        "    # iniatialize our token 2 index dict and maximum sentence length.\n",
        "\n",
        "    def __init__(self, max_len):\n",
        "        self.tok2idx = {'<PAD>': 0, '<UNK>' : 1}\n",
        "        self.max_len = max_len\n",
        "        self.get_stop_words()\n",
        "    # returns the length of our vocab.\n",
        "\n",
        "    def __len__(self):\n",
        "        return len(self.tok2idx)\n",
        "\n",
        "    # basic text preprocessing - removing punctuation and gluing the text back together.\n",
        "\n",
        "    def clean_text(self, text):\n",
        "        text = text.lower()\n",
        "        text = re.sub(r'[^a-z\\s]', '', text)\n",
        "        text = ' '.join([word for word in text.split() if word not in self.stop_words])\n",
        "        return text\n",
        "\n",
        "    # tokenization of the text. Neccessary to generate unique indices.\n",
        "\n",
        "    def tokenize(self, text):\n",
        "        tokens = []\n",
        "        for word in text.split():\n",
        "            tokens.append(word)\n",
        "        return tokens\n",
        "\n",
        "    # building our tok2idx vocab with a given corpus\n",
        "\n",
        "    def build_vocab(self, text_list):\n",
        "        try:\n",
        "            self.load_vocab()\n",
        "        except:\n",
        "            # start and index 2, since we already have <PAD> and <UNK> in our vocab by default.\n",
        "            idx = 2\n",
        "            # our Counter classfrom Python collections library\n",
        "            self.freqs = Counter()\n",
        "            for sent in tqdm(text_list):\n",
        "                # preprocessing step - removing punctuation.\n",
        "                sent = self.clean_text(sent)\n",
        "                # tokenize as we go...\n",
        "                for word in self.tokenize(sent):\n",
        "                    # count the number of words\n",
        "                    self.freqs[word] += 1\n",
        "\n",
        "            for token in self.freqs.keys():\n",
        "                # set the index of the token\n",
        "                self.tok2idx[token] = idx\n",
        "                idx += 1\n",
        "\n",
        "            self.save_vocab()\n",
        "\n",
        "\n",
        "\n",
        "    # this is for generating a tensor of padded tensors of integers in the form of a tensor.\n",
        "    # this is uselful for generating the training and testing sets that the machine can interpret.\n",
        "\n",
        "    def nums_from_text(self, text_list):\n",
        "\n",
        "        # initialize our array of this exact size (desired length of our dataset and maximum sentence length)\n",
        "        text_array = np.empty((len(text_list), self.max_len), dtype=np.int64)\n",
        "\n",
        "        for array_idx, sent in tqdm(enumerate(text_list)):\n",
        "            # ignore empty sentences\n",
        "            if len(sent) == 0:\n",
        "                continue\n",
        "\n",
        "            # clean each sentence and tokenize it\n",
        "            sent = self.clean_text(sent)\n",
        "            tokens = self.tokenize(sent)\n",
        "\n",
        "            # generate the inner array, which represents a single sentence\n",
        "            num_text = np.zeros(self.max_len,  dtype=np.int64)\n",
        "\n",
        "            for idx, token in enumerate(tokens):\n",
        "                # truncate if the sentence exceeds max_len\n",
        "                if idx >= self.max_len:\n",
        "                    break\n",
        "                # replace each token with its index\n",
        "                num_text[idx] = self.tok2idx[token] if token in self.tok2idx.keys() else self.tok2idx['<UNK>']\n",
        "\n",
        "            # insert the numericalized sentence into the outer tensor\n",
        "            text_array[array_idx] = num_text\n",
        "\n",
        "        return text_array\n",
        "\n",
        "    def save_vocab(self):\n",
        "        with open(PATH + 'tok2idx.pkl', 'wb') as f:\n",
        "            pickle.dump(self.tok2idx, f)\n",
        "\n",
        "    def load_vocab(self):\n",
        "        with open(PATH + 'tok2idx.pkl', 'rb') as f:\n",
        "            self.tok2idx = pickle.load(f)\n",
        "\n",
        "    def get_stop_words(self):\n",
        "        with open(PATH + 'clinical-stopwords.txt', 'r') as f:\n",
        "            self.stop_words = f.readlines()\n"
      ],
      "metadata": {
        "id": "UgF09VVfcz0j"
      },
      "execution_count": null,
      "outputs": []
    },
    {
      "cell_type": "markdown",
      "source": [
        "<h3> Class nitialization and building the vocab. </h3>"
      ],
      "metadata": {
        "id": "bLdDIWjCXz1_"
      }
    },
    {
      "cell_type": "code",
      "source": [
        "combined_vocab = pd.concat([train_set['text'], val_set['text'], test_set['text']], axis=0)\n",
        "VOCAB = Vocab(MAX_LEN)\n",
        "\n",
        "VOCAB.build_vocab(combined_vocab)"
      ],
      "metadata": {
        "id": "-PRgXEHxfYt2"
      },
      "execution_count": null,
      "outputs": []
    },
    {
      "cell_type": "code",
      "source": [
        "VOCAB.tok2idx"
      ],
      "metadata": {
        "colab": {
          "base_uri": "https://localhost:8080/"
        },
        "id": "q7fvhdXNikZS",
        "outputId": "6445e843-ea74-4502-c310-a767701b37a4"
      },
      "execution_count": null,
      "outputs": [
        {
          "output_type": "execute_result",
          "data": {
            "text/plain": [
              "{'<PAD>': 0,\n",
              " '<UNK>': 1,\n",
              " 'the': 2,\n",
              " 'emergence': 3,\n",
              " 'of': 4,\n",
              " 'hiv': 5,\n",
              " 'as': 6,\n",
              " 'a': 7,\n",
              " 'chronic': 8,\n",
              " 'condition': 9,\n",
              " 'means': 10,\n",
              " 'that': 11,\n",
              " 'people': 12,\n",
              " 'living': 13,\n",
              " 'with': 14,\n",
              " 'are': 15,\n",
              " 'required': 16,\n",
              " 'to': 17,\n",
              " 'take': 18,\n",
              " 'more': 19,\n",
              " 'responsibility': 20,\n",
              " 'for': 21,\n",
              " 'selfmanagement': 22,\n",
              " 'their': 23,\n",
              " 'including': 24,\n",
              " 'making': 25,\n",
              " 'physical': 26,\n",
              " 'emotional': 27,\n",
              " 'and': 28,\n",
              " 'social': 29,\n",
              " 'adjustments': 30,\n",
              " 'this': 31,\n",
              " 'paper': 32,\n",
              " 'describes': 33,\n",
              " 'design': 34,\n",
              " 'evaluation': 35,\n",
              " 'positive': 36,\n",
              " 'outlook': 37,\n",
              " 'an': 38,\n",
              " 'online': 39,\n",
              " 'program': 40,\n",
              " 'aiming': 41,\n",
              " 'enhance': 42,\n",
              " 'skills': 43,\n",
              " 'gay': 44,\n",
              " 'men': 45,\n",
              " 'study': 46,\n",
              " 'is': 47,\n",
              " 'designed': 48,\n",
              " 'randomised': 49,\n",
              " 'controlled': 50,\n",
              " 'trial': 51,\n",
              " 'in': 52,\n",
              " 'which': 53,\n",
              " 'australia': 54,\n",
              " 'will': 55,\n",
              " 'be': 56,\n",
              " 'assigned': 57,\n",
              " 'either': 58,\n",
              " 'intervention': 59,\n",
              " 'group': 60,\n",
              " 'or': 61,\n",
              " 'usual': 62,\n",
              " 'care': 63,\n",
              " 'control': 64,\n",
              " 'participate': 65,\n",
              " 'based': 66,\n",
              " 'on': 67,\n",
              " 'selfefficacy': 68,\n",
              " 'theory': 69,\n",
              " 'uses': 70,\n",
              " 'approach': 71,\n",
              " 'confidence': 72,\n",
              " 'abilities': 73,\n",
              " 'manage': 74,\n",
              " 'psychosocial': 75,\n",
              " 'issues': 76,\n",
              " 'associated': 77,\n",
              " 'daily': 78,\n",
              " 'life': 79,\n",
              " 'participants': 80,\n",
              " 'access': 81,\n",
              " 'minimum': 82,\n",
              " 'minutes': 83,\n",
              " 'per': 84,\n",
              " 'week': 85,\n",
              " 'over': 86,\n",
              " 'seven': 87,\n",
              " 'weeks': 88,\n",
              " 'primary': 89,\n",
              " 'outcomes': 90,\n",
              " 'domain': 91,\n",
              " 'specific': 92,\n",
              " 'related': 93,\n",
              " 'quality': 94,\n",
              " 'health': 95,\n",
              " 'education': 96,\n",
              " 'secondary': 97,\n",
              " 'include': 98,\n",
              " 'depression': 99,\n",
              " 'anxiety': 100,\n",
              " 'stress': 101,\n",
              " 'general': 102,\n",
              " 'adjustment': 103,\n",
              " 'support': 104,\n",
              " 'data': 105,\n",
              " 'collection': 106,\n",
              " 'place': 107,\n",
              " 'at': 108,\n",
              " 'baseline': 109,\n",
              " 'completion': 110,\n",
              " 'eight': 111,\n",
              " 'post': 112,\n",
              " 'randomisation': 113,\n",
              " 'followup': 114,\n",
              " 'results': 115,\n",
              " 'provide': 116,\n",
              " 'information': 117,\n",
              " 'regarding': 118,\n",
              " 'effectiveness': 119,\n",
              " 'programs': 120,\n",
              " 'improving': 121,\n",
              " 'actrn': 122,\n",
              " 'aim': 123,\n",
              " 'was': 124,\n",
              " 'evaluate': 125,\n",
              " 'efficacy': 126,\n",
              " 'safety': 127,\n",
              " 'complications': 128,\n",
              " 'orbital': 129,\n",
              " 'steroid': 130,\n",
              " 'injection': 131,\n",
              " 'versus': 132,\n",
              " 'oral': 133,\n",
              " 'therapy': 134,\n",
              " 'management': 135,\n",
              " 'thyroidrelated': 136,\n",
              " 'ophthalmopathy': 137,\n",
              " 'total': 138,\n",
              " 'patients': 139,\n",
              " 'suffering': 140,\n",
              " 'from': 141,\n",
              " 'thyroid': 142,\n",
              " 'were': 143,\n",
              " 'included': 144,\n",
              " 'randomized': 145,\n",
              " 'into': 146,\n",
              " 'two': 147,\n",
              " 'groups': 148,\n",
              " 'i': 149,\n",
              " 'treated': 150,\n",
              " 'prednisolone': 151,\n",
              " 'ii': 152,\n",
              " 'peribulbar': 153,\n",
              " 'triamcinolone': 154,\n",
              " 'only': 155,\n",
              " 'both': 156,\n",
              " 'female': 157,\n",
              " 'male': 158,\n",
              " 'completed': 159,\n",
              " 'showed': 160,\n",
              " 'improvement': 161,\n",
              " 'symptoms': 162,\n",
              " 'clinical': 163,\n",
              " 'evidence': 164,\n",
              " 'inflammation': 165,\n",
              " 'eye': 166,\n",
              " 'movement': 167,\n",
              " 'proptosis': 168,\n",
              " 'most': 169,\n",
              " 'cases': 170,\n",
              " 'mean': 171,\n",
              " 'exophthalmometry': 172,\n",
              " 'value': 173,\n",
              " 'before': 174,\n",
              " 'treatment': 175,\n",
              " 'mm': 176,\n",
              " 'decreased': 177,\n",
              " 'compared': 178,\n",
              " 'initial': 179,\n",
              " 'activity': 180,\n",
              " 'score': 181,\n",
              " 'respectively': 182,\n",
              " 'dropped': 183,\n",
              " 'months': 184,\n",
              " 'after': 185,\n",
              " 'there': 186,\n",
              " 'no': 187,\n",
              " 'change': 188,\n",
              " 'bestcorrected': 189,\n",
              " 'visual': 190,\n",
              " 'acuity': 191,\n",
              " 'increase': 192,\n",
              " 'body': 193,\n",
              " 'weight': 194,\n",
              " 'blood': 195,\n",
              " 'sugar': 196,\n",
              " 'pressure': 197,\n",
              " 'gastritis': 198,\n",
              " 'adverse': 199,\n",
              " 'local': 200,\n",
              " 'side': 201,\n",
              " 'effects': 202,\n",
              " 'observed': 203,\n",
              " 'effective': 204,\n",
              " 'safe': 205,\n",
              " 'it': 206,\n",
              " 'eliminates': 207,\n",
              " 'reactions': 208,\n",
              " 'corticosteroid': 209,\n",
              " 'use': 210,\n",
              " 'prospective': 211,\n",
              " 'examine': 212,\n",
              " 'whether': 213,\n",
              " 'active': 214,\n",
              " 'counseling': 215,\n",
              " 'liberal': 216,\n",
              " 'fluid': 217,\n",
              " 'intake': 218,\n",
              " 'decrease': 219,\n",
              " 'postoperative': 220,\n",
              " 'pain': 221,\n",
              " 'nausea': 222,\n",
              " 'vomiting': 223,\n",
              " 'pediatric': 224,\n",
              " 'ambulatory': 225,\n",
              " 'tonsillectomy': 226,\n",
              " 'families': 227,\n",
              " 'whose': 228,\n",
              " 'child': 229,\n",
              " 'admitted': 230,\n",
              " 'adenotonsillectomy': 231,\n",
              " 'randomly': 232,\n",
              " 'n': 233,\n",
              " 'each': 234,\n",
              " 'received': 235,\n",
              " 'fasting': 236,\n",
              " 'instructions': 237,\n",
              " 'facetoface': 238,\n",
              " 's': 239,\n",
              " 'preoperative': 240,\n",
              " 'nutrition': 241,\n",
              " 'according': 242,\n",
              " 'hospital': 243,\n",
              " 'standard': 244,\n",
              " 'procedure': 245,\n",
              " 'level': 246,\n",
              " 'scored': 247,\n",
              " 'postanesthesia': 248,\n",
              " 'unit': 249,\n",
              " 'pacu': 250,\n",
              " 'during': 251,\n",
              " 'first': 252,\n",
              " 'hour': 253,\n",
              " 'well': 254,\n",
              " 'h': 255,\n",
              " 'postoperatively': 256,\n",
              " 'scoring': 257,\n",
              " 'performed': 258,\n",
              " 'by': 259,\n",
              " 'attending': 260,\n",
              " 'nurse': 261,\n",
              " 'scale': 262,\n",
              " 'rest': 263,\n",
              " 'estimations': 264,\n",
              " 'made': 265,\n",
              " 'independently': 266,\n",
              " 'simultaneously': 267,\n",
              " 'children': 268,\n",
              " 'using': 269,\n",
              " 'vas': 270,\n",
              " 'parents': 271,\n",
              " 'than': 272,\n",
              " 'difference': 273,\n",
              " 'between': 274,\n",
              " 'statistically': 275,\n",
              " 'significant': 276,\n",
              " 'p': 277,\n",
              " 'all': 278,\n",
              " 'scores': 279,\n",
              " 'increased': 280,\n",
              " 'surgery': 281,\n",
              " 'highest': 282,\n",
              " 'values': 283,\n",
              " 'found': 284,\n",
              " 'home': 285,\n",
              " 'morning': 286,\n",
              " 'did': 287,\n",
              " 'not': 288,\n",
              " 'have': 289,\n",
              " 'but': 290,\n",
              " 'four': 291,\n",
              " 'hours': 292,\n",
              " 'nauseous': 293,\n",
              " 'half': 294,\n",
              " 'vomited': 295,\n",
              " 'clotted': 296,\n",
              " 'evening': 297,\n",
              " 'six': 298,\n",
              " 'next': 299,\n",
              " 'them': 300,\n",
              " 'incidence': 301,\n",
              " 'intensity': 302,\n",
              " 'however': 303,\n",
              " 'nutritional': 304,\n",
              " 'appeared': 305,\n",
              " 'effect': 306,\n",
              " 'wellbeing': 307,\n",
              " 'helped': 308,\n",
              " 'better': 309,\n",
              " 'tolerate': 310,\n",
              " 'about': 311,\n",
              " 'significantly': 312,\n",
              " 'reduces': 313,\n",
              " 'posttonsillectomy': 314,\n",
              " 'might': 315,\n",
              " 'prepare': 316,\n",
              " 'potential': 317,\n",
              " 'explore': 318,\n",
              " 'gengnianle': 319,\n",
              " 'gnl': 320,\n",
              " 'also': 321,\n",
              " 'called': 322,\n",
              " 'perimenopausal': 323,\n",
              " 'relieving': 324,\n",
              " 'formula': 325,\n",
              " 'defined': 326,\n",
              " 'chinese': 327,\n",
              " 'medicinal': 328,\n",
              " 'herbs': 329,\n",
              " 'women': 330,\n",
              " 'september': 331,\n",
              " 'april': 332,\n",
              " 'tibolone': 333,\n",
              " 'randomization': 334,\n",
              " 'chart': 335,\n",
              " 'rated': 336,\n",
              " 'item': 337,\n",
              " 'hamilton': 338,\n",
              " 'hamd': 339,\n",
              " 'serum': 340,\n",
              " 'levels': 341,\n",
              " 'follicle': 342,\n",
              " 'stimulating': 343,\n",
              " 'hormone': 344,\n",
              " 'fsh': 345,\n",
              " 'luteinizing': 346,\n",
              " 'lh': 347,\n",
              " 'estradiol': 348,\n",
              " 'e': 349,\n",
              " 'detected': 350,\n",
              " 'they': 351,\n",
              " 'changed': 352,\n",
              " 'sideeffect': 353,\n",
              " 'reported': 354,\n",
              " 'promise': 355,\n",
              " 'merits': 356,\n",
              " 'further': 357,\n",
              " 'topical': 358,\n",
              " 'formulations': 359,\n",
              " 'nonsteroidal': 360,\n",
              " 'antiinflammatory': 361,\n",
              " 'drugs': 362,\n",
              " 'nsaids': 363,\n",
              " 'generally': 364,\n",
              " 'considered': 365,\n",
              " 'safer': 366,\n",
              " 'alternatives': 367,\n",
              " 'due': 368,\n",
              " 'lower': 369,\n",
              " 'systemic': 370,\n",
              " 'absorption': 371,\n",
              " 'we': 372,\n",
              " 'conducted': 373,\n",
              " 'crossover': 374,\n",
              " 'studies': 375,\n",
              " 'pharmacokinetics': 376,\n",
              " 'pk': 377,\n",
              " 'bioequivalence': 378,\n",
              " 'diclofenac': 379,\n",
              " 'sodium': 380,\n",
              " 'twice': 381,\n",
              " 'bid': 382,\n",
              " 'times': 383,\n",
              " 'qid': 384,\n",
              " 'healthy': 385,\n",
              " 'subjects': 386,\n",
              " 'three': 387,\n",
              " 'reviewed': 388,\n",
              " 'adult': 389,\n",
              " 'applied': 390,\n",
              " 'solution': 391,\n",
              " 'mg': 392,\n",
              " 'ml': 393,\n",
              " 'drops': 394,\n",
              " 'knee': 395,\n",
              " 'consecutive': 396,\n",
              " 'days': 397,\n",
              " 'separated': 398,\n",
              " 'washout': 399,\n",
              " 'period': 400,\n",
              " 'one': 401,\n",
              " 'plasma': 402,\n",
              " 'concentrations': 403,\n",
              " 'determined': 404,\n",
              " 'serial': 405,\n",
              " 'samples': 406,\n",
              " 'collected': 407,\n",
              " 'steady': 408,\n",
              " 'state': 409,\n",
              " 'parameters': 410,\n",
              " 'estimated': 411,\n",
              " 'noncompartmental': 412,\n",
              " 'methods': 413,\n",
              " 'demonstrated': 414,\n",
              " 'comparable': 415,\n",
              " 'solutions': 416,\n",
              " 'exposure': 417,\n",
              " 'dosing': 418,\n",
              " 'approximately': 419,\n",
              " 'less': 420,\n",
              " 'aucss': 421,\n",
              " 'furthermore': 422,\n",
              " 'delayed': 423,\n",
              " 'elimination': 424,\n",
              " 't': 425,\n",
              " 'fold': 426,\n",
              " 'longer': 427,\n",
              " 'provided': 428,\n",
              " 'consistent': 429,\n",
              " 'relative': 430,\n",
              " 'when': 431,\n",
              " 'comparing': 432,\n",
              " 'cmaxss': 433,\n",
              " 'across': 434,\n",
              " 'mild': 435,\n",
              " 'application': 436,\n",
              " 'site': 437,\n",
              " 'common': 438,\n",
              " 'treatmentemergent': 439,\n",
              " 'event': 440,\n",
              " 'steadystate': 441,\n",
              " 'profile': 442,\n",
              " 'administered': 443,\n",
              " 'similar': 444,\n",
              " 'substantially': 445,\n",
              " 'administration': 446,\n",
              " 'registered': 447,\n",
              " 'clinicaltrialsgov': 448,\n",
              " 'nct': 449,\n",
              " 'httpsclinicaltrialsgovctresultstermsearchsearch': 450,\n",
              " 'longterm': 451,\n",
              " 'been': 452,\n",
              " 'training': 453,\n",
              " 'driving': 454,\n",
              " 'stroke': 455,\n",
              " 'authors': 456,\n",
              " 'determine': 457,\n",
              " 'simulator': 458,\n",
              " 'cognitive': 459,\n",
              " 'rehabilitation': 460,\n",
              " 'fitnesstodrive': 461,\n",
              " 'years': 462,\n",
              " 'poststroke': 463,\n",
              " 'second': 464,\n",
              " 'investigate': 465,\n",
              " 'differences': 466,\n",
              " 'characteristics': 467,\n",
              " 'survivors': 468,\n",
              " 'who': 469,\n",
              " 'resumed': 470,\n",
              " 'stopped': 471,\n",
              " 'previously': 472,\n",
              " 'year': 473,\n",
              " 'reassessed': 474,\n",
              " 'decisions': 475,\n",
              " 'obtained': 476,\n",
              " 'medical': 477,\n",
              " 'neuropsychological': 478,\n",
              " 'onroad': 479,\n",
              " 'tests': 480,\n",
              " 'assessments': 481,\n",
              " 'outcome': 482,\n",
              " 'measures': 483,\n",
              " 'decision': 484,\n",
              " 'current': 485,\n",
              " 'status': 486,\n",
              " 'fit': 487,\n",
              " 'drive': 488,\n",
              " 'drivers': 489,\n",
              " 'younger': 490,\n",
              " 'had': 491,\n",
              " 'higher': 492,\n",
              " 'barthel': 493,\n",
              " 'comorbidity': 494,\n",
              " 'severely': 495,\n",
              " 'depressed': 496,\n",
              " 'those': 497,\n",
              " 'gave': 498,\n",
              " 'up': 499,\n",
              " 'advantage': 500,\n",
              " 'simulatorbased': 501,\n",
              " 'evident': 502,\n",
              " 'faded': 503,\n",
              " 'later': 504,\n",
              " 'affected': 505,\n",
              " 'nondrivers': 506,\n",
              " 'insecticidetreated': 507,\n",
              " 'bednets': 508,\n",
              " 'itns': 509,\n",
              " 'contribute': 510,\n",
              " 'survival': 511,\n",
              " 'has': 512,\n",
              " 'documented': 513,\n",
              " 'trials': 514,\n",
              " 'itn': 515,\n",
              " 'coverage': 516,\n",
              " 'rapidly': 517,\n",
              " 'kenya': 518,\n",
              " 'aimed': 519,\n",
              " 'assess': 520,\n",
              " 'extent': 521,\n",
              " 'investment': 522,\n",
              " 'led': 523,\n",
              " 'improvements': 524,\n",
              " 'dynamic': 525,\n",
              " 'cohort': 526,\n",
              " 'aged': 527,\n",
              " 'enumerated': 528,\n",
              " 'yearly': 529,\n",
              " 'intervals': 530,\n",
              " 'rural': 531,\n",
              " 'clusters': 532,\n",
              " 'located': 533,\n",
              " 'districts': 534,\n",
              " 'mortality': 535,\n",
              " 'assessed': 536,\n",
              " 'poisson': 537,\n",
              " 'regression': 538,\n",
              " 'account': 539,\n",
              " 'effectmodifying': 540,\n",
              " 'confounding': 541,\n",
              " 'covariates': 542,\n",
              " 'died': 543,\n",
              " 'overall': 544,\n",
              " 'rates': 545,\n",
              " 'much': 546,\n",
              " 'same': 547,\n",
              " 'personyears': 548,\n",
              " 'age': 549,\n",
              " 'time': 550,\n",
              " 'number': 551,\n",
              " 'other': 552,\n",
              " 'possible': 553,\n",
              " 'variables': 554,\n",
              " 'reduction': 555,\n",
              " 'rate': 556,\n",
              " 'ratio': 557,\n",
              " 'ci': 558,\n",
              " 'protection': 559,\n",
              " 'corresponds': 560,\n",
              " 'deaths': 561,\n",
              " 'averted': 562,\n",
              " 'every': 563,\n",
              " 'distributed': 564,\n",
              " 'combined': 565,\n",
              " 'marketing': 566,\n",
              " 'followed': 567,\n",
              " 'mass': 568,\n",
              " 'free': 569,\n",
              " 'distribution': 570,\n",
              " 'translated': 571,\n",
              " 'seen': 572,\n",
              " 'previous': 573,\n",
              " 'cortical': 574,\n",
              " 'stimulation': 575,\n",
              " 'mapping': 576,\n",
              " 'csm': 577,\n",
              " 'commonly': 578,\n",
              " 'naming': 579,\n",
              " 'resection': 580,\n",
              " 'margins': 581,\n",
              " 'dominant': 582,\n",
              " 'hemisphere': 583,\n",
              " 'epilepsy': 584,\n",
              " 'alone': 585,\n",
              " 'may': 586,\n",
              " 'identify': 587,\n",
              " 'language': 588,\n",
              " 'sites': 589,\n",
              " 'resectionprone': 590,\n",
              " 'areas': 591,\n",
              " 'prompting': 592,\n",
              " 'additional': 593,\n",
              " 'tasks': 594,\n",
              " 'comprehensive': 595,\n",
              " 'demonstrate': 596,\n",
              " 'wordfinding': 597,\n",
              " 'distinctions': 598,\n",
              " 'auditory': 599,\n",
              " 'reading': 600,\n",
              " 'modalities': 601,\n",
              " 'percentage': 602,\n",
              " 'modalityspecific': 603,\n",
              " 'within': 604,\n",
              " 'subregions': 605,\n",
              " 'twentyeight': 606,\n",
              " 'underwent': 607,\n",
              " 'sentencecompletion': 608,\n",
              " 'hierarchical': 609,\n",
              " 'logistic': 610,\n",
              " 'analyzed': 611,\n",
              " 'errors': 612,\n",
              " 'percentages': 613,\n",
              " 'classified': 614,\n",
              " 'high': 615,\n",
              " 'anterior': 616,\n",
              " 'temporal': 617,\n",
              " 'regions': 618,\n",
              " 'marginally': 619,\n",
              " 'posterior': 620,\n",
              " 'parietal': 621,\n",
              " 'sentence': 622,\n",
              " 'tested': 623,\n",
              " 'distinctly': 624,\n",
              " 'whereas': 625,\n",
              " 'remaining': 626,\n",
              " 'overlapped': 627,\n",
              " 'distinct': 628,\n",
              " 'input': 629,\n",
              " 'tip': 630,\n",
              " 'often': 631,\n",
              " 'vulnerability': 632,\n",
              " 'population': 633,\n",
              " 'modality': 634,\n",
              " 'suggest': 635,\n",
              " 'multimodality': 636,\n",
              " 'needed': 637,\n",
              " 'spare': 638,\n",
              " 'crucial': 639,\n",
              " 'if': 640,\n",
              " 'sparing': 641,\n",
              " 'can': 642,\n",
              " 'shown': 643,\n",
              " 'reduce': 644,\n",
              " 'deficits': 645,\n",
              " 'without': 646,\n",
              " 'sacrificing': 647,\n",
              " 'seizure': 648,\n",
              " 'suppressive': 649,\n",
              " 'acyclovir': 650,\n",
              " 'given': 651,\n",
              " 'term': 652,\n",
              " 'gravidas': 653,\n",
              " 'experiencing': 654,\n",
              " 'episode': 655,\n",
              " 'genital': 656,\n",
              " 'herpes': 657,\n",
              " 'simplex': 658,\n",
              " 'virus': 659,\n",
              " 'hsv': 660,\n",
              " 'infection': 661,\n",
              " 'pregnancy': 662,\n",
              " 'decreases': 663,\n",
              " 'need': 664,\n",
              " 'cesarean': 665,\n",
              " 'delivery': 666,\n",
              " 'indication': 667,\n",
              " 'fortysix': 668,\n",
              " 'pregnant': 669,\n",
              " 'episodes': 670,\n",
              " 'receive': 671,\n",
              " 'placebo': 672,\n",
              " 'day': 673,\n",
              " 'gestation': 674,\n",
              " 'until': 675,\n",
              " 'part': 676,\n",
              " 'doubleblind': 677,\n",
              " 'cultures': 678,\n",
              " 'presented': 679,\n",
              " 'vaginal': 680,\n",
              " 'permitted': 681,\n",
              " 'recurrence': 682,\n",
              " 'present': 683,\n",
              " 'otherwise': 684,\n",
              " 'neonatal': 685,\n",
              " 'infants': 686,\n",
              " 'followedup': 687,\n",
              " 'clinically': 688,\n",
              " 'none': 689,\n",
              " 'nine': 690,\n",
              " 'recurrent': 691,\n",
              " 'odds': 692,\n",
              " 'interval': 693,\n",
              " 'woman': 694,\n",
              " 'patient': 695,\n",
              " 'experienced': 696,\n",
              " 'asymptomatic': 697,\n",
              " 'viral': 698,\n",
              " 'shedding': 699,\n",
              " 'neonate': 700,\n",
              " 'reduced': 701,\n",
              " 'occurred': 702,\n",
              " 'harmful': 703,\n",
              " 'fetus': 704,\n",
              " 'compare': 705,\n",
              " 'tolerance': 706,\n",
              " 'amphotericin': 707,\n",
              " 'deoxycholate': 708,\n",
              " 'fungizone': 709,\n",
              " 'prepared': 710,\n",
              " 'parenteral': 711,\n",
              " 'fat': 712,\n",
              " 'emulsion': 713,\n",
              " 'intralipid': 714,\n",
              " 'glucose': 715,\n",
              " 'candidiasis': 716,\n",
              " 'nonblind': 717,\n",
              " 'university': 718,\n",
              " 'tertiary': 719,\n",
              " 'mgkgday': 720,\n",
              " 'infusion': 721,\n",
              " 'dissolved': 722,\n",
              " 'amphotericinglucose': 723,\n",
              " 'final': 724,\n",
              " 'concentration': 725,\n",
              " 'gl': 726,\n",
              " 'amphotericinfat': 727,\n",
              " 'fever': 728,\n",
              " 'chills': 729,\n",
              " 'sweats': 730,\n",
              " 'arterial': 731,\n",
              " 'pulse': 732,\n",
              " 'biological': 733,\n",
              " 'creatinine': 734,\n",
              " 'electrolyte': 735,\n",
              " 'magnesium': 736,\n",
              " 'enrolled': 737,\n",
              " 'infusions': 738,\n",
              " 'serious': 739,\n",
              " 'problem': 740,\n",
              " 'because': 741,\n",
              " 'renal': 742,\n",
              " 'impairment': 743,\n",
              " 'severe': 744,\n",
              " 'completing': 745,\n",
              " 'creatine': 746,\n",
              " 'mumoll': 747,\n",
              " 'least': 748,\n",
              " 'receiving': 749,\n",
              " 'fell': 750,\n",
              " 'noted': 751,\n",
              " 'similarly': 752,\n",
              " 'volume': 753,\n",
              " 'drug': 754,\n",
              " 'toxicity': 755,\n",
              " 'preparation': 756,\n",
              " 'simple': 757,\n",
              " 'cost': 758,\n",
              " 'its': 759,\n",
              " 'conventional': 760,\n",
              " 'atrial': 761,\n",
              " 'fibrillation': 762,\n",
              " 'af': 763,\n",
              " 'become': 764,\n",
              " 'main': 765,\n",
              " 'knowledge': 766,\n",
              " 'different': 767,\n",
              " 'used': 768,\n",
              " 'purpose': 769,\n",
              " 'ratereducing': 770,\n",
              " 'exercise': 771,\n",
              " 'capacity': 772,\n",
              " 'nterminal': 773,\n",
              " 'probtype': 774,\n",
              " 'natriuretic': 775,\n",
              " 'peptide': 776,\n",
              " 'ntprobnp': 777,\n",
              " 'permanent': 778,\n",
              " 'normal': 779,\n",
              " 'left': 780,\n",
              " 'ventricular': 781,\n",
              " 'function': 782,\n",
              " 'investigatorblind': 783,\n",
              " 'diltiazem': 784,\n",
              " 'verapamil': 785,\n",
              " 'metoprolol': 786,\n",
              " 'carvedilol': 787,\n",
              " 'od': 788,\n",
              " 'last': 789,\n",
              " 'maximal': 790,\n",
              " 'cardiopulmonary': 791,\n",
              " 'test': 792,\n",
              " 'peak': 793,\n",
              " 'vo': 794,\n",
              " 'preserved': 795,\n",
              " 'postexposure': 796,\n",
              " 'prophylaxis': 797,\n",
              " 'rabies': 798,\n",
              " 'cell': 799,\n",
              " 'culture': 800,\n",
              " 'vaccines': 801,\n",
              " 'intramuscular': 802,\n",
              " 'regimen': 803,\n",
              " 'very': 804,\n",
              " 'expensive': 805,\n",
              " 'world': 806,\n",
              " 'organization': 807,\n",
              " 'advocated': 808,\n",
              " 'costeffective': 809,\n",
              " 'intradermal': 810,\n",
              " 'regimens': 811,\n",
              " 'developing': 812,\n",
              " 'countries': 813,\n",
              " 'evaluated': 814,\n",
              " 'these': 815,\n",
              " 'terms': 816,\n",
              " 'immunogenicity': 817,\n",
              " 'category': 818,\n",
              " 'eightytwo': 819,\n",
              " 'immunized': 820,\n",
              " 'purified': 821,\n",
              " 'chick': 822,\n",
              " 'embryo': 823,\n",
              " 'vaccine': 824,\n",
              " 'consisted': 825,\n",
              " 'mouse': 826,\n",
              " 'neutralization': 827,\n",
              " 'estimate': 828,\n",
              " 'titres': 829,\n",
              " 'neutralizing': 830,\n",
              " 'antibody': 831,\n",
              " 'vaccination': 832,\n",
              " 'produced': 833,\n",
              " 'adequate': 834,\n",
              " 'onwards': 835,\n",
              " 'though': 836,\n",
              " 'rapid': 837,\n",
              " 'response': 838,\n",
              " 'minimal': 839,\n",
              " 'sideeffects': 840,\n",
              " 'tolerated': 841,\n",
              " 'produce': 842,\n",
              " 'antibodies': 843,\n",
              " 'appears': 844,\n",
              " 'immunogenic': 845,\n",
              " 'feasibility': 846,\n",
              " 'routine': 847,\n",
              " 'practice': 848,\n",
              " 'needs': 849,\n",
              " 'under': 850,\n",
              " 'field': 851,\n",
              " 'conditions': 852,\n",
              " 'prevalent': 853,\n",
              " 'india': 854,\n",
              " 'discretechoice': 855,\n",
              " 'experiments': 856,\n",
              " 'premise': 857,\n",
              " 'any': 858,\n",
              " 'good': 859,\n",
              " 'service': 860,\n",
              " 'described': 861,\n",
              " 'attributes': 862,\n",
              " 'individual': 863,\n",
              " 'depends': 864,\n",
              " 'little': 865,\n",
              " 'known': 866,\n",
              " 'preferences': 867,\n",
              " 'musculoskeletal': 868,\n",
              " 'such': 869,\n",
              " 'achilles': 870,\n",
              " 'tendinopathy': 871,\n",
              " 'experiment': 872,\n",
              " 'adults': 873,\n",
              " 'history': 874,\n",
              " 'tendon': 875,\n",
              " 'conclusion': 876,\n",
              " 'threearm': 877,\n",
              " 'asked': 878,\n",
              " 'complete': 879,\n",
              " 'questionnaire': 880,\n",
              " 'consisting': 881,\n",
              " 'ten': 882,\n",
              " 'hypothetical': 883,\n",
              " 'scenarios': 884,\n",
              " 'some': 885,\n",
              " 'sociodemographic': 886,\n",
              " 'questions': 887,\n",
              " 'scenario': 888,\n",
              " 'choose': 889,\n",
              " 'option': 890,\n",
              " 'would': 891,\n",
              " 'prefer': 892,\n",
              " 'seeking': 893,\n",
              " 'painful': 894,\n",
              " 'mixed': 895,\n",
              " 'logit': 896,\n",
              " 'model': 897,\n",
              " 'quantify': 898,\n",
              " 'subject': 899,\n",
              " 'marginal': 900,\n",
              " 'willingness': 901,\n",
              " 'pay': 902,\n",
              " 'achieved': 903,\n",
              " 'impact': 904,\n",
              " 'utility': 905,\n",
              " 'chance': 906,\n",
              " 'success': 907,\n",
              " 'negative': 908,\n",
              " 'injections': 909,\n",
              " 'standalone': 910,\n",
              " 'respondents': 911,\n",
              " 'willing': 912,\n",
              " 'australian': 913,\n",
              " 'dollars': 914,\n",
              " 'participated': 915,\n",
              " 'expressed': 916,\n",
              " 'interest': 917,\n",
              " 'participating': 918,\n",
              " 'costs': 919,\n",
              " 'greater': 920,\n",
              " 'shorter': 921,\n",
              " 'duration': 922,\n",
              " 'being': 923,\n",
              " 'able': 924,\n",
              " 'likelihood': 925,\n",
              " 'average': 926,\n",
              " 'preferred': 927,\n",
              " 'exercises': 928,\n",
              " 'research': 929,\n",
              " 'confirm': 930,\n",
              " 'findings': 931,\n",
              " 'outside': 932,\n",
              " 'setting': 933,\n",
              " 'nevertheless': 934,\n",
              " 'contributes': 935,\n",
              " 'area': 936,\n",
              " 'deficient': 937,\n",
              " 'identifying': 938,\n",
              " 'priorities': 939,\n",
              " 'prasugrel': 940,\n",
              " 'plus': 941,\n",
              " 'bivalirudin': 942,\n",
              " 'superior': 943,\n",
              " 'strategy': 944,\n",
              " 'unfractionated': 945,\n",
              " 'heparin': 946,\n",
              " 'clopidogrel': 947,\n",
              " 'stsegment': 948,\n",
              " 'elevation': 949,\n",
              " 'myocardial': 950,\n",
              " 'infarction': 951,\n",
              " 'stemi': 952,\n",
              " 'undergoing': 953,\n",
              " 'percutaneous': 954,\n",
              " 'coronary': 955,\n",
              " 'pci': 956,\n",
              " 'never': 957,\n",
              " 'specifically': 958,\n",
              " 'bavarian': 959,\n",
              " 'reperfusion': 960,\n",
              " 'brave': 961,\n",
              " 'investigatorinitiated': 962,\n",
              " 'openlabel': 963,\n",
              " 'multicentre': 964,\n",
              " 'hypothesis': 965,\n",
              " 'planned': 966,\n",
              " 'net': 967,\n",
              " 'owing': 968,\n",
              " 'slow': 969,\n",
              " 'recruitment': 970,\n",
              " 'prematurely': 971,\n",
              " 'enrolment': 972,\n",
              " 'composite': 973,\n",
              " 'endpoint': 974,\n",
              " 'death': 975,\n",
              " 'unplanned': 976,\n",
              " 'revascularization': 977,\n",
              " 'infarct': 978,\n",
              " 'artery': 979,\n",
              " 'stent': 980,\n",
              " 'thrombosis': 981,\n",
              " 'bleeding': 982,\n",
              " 'risk': 983,\n",
              " 'onesided': 984,\n",
              " 'ischaemic': 985,\n",
              " 'infarctrelated': 986,\n",
              " 'horizonsami': 987,\n",
              " 'definition': 988,\n",
              " 'various': 989,\n",
              " 'subgroups': 990,\n",
              " 'unable': 991,\n",
              " 'neither': 992,\n",
              " 'nor': 993,\n",
              " 'favourably': 994,\n",
              " 'must': 995,\n",
              " 'interpreted': 996,\n",
              " 'view': 997,\n",
              " 'premature': 998,\n",
              " 'termination': 999,\n",
              " ...}"
            ]
          },
          "metadata": {},
          "execution_count": 11
        }
      ]
    },
    {
      "cell_type": "markdown",
      "source": [
        "<h3> Constructing integer arrays from the computed vocab. </h3>"
      ],
      "metadata": {
        "id": "h7GLrAqtYQue"
      }
    },
    {
      "cell_type": "code",
      "source": [
        "text_arrays = VOCAB.nums_from_text(combined_vocab)"
      ],
      "metadata": {
        "colab": {
          "base_uri": "https://localhost:8080/"
        },
        "id": "Fw8NLudghbqA",
        "outputId": "70557f16-c800-4398-ecc7-7fbb98c8c4d5"
      },
      "execution_count": null,
      "outputs": [
        {
          "output_type": "stream",
          "name": "stderr",
          "text": [
            "240387it [00:53, 4477.98it/s]\n"
          ]
        }
      ]
    },
    {
      "cell_type": "code",
      "source": [
        "text_arrays"
      ],
      "metadata": {
        "colab": {
          "base_uri": "https://localhost:8080/"
        },
        "id": "5bOhdgdzjJ75",
        "outputId": "93e5c73a-9d42-4bc7-f9f9-168e47639e7f"
      },
      "execution_count": null,
      "outputs": [
        {
          "output_type": "execute_result",
          "data": {
            "text/plain": [
              "array([[  17,  465,    2, ...,    0,    0,    0],\n",
              "       [   7,  138,    4, ...,    0,    0,    0],\n",
              "       [ 482,  483,  144, ...,    0,    0,    0],\n",
              "       ...,\n",
              "       [ 186,  124,  187, ...,    0,    0,    0],\n",
              "       [ 187,  199,  202, ...,    0,    0,    0],\n",
              "       [3340,    7,   85, ...,    0,    0,    0]])"
            ]
          },
          "metadata": {},
          "execution_count": 35
        }
      ]
    },
    {
      "cell_type": "markdown",
      "source": [
        "<h2><b>2.3</b> Splitting the array back into train, val, and test sets."
      ],
      "metadata": {
        "id": "HpOuhxpBYhlf"
      }
    },
    {
      "cell_type": "code",
      "source": [
        "x_train = text_arrays[:len(train_set)]\n",
        "x_val = text_arrays[len(train_set):len(train_set)+len(val_set)]\n",
        "x_test = text_arrays[len(train_set)+len(val_set):]"
      ],
      "metadata": {
        "id": "mrmfuzDcjeL_"
      },
      "execution_count": null,
      "outputs": []
    },
    {
      "cell_type": "markdown",
      "source": [
        "<h2><b>2.4</b> Converting the labels into one-hot encoded vectors for building multi-class classification models. </h2>"
      ],
      "metadata": {
        "id": "bPXG1ZJSYtoQ"
      }
    },
    {
      "cell_type": "code",
      "source": [
        "import tensorflow.keras as tfk\n",
        "\n",
        "y_train = tfk.utils.to_categorical(labels_array_train)\n",
        "y_val = tfk.utils.to_categorical(labels_array_val)\n",
        "y_test = tfk.utils.to_categorical(labels_array_test)"
      ],
      "metadata": {
        "id": "tle-wRMv5pYt"
      },
      "execution_count": null,
      "outputs": []
    },
    {
      "cell_type": "markdown",
      "source": [
        "<h2><b>2.5</b> Packaging the data into a 128-batched TF dataset.</h2>"
      ],
      "metadata": {
        "id": "kRoOPZ4oZK9n"
      }
    },
    {
      "cell_type": "code",
      "source": [
        "import tensorflow as tf\n",
        "\n",
        "tf_train = tf.data.Dataset.from_tensor_slices((x_train, y_train))\n",
        "tf_val = tf.data.Dataset.from_tensor_slices((x_val, y_val))\n",
        "tf_test = tf.data.Dataset.from_tensor_slices((x_test, y_test))\n",
        "\n",
        "tf_train = tf_train.batch(128).prefetch(tf.data.AUTOTUNE)\n",
        "tf_val = tf_val.batch(128).prefetch(tf.data.AUTOTUNE)\n",
        "tf_test = tf_test.batch(128).prefetch(tf.data.AUTOTUNE)"
      ],
      "metadata": {
        "id": "oittSy-J6A0c"
      },
      "execution_count": null,
      "outputs": []
    },
    {
      "cell_type": "markdown",
      "source": [
        "<h3> A helper function, used to visualize the training process. </h3>"
      ],
      "metadata": {
        "id": "SeG3oAzIRpnR"
      }
    },
    {
      "cell_type": "code",
      "source": [
        "import matplotlib.pyplot as plt\n",
        "from matplotlib.pyplot import figure\n",
        "\n",
        "def plot_hist(hist):\n",
        "    figure(figsize=(16, 5), dpi=100)\n",
        "    plt.subplot(1,3,1)\n",
        "    plt.plot(hist.history['accuracy'])\n",
        "    plt.plot(hist.history['val_accuracy'])\n",
        "    plt.ylabel('accuracy')\n",
        "    plt.xlabel('epoch')\n",
        "    plt.title('Accuracy measurements')\n",
        "    plt.legend(['train', 'val'], loc='lower right')\n",
        "    plt.subplot(1,3,2)\n",
        "    plt.plot(hist.history['loss'])\n",
        "    plt.plot(hist.history['val_loss'])\n",
        "    plt.ylabel('loss')\n",
        "    plt.xlabel('epoch')\n",
        "    plt.title(\"Model's losses over time\")\n",
        "    plt.legend(['train', 'val'], loc='upper right')\n",
        "    plt.show()\n",
        "\n"
      ],
      "metadata": {
        "id": "2Vi9IYHOTKkI"
      },
      "execution_count": null,
      "outputs": []
    },
    {
      "cell_type": "markdown",
      "source": [
        "<h2><b>3.1</b> The constructor function used to create a 1-D convolutional network, given some parameters.</h2>"
      ],
      "metadata": {
        "id": "n7O2YuajZozj"
      }
    },
    {
      "cell_type": "code",
      "source": [
        "import tensorflow.keras as tfk\n",
        "from keras.regularizers import l2 as f_l2\n",
        "\n",
        "def build_conv(num_layers=1, emb_dim=128, filters=32, kernel_size=5, drop_rate=0.0, l2=None, dense_neurons=None, add_batch_norm=False, summary=False):\n",
        "\n",
        "    model = tfk.Sequential()\n",
        "\n",
        "    model.add(tfk.layers.Embedding(input_dim = len(VOCAB.tok2idx), output_dim = emb_dim, input_length=MAX_LEN))\n",
        "\n",
        "    for _ in range(num_layers):\n",
        "        model.add(tfk.layers.Conv1D(filters, kernel_size=kernel_size, padding='same', activation='relu', kernel_regularizer=f_l2(l2)))\n",
        "        model.add(tfk.layers.Dropout(drop_rate))\n",
        "        if add_batch_norm:\n",
        "            model.add(tfk.layers.BatchNormalization())\n",
        "\n",
        "    model.add(tfk.layers.GlobalAveragePooling1D())\n",
        "\n",
        "    if dense_neurons is not None:\n",
        "        model.add(tfk.layers.Dense(dense_neurons, kernel_regularizer=f_l2(l2)))\n",
        "        model.add(tfk.layers.Dropout(drop_rate))\n",
        "\n",
        "    model.add(tfk.layers.Dense(NUM_CLASSES, activation='softmax'))\n",
        "    model.compile(\n",
        "        loss='categorical_crossentropy',\n",
        "        optimizer='Adam',\n",
        "        metrics=['accuracy']\n",
        "    )\n",
        "\n",
        "    if summary:\n",
        "        model.summary()\n",
        "\n",
        "    return model"
      ],
      "metadata": {
        "id": "LR-hzCikuVmY"
      },
      "execution_count": null,
      "outputs": []
    },
    {
      "cell_type": "markdown",
      "source": [
        "<h2><b>3.2</b> Investigating the initial architechture <i>num_layers=1, emb_dim=128, filters=32, kernel_size=4, drop_rate=0.0, l2=None, dense_neurons=None, add_batch_norm=False</i>.</h2>"
      ],
      "metadata": {
        "id": "oY6_6aE0aJvH"
      }
    },
    {
      "cell_type": "code",
      "source": [
        "conv_model = build_conv(num_layers=1, filters=32, kernel_size=4, summary=True)"
      ],
      "metadata": {
        "colab": {
          "base_uri": "https://localhost:8080/"
        },
        "id": "DWgPZzQRMfnO",
        "outputId": "f389f814-0465-46de-90db-0db0a5be22d4"
      },
      "execution_count": null,
      "outputs": [
        {
          "output_type": "stream",
          "name": "stdout",
          "text": [
            "Model: \"sequential\"\n",
            "_________________________________________________________________\n",
            " Layer (type)                Output Shape              Param #   \n",
            "=================================================================\n",
            " embedding (Embedding)       (None, 55, 128)           32210560  \n",
            "                                                                 \n",
            " conv1d (Conv1D)             (None, 55, 32)            16416     \n",
            "                                                                 \n",
            " dropout (Dropout)           (None, 55, 32)            0         \n",
            "                                                                 \n",
            " global_average_pooling1d (G  (None, 32)               0         \n",
            " lobalAveragePooling1D)                                          \n",
            "                                                                 \n",
            " dense (Dense)               (None, 5)                 165       \n",
            "                                                                 \n",
            "=================================================================\n",
            "Total params: 32,227,141\n",
            "Trainable params: 32,227,141\n",
            "Non-trainable params: 0\n",
            "_________________________________________________________________\n"
          ]
        }
      ]
    },
    {
      "cell_type": "markdown",
      "source": [
        "<h3>Start with 5 epochs...</h3>"
      ],
      "metadata": {
        "id": "_oXYCK0faZC1"
      }
    },
    {
      "cell_type": "code",
      "source": [
        "conv_hist_0 = conv_model.fit(tf_train, epochs = 5, validation_data = tf_val)"
      ],
      "metadata": {
        "colab": {
          "base_uri": "https://localhost:8080/"
        },
        "id": "IgGmjPrc7aBe",
        "outputId": "a937ad37-fab9-4772-d0ed-d5f37747eaa4"
      },
      "execution_count": null,
      "outputs": [
        {
          "output_type": "stream",
          "name": "stdout",
          "text": [
            "Epoch 1/5\n",
            "1407/1407 [==============================] - 69s 42ms/step - loss: 0.9588 - accuracy: 0.6637 - val_loss: 0.7397 - val_accuracy: 0.7472\n",
            "Epoch 2/5\n",
            "1407/1407 [==============================] - 16s 12ms/step - loss: 0.6853 - accuracy: 0.7649 - val_loss: 0.6734 - val_accuracy: 0.7646\n",
            "Epoch 3/5\n",
            "1407/1407 [==============================] - 16s 12ms/step - loss: 0.6231 - accuracy: 0.7886 - val_loss: 0.6511 - val_accuracy: 0.7722\n",
            "Epoch 4/5\n",
            "1407/1407 [==============================] - 16s 12ms/step - loss: 0.5849 - accuracy: 0.8056 - val_loss: 0.6403 - val_accuracy: 0.7795\n",
            "Epoch 5/5\n",
            "1407/1407 [==============================] - 16s 12ms/step - loss: 0.5559 - accuracy: 0.8184 - val_loss: 0.6358 - val_accuracy: 0.7838\n"
          ]
        }
      ]
    },
    {
      "cell_type": "markdown",
      "source": [
        "<h3>Then 10...</h3>"
      ],
      "metadata": {
        "id": "saSCN7_uaeKS"
      }
    },
    {
      "cell_type": "code",
      "source": [
        "conv_model = build_conv(num_layers=1, filters=32, kernel_size=4, summary=True)"
      ],
      "metadata": {
        "colab": {
          "base_uri": "https://localhost:8080/"
        },
        "id": "ajOXf1aZ5I_j",
        "outputId": "30caa31a-2a7e-4fce-ed72-4b498e0b2879"
      },
      "execution_count": null,
      "outputs": [
        {
          "output_type": "stream",
          "name": "stdout",
          "text": [
            "Model: \"sequential_2\"\n",
            "_________________________________________________________________\n",
            " Layer (type)                Output Shape              Param #   \n",
            "=================================================================\n",
            " embedding_2 (Embedding)     (None, 55, 128)           32210560  \n",
            "                                                                 \n",
            " conv1d_2 (Conv1D)           (None, 55, 32)            16416     \n",
            "                                                                 \n",
            " dropout_2 (Dropout)         (None, 55, 32)            0         \n",
            "                                                                 \n",
            " global_average_pooling1d_2   (None, 32)               0         \n",
            " (GlobalAveragePooling1D)                                        \n",
            "                                                                 \n",
            " dense_2 (Dense)             (None, 5)                 165       \n",
            "                                                                 \n",
            "=================================================================\n",
            "Total params: 32,227,141\n",
            "Trainable params: 32,227,141\n",
            "Non-trainable params: 0\n",
            "_________________________________________________________________\n"
          ]
        }
      ]
    },
    {
      "cell_type": "code",
      "source": [
        "conv_hist_1 = conv_model.fit(tf_train, epochs = 10, validation_data = tf_val)"
      ],
      "metadata": {
        "colab": {
          "base_uri": "https://localhost:8080/"
        },
        "id": "QxEuxiP4HmM_",
        "outputId": "907c0fcc-f100-4068-fed9-67c98d289ab2"
      },
      "execution_count": null,
      "outputs": [
        {
          "output_type": "stream",
          "name": "stdout",
          "text": [
            "Epoch 1/10\n",
            "1407/1407 [==============================] - 45s 31ms/step - loss: 0.9608 - accuracy: 0.6630 - val_loss: 0.7447 - val_accuracy: 0.7472\n",
            "Epoch 2/10\n",
            "1407/1407 [==============================] - 17s 12ms/step - loss: 0.6897 - accuracy: 0.7659 - val_loss: 0.6740 - val_accuracy: 0.7669\n",
            "Epoch 3/10\n",
            "1407/1407 [==============================] - 16s 12ms/step - loss: 0.6252 - accuracy: 0.7909 - val_loss: 0.6486 - val_accuracy: 0.7777\n",
            "Epoch 4/10\n",
            "1407/1407 [==============================] - 17s 12ms/step - loss: 0.5859 - accuracy: 0.8075 - val_loss: 0.6370 - val_accuracy: 0.7824\n",
            "Epoch 5/10\n",
            "1407/1407 [==============================] - 17s 12ms/step - loss: 0.5559 - accuracy: 0.8200 - val_loss: 0.6304 - val_accuracy: 0.7865\n",
            "Epoch 6/10\n",
            "1407/1407 [==============================] - 17s 12ms/step - loss: 0.5307 - accuracy: 0.8301 - val_loss: 0.6264 - val_accuracy: 0.7899\n",
            "Epoch 7/10\n",
            "1407/1407 [==============================] - 17s 12ms/step - loss: 0.5081 - accuracy: 0.8396 - val_loss: 0.6244 - val_accuracy: 0.7922\n",
            "Epoch 8/10\n",
            "1407/1407 [==============================] - 16s 12ms/step - loss: 0.4871 - accuracy: 0.8479 - val_loss: 0.6243 - val_accuracy: 0.7928\n",
            "Epoch 9/10\n",
            "1407/1407 [==============================] - 17s 12ms/step - loss: 0.4670 - accuracy: 0.8567 - val_loss: 0.6263 - val_accuracy: 0.7940\n",
            "Epoch 10/10\n",
            "1407/1407 [==============================] - 17s 12ms/step - loss: 0.4475 - accuracy: 0.8652 - val_loss: 0.6304 - val_accuracy: 0.7940\n"
          ]
        }
      ]
    },
    {
      "cell_type": "code",
      "source": [
        "conv_model = build_conv(num_layers=1, filters=32, kernel_size=4, summary=True)"
      ],
      "metadata": {
        "colab": {
          "base_uri": "https://localhost:8080/"
        },
        "id": "lZI34eGzjo6a",
        "outputId": "bb8ab471-9500-443b-f49b-26585b102330"
      },
      "execution_count": null,
      "outputs": [
        {
          "output_type": "stream",
          "name": "stdout",
          "text": [
            "Model: \"sequential_3\"\n",
            "_________________________________________________________________\n",
            " Layer (type)                Output Shape              Param #   \n",
            "=================================================================\n",
            " embedding_3 (Embedding)     (None, 55, 128)           32210560  \n",
            "                                                                 \n",
            " conv1d_3 (Conv1D)           (None, 55, 32)            16416     \n",
            "                                                                 \n",
            " dropout_3 (Dropout)         (None, 55, 32)            0         \n",
            "                                                                 \n",
            " global_average_pooling1d_3   (None, 32)               0         \n",
            " (GlobalAveragePooling1D)                                        \n",
            "                                                                 \n",
            " dense_3 (Dense)             (None, 5)                 165       \n",
            "                                                                 \n",
            "=================================================================\n",
            "Total params: 32,227,141\n",
            "Trainable params: 32,227,141\n",
            "Non-trainable params: 0\n",
            "_________________________________________________________________\n"
          ]
        }
      ]
    },
    {
      "cell_type": "markdown",
      "source": [
        "<h3>Finally, 15.</h3>"
      ],
      "metadata": {
        "id": "lEzXFMOLavsD"
      }
    },
    {
      "cell_type": "code",
      "source": [
        "conv_hist_2 = conv_model.fit(tf_train, epochs = 15, validation_data = tf_val)"
      ],
      "metadata": {
        "colab": {
          "base_uri": "https://localhost:8080/"
        },
        "id": "q9D97td5jsoT",
        "outputId": "2fa671ec-617e-4afd-c289-72b62a437325"
      },
      "execution_count": null,
      "outputs": [
        {
          "output_type": "stream",
          "name": "stdout",
          "text": [
            "Epoch 1/15\n",
            "1407/1407 [==============================] - 45s 31ms/step - loss: 0.9542 - accuracy: 0.6657 - val_loss: 0.7452 - val_accuracy: 0.7450\n",
            "Epoch 2/15\n",
            "1407/1407 [==============================] - 17s 12ms/step - loss: 0.6885 - accuracy: 0.7639 - val_loss: 0.6760 - val_accuracy: 0.7640\n",
            "Epoch 3/15\n",
            "1407/1407 [==============================] - 17s 12ms/step - loss: 0.6270 - accuracy: 0.7870 - val_loss: 0.6510 - val_accuracy: 0.7715\n",
            "Epoch 4/15\n",
            "1407/1407 [==============================] - 17s 12ms/step - loss: 0.5890 - accuracy: 0.8031 - val_loss: 0.6395 - val_accuracy: 0.7776\n",
            "Epoch 5/15\n",
            "1407/1407 [==============================] - 18s 12ms/step - loss: 0.5600 - accuracy: 0.8164 - val_loss: 0.6340 - val_accuracy: 0.7830\n",
            "Epoch 6/15\n",
            "1407/1407 [==============================] - 16s 12ms/step - loss: 0.5357 - accuracy: 0.8264 - val_loss: 0.6319 - val_accuracy: 0.7848\n",
            "Epoch 7/15\n",
            "1407/1407 [==============================] - 16s 12ms/step - loss: 0.5142 - accuracy: 0.8352 - val_loss: 0.6320 - val_accuracy: 0.7875\n",
            "Epoch 8/15\n",
            "1407/1407 [==============================] - 20s 15ms/step - loss: 0.4944 - accuracy: 0.8436 - val_loss: 0.6338 - val_accuracy: 0.7888\n",
            "Epoch 9/15\n",
            "1407/1407 [==============================] - 17s 12ms/step - loss: 0.4750 - accuracy: 0.8523 - val_loss: 0.6370 - val_accuracy: 0.7896\n",
            "Epoch 10/15\n",
            "1407/1407 [==============================] - 17s 12ms/step - loss: 0.4557 - accuracy: 0.8616 - val_loss: 0.6415 - val_accuracy: 0.7904\n",
            "Epoch 11/15\n",
            "1407/1407 [==============================] - 17s 12ms/step - loss: 0.4362 - accuracy: 0.8706 - val_loss: 0.6480 - val_accuracy: 0.7899\n",
            "Epoch 12/15\n",
            "1407/1407 [==============================] - 17s 12ms/step - loss: 0.4168 - accuracy: 0.8796 - val_loss: 0.6562 - val_accuracy: 0.7890\n",
            "Epoch 13/15\n",
            "1407/1407 [==============================] - 17s 12ms/step - loss: 0.3976 - accuracy: 0.8887 - val_loss: 0.6657 - val_accuracy: 0.7878\n",
            "Epoch 14/15\n",
            "1407/1407 [==============================] - 18s 12ms/step - loss: 0.3788 - accuracy: 0.8964 - val_loss: 0.6765 - val_accuracy: 0.7860\n",
            "Epoch 15/15\n",
            "1407/1407 [==============================] - 17s 12ms/step - loss: 0.3606 - accuracy: 0.9043 - val_loss: 0.6881 - val_accuracy: 0.7837\n"
          ]
        }
      ]
    },
    {
      "cell_type": "markdown",
      "source": [
        "<h2><b>Figure 1-2.</b><h2>"
      ],
      "metadata": {
        "id": "vSlmtT1ScYgr"
      }
    },
    {
      "cell_type": "code",
      "source": [
        "plot_hist(conv_hist_0)"
      ],
      "metadata": {
        "colab": {
          "base_uri": "https://localhost:8080/",
          "height": 480
        },
        "id": "eGgP-FwvRn1r",
        "outputId": "2f1a4a95-3a0d-40c4-dd93-a3fd368d638f"
      },
      "execution_count": null,
      "outputs": [
        {
          "output_type": "display_data",
          "data": {
            "text/plain": [
              "<Figure size 1600x500 with 2 Axes>"
            ],
            "image/png": "[encoded data removed]"
          },
          "metadata": {
            "needs_background": "light"
          }
        }
      ]
    },
    {
      "cell_type": "markdown",
      "source": [
        "<h2><b>Figure 3-4.</b><h2>"
      ],
      "metadata": {
        "id": "j_N8wORwcjQ9"
      }
    },
    {
      "cell_type": "code",
      "source": [
        "plot_hist(conv_hist_1)"
      ],
      "metadata": {
        "colab": {
          "base_uri": "https://localhost:8080/",
          "height": 480
        },
        "id": "Haqp_RwrOep9",
        "outputId": "27d88d5e-ad1f-4fa3-ccd3-010fbc119028"
      },
      "execution_count": null,
      "outputs": [
        {
          "output_type": "display_data",
          "data": {
            "text/plain": [
              "<Figure size 1600x500 with 2 Axes>"
            ],
            "image/png": "[encoded data removed]"
          },
          "metadata": {
            "needs_background": "light"
          }
        }
      ]
    },
    {
      "cell_type": "markdown",
      "source": [
        "<h2><b>Figure 5-6.</b><h2>"
      ],
      "metadata": {
        "id": "7Te-Bnu3coGK"
      }
    },
    {
      "cell_type": "code",
      "source": [
        "plot_hist(conv_hist_2)"
      ],
      "metadata": {
        "colab": {
          "base_uri": "https://localhost:8080/",
          "height": 480
        },
        "id": "bT3LcEDolL8c",
        "outputId": "902e4f88-39f1-42cb-b405-8c1309357ab7"
      },
      "execution_count": null,
      "outputs": [
        {
          "output_type": "display_data",
          "data": {
            "text/plain": [
              "<Figure size 1600x500 with 2 Axes>"
            ],
            "image/png": "[encoded data removed]"
          },
          "metadata": {
            "needs_background": "light"
          }
        }
      ]
    },
    {
      "cell_type": "markdown",
      "source": [
        "<h2><b>3.3</b> From the graphs above it can be seen that this simple network outperforms the baseline model by at least 4%. It has a relatively low asymptotic test accuracy, which can be attributed to a relatively high batch-size (selected so to speed up computations). The model starts to noticably overfit at Epoch 11 (Figure 5), although the validation loss starts growing back at Epoch 6 (Figure 6)."
      ],
      "metadata": {
        "id": "ArnAT96Ma1Zf"
      }
    },
    {
      "cell_type": "markdown",
      "source": [
        "<h2><b>4.1</b> The constructor function used to create an LSTM, given some parameters.</h2>"
      ],
      "metadata": {
        "id": "cmy1mSSAgkbs"
      }
    },
    {
      "cell_type": "code",
      "source": [
        "import tensorflow.keras as tfk\n",
        "from keras.regularizers import l2 as f_l2\n",
        "\n",
        "def build_lstm(num_layers=1, emb_dim=256, neurons=64, bidir=False, drop_rate=0.0, l2=None, summary=False):\n",
        "\n",
        "    l2 = f_l2(l2)\n",
        "\n",
        "    model = tfk.Sequential()\n",
        "\n",
        "    model.add(tfk.layers.Embedding(input_dim = len(VOCAB.tok2idx), output_dim = int(emb_dim), input_length=MAX_LEN))\n",
        "\n",
        "    if bidir:\n",
        "        for i in range(num_layers):\n",
        "            # these if statements are used to check if the current layer is last, since it is required that all the LSTM layers but the last\n",
        "            # have to return_sequences set to True\n",
        "            if i < num_layers - 1:\n",
        "                model.add(tfk.layers.Bidirectional(tfk.layers.LSTM(neurons, dropout = drop_rate, return_sequences=True, recurrent_regularizer=l2)))\n",
        "            elif i == num_layers - 1:\n",
        "                model.add(tfk.layers.Bidirectional(tfk.layers.LSTM(neurons, dropout = drop_rate, recurrent_regularizer=l2)))\n",
        "    else:\n",
        "        for i in range(num_layers):\n",
        "            if i < num_layers - 1:\n",
        "                model.add(tfk.layers.LSTM(neurons, dropout = drop_rate, return_sequences=True, recurrent_regularizer=l2))\n",
        "            elif i == num_layers - 1:\n",
        "                model.add(tfk.layers.LSTM(neurons, dropout = drop_rate, recurrent_regularizer=l2))\n",
        "\n",
        "    model.add(tfk.layers.Dense(NUM_CLASSES, activation='softmax'))\n",
        "\n",
        "    model.compile(\n",
        "        optimizer = 'Adam',\n",
        "        loss = 'categorical_crossentropy',\n",
        "        metrics = ['accuracy']\n",
        "    )\n",
        "\n",
        "    if summary:\n",
        "        model.summary()\n",
        "\n",
        "    return model"
      ],
      "metadata": {
        "id": "5weI5lEMPCxW"
      },
      "execution_count": null,
      "outputs": []
    },
    {
      "cell_type": "markdown",
      "source": [
        "<h2><b>4.2</b> The constructor function that builds either network from a passed dictionary of parameteres.</h2>"
      ],
      "metadata": {
        "id": "B9HdR7fDgvxX"
      }
    },
    {
      "cell_type": "code",
      "source": [
        "def build(**kwargs):\n",
        "    if kwargs['model_type'] == 'LSTM':\n",
        "        _ = kwargs.pop('model_type', None)\n",
        "        return build_lstm(**kwargs)\n",
        "\n",
        "    if kwargs['model_type'] == 'CONV':\n",
        "        _ = kwargs.pop('model_type', None)\n",
        "        return build_conv(**kwargs)\n",
        "\n",
        "    else: return None"
      ],
      "metadata": {
        "id": "cy_EMuYssFJd"
      },
      "execution_count": null,
      "outputs": []
    },
    {
      "cell_type": "markdown",
      "source": [
        "<h2><b>4.3</b> The Random Search optimizer class itself. It receives the training and validation data, the parameter grid, number of epochs, labels for validation data, and the maximum number of evaluation per architechture. The methods include the random search itself, the objective function which does the fitting and evaluation. And several helper functions, including functions that are used to save some training statistics and the models directly. </h2>\n",
        "\n",
        "<h3> Credits for the <a href=https://www.kaggle.com/code/willkoehrsen/intro-to-model-tuning-grid-and-random-search> basic approach</a> to program Random Search."
      ],
      "metadata": {
        "id": "unBNuUXphBPr"
      }
    },
    {
      "cell_type": "code",
      "source": [
        "import random\n",
        "from sklearn.metrics import accuracy_score, precision_recall_fscore_support\n",
        "\n",
        "random.seed(50)\n",
        "\n",
        "MAX_EVALS = 5\n",
        "\n",
        "class KerasRandomHpOpt:\n",
        "\n",
        "    def __init__(self, train, val, params, epochs, y_val, max_evals = MAX_EVALS):\n",
        "        self.train = train\n",
        "        self.val = val\n",
        "        self.y_val = y_val\n",
        "        self.epochs = epochs\n",
        "        self.params = params\n",
        "        self.max_evals = max_evals\n",
        "\n",
        "    def random_search(self):\n",
        "        \"\"\"Random search for hyperparameter optimization\"\"\"\n",
        "\n",
        "        # Dataframe for results\n",
        "        all_params = self.get_all_params()\n",
        "        results = pd.DataFrame(columns = ['acc', 'precision', 'recall', 'f1', *all_params, 'iteration'],\n",
        "                                    index = list(range(MAX_EVALS*len(self.params))))\n",
        "        row = 0\n",
        "        for model_i in range(len(self.params)):\n",
        "            for i in range(self.max_evals):\n",
        "                # Choose random hyperparameters\n",
        "                parameters = {k: random.choice(v) for k, v in self.params[model_i].items()}\n",
        "                print('-'*150)\n",
        "                print(f\"Currently trying out {parameters}...\")\n",
        "                print('-'*150)\n",
        "                # Evaluate randomly selected hyperparameters\n",
        "                eval_results = self.objective(parameters)\n",
        "                results.iloc[row] = {**eval_results, **parameters}\n",
        "                results.to_excel(PATH + 'record.xlsx')\n",
        "                row += 1\n",
        "\n",
        "\n",
        "    def objective(self, params):\n",
        "        model = build(**params)\n",
        "        hist = model.fit(self.train, epochs = self.epochs, validation_data = self.val)\n",
        "\n",
        "        probs = model.predict(self.val)\n",
        "        preds = tf.argmax(probs, axis=1)\n",
        "        perf = KerasRandomHpOpt.eval(y_true = self.y_val, y_pred = preds)\n",
        "\n",
        "        fname = KerasRandomHpOpt.generate_fname(params)\n",
        "\n",
        "        print('-'*150)\n",
        "        print('Saving history in ' + fname + '.hist.pkl...')\n",
        "        KerasRandomHpOpt.save_history(hist.history, fname + '.hist.pkl')\n",
        "\n",
        "        print('Saving model in ' + fname + '.h5...')\n",
        "        KerasRandomHpOpt.save_model(model, fname +'.h5')\n",
        "\n",
        "        # print('Saving model architechture in ' + fname + '.json...')\n",
        "        # KerasRandomHpOpt.save_architechture(model, fname +'.json')\n",
        "\n",
        "        return perf\n",
        "\n",
        "    def get_all_params(self):\n",
        "        all_params = []\n",
        "        for params in self.params:\n",
        "            for param in params:\n",
        "                if param not in all_params:\n",
        "                    all_params.append(param)\n",
        "\n",
        "        return all_params\n",
        "\n",
        "    @staticmethod\n",
        "    def eval(y_true,y_pred):\n",
        "        # Calculate model accuracy\n",
        "        accuracy = accuracy_score(y_true,y_pred)*100\n",
        "        # Calculate model precision, recall and f1 score using \"weighted\" average\n",
        "        precision, recall, f1, _ = precision_recall_fscore_support(y_true, y_pred, average=\"weighted\")\n",
        "        results = {'acc': accuracy, 'precision': precision, 'recall': recall, 'f1': f1}\n",
        "\n",
        "        return results\n",
        "\n",
        "    @staticmethod\n",
        "    def generate_fname(params):\n",
        "        fname = ''\n",
        "        for item in params.items():\n",
        "            fname += str(item[0]) + '-' + str(item[1]) + '.'\n",
        "\n",
        "        fname = fname[:-1]\n",
        "        fname += '_1'\n",
        "\n",
        "        return fname\n",
        "\n",
        "    @staticmethod\n",
        "    def save_history(hist, fname):\n",
        "        with open(PATH + 'hists/' + fname, 'wb') as f:\n",
        "            pickle.dump(hist, f)\n",
        "\n",
        "    @staticmethod\n",
        "    def save_model(model, fname):\n",
        "        model.save(PATH + 'models/' + fname)\n",
        "\n",
        "    @staticmethod\n",
        "    def save_architechture(model, fname):\n",
        "        model.to_json(PATH + 'architechtures/' + fname)"
      ],
      "metadata": {
        "id": "n3P33cmMToFH"
      },
      "execution_count": null,
      "outputs": []
    },
    {
      "cell_type": "markdown",
      "source": [
        "<h2><b>4.4</b> The valid parameter grid is shown below. For convolutional architechture, I've decided to experiment with filter sizes, embdedding dimesnions, number of layers, kernel sizes, including an additional dense layer, adding or removing dropout, different values for weight decay, and addition of a BatchNorm layer. The first half of the list is intended to exlore diffrent model fomplexities, while the second half focuses on finding a suitable combination of regularizers. For LSTMs, on top of some of the previously mentioned parameters, it was reasonable to experiment with a number of neurons and bidirectionality."
      ],
      "metadata": {
        "id": "e3GQHHN2izXf"
      }
    },
    {
      "cell_type": "code",
      "source": [
        "import random\n",
        "random.seed(50)\n",
        "\n",
        "param_grid = [{\n",
        "    'model_type': ['CONV'],\n",
        "    'num_layers': [1,2],\n",
        "    'emb_dim': [64, 128, 256],\n",
        "    'filters': [16, 32, 64, 128],\n",
        "    'kernel_size': [3,4,5,6],\n",
        "    'drop_rate': [0.0, 0.2],\n",
        "    'l2': [0.01, 0.02],\n",
        "    'dense_neurons': [None, 16, 32],\n",
        "    'add_batch_norm': [True, False]\n",
        "    },\n",
        "    {\n",
        "    'model_type': ['LSTM'],\n",
        "    'num_layers': [1,2],\n",
        "    'emb_dim': [64, 128, 256],\n",
        "    'neurons': [32, 64, 128],\n",
        "    'drop_rate': [0.0, 0.2],\n",
        "     'l2': [0.01, 0.02],\n",
        "     'bidir': [True, False]\n",
        "     }]\n"
      ],
      "metadata": {
        "id": "fS84WpO8447K"
      },
      "execution_count": null,
      "outputs": []
    },
    {
      "cell_type": "markdown",
      "source": [
        "<h3> Quick testing... </h3>"
      ],
      "metadata": {
        "id": "3lsC5ql-LZHU"
      }
    },
    {
      "cell_type": "code",
      "source": [
        "parameters = {k: random.choice(v) for k, v in param_grid[1].items()}\n",
        "parameters"
      ],
      "metadata": {
        "colab": {
          "base_uri": "https://localhost:8080/"
        },
        "id": "Oy2rcK6NRUJe",
        "outputId": "27dfdfcc-0383-4bb5-a47c-f6d196104f21"
      },
      "execution_count": null,
      "outputs": [
        {
          "output_type": "execute_result",
          "data": {
            "text/plain": [
              "{'model_type': 'LSTM',\n",
              " 'num_layers': 2,\n",
              " 'emb_dim': 64,\n",
              " 'neurons': 64,\n",
              " 'drop_rate': 0.2,\n",
              " 'l2': 0.01,\n",
              " 'bidir': True}"
            ]
          },
          "metadata": {},
          "execution_count": 106
        }
      ]
    },
    {
      "cell_type": "code",
      "source": [
        "build(**parameters, summary=True)"
      ],
      "metadata": {
        "colab": {
          "base_uri": "https://localhost:8080/"
        },
        "id": "QY4_JgasQ-R-",
        "outputId": "b85d3c60-2404-4396-f16c-92d0418c1432"
      },
      "execution_count": null,
      "outputs": [
        {
          "output_type": "stream",
          "name": "stdout",
          "text": [
            "Model: \"sequential_10\"\n",
            "_________________________________________________________________\n",
            " Layer (type)                Output Shape              Param #   \n",
            "=================================================================\n",
            " embedding_10 (Embedding)    (None, 55, 64)            16105280  \n",
            "                                                                 \n",
            " bidirectional_9 (Bidirectio  (None, 55, 128)          66048     \n",
            " nal)                                                            \n",
            "                                                                 \n",
            " bidirectional_10 (Bidirecti  (None, 128)              98816     \n",
            " onal)                                                           \n",
            "                                                                 \n",
            " dense_11 (Dense)            (None, 5)                 645       \n",
            "                                                                 \n",
            "=================================================================\n",
            "Total params: 16,270,789\n",
            "Trainable params: 16,270,789\n",
            "Non-trainable params: 0\n",
            "_________________________________________________________________\n"
          ]
        },
        {
          "output_type": "execute_result",
          "data": {
            "text/plain": [
              "<keras.engine.sequential.Sequential at 0x7f7fb59307c0>"
            ]
          },
          "metadata": {},
          "execution_count": 107
        }
      ]
    },
    {
      "cell_type": "markdown",
      "source": [
        "<h3> Initialize the class and run search. </h3>"
      ],
      "metadata": {
        "id": "xVKZLRzDLeml"
      }
    },
    {
      "cell_type": "code",
      "source": [
        "tuner = KerasRandomHpOpt(tf_train, tf_val, param_grid, 5, labels_array_val)"
      ],
      "metadata": {
        "id": "1sdqZI2hOc-3"
      },
      "execution_count": null,
      "outputs": []
    },
    {
      "cell_type": "code",
      "source": [
        "tuner.random_search()"
      ],
      "metadata": {
        "id": "P91xzZhYUKXy"
      },
      "execution_count": null,
      "outputs": []
    },
    {
      "cell_type": "code",
      "source": [
        "import pandas as pd\n",
        "results = pd.read_excel(PATH + 'record.xlsx').sort_values('acc', ascending=False)"
      ],
      "metadata": {
        "id": "rsaSrHx8lcg_"
      },
      "execution_count": null,
      "outputs": []
    },
    {
      "cell_type": "code",
      "source": [
        "results"
      ],
      "metadata": {
        "colab": {
          "base_uri": "https://localhost:8080/",
          "height": 444
        },
        "id": "hnVsNWPUmQLG",
        "outputId": "1340b3be-6a1c-47d6-88e9-15276187aa6d"
      },
      "execution_count": null,
      "outputs": [
        {
          "output_type": "execute_result",
          "data": {
            "text/plain": [
              "   Unnamed: 0        acc  precision    recall        f1 model_type  \\\n",
              "9         9.0  80.289289   0.801757  0.802893  0.800849       LSTM   \n",
              "7         7.0  80.100622   0.802843  0.801006  0.799914       LSTM   \n",
              "6         6.0  79.938435   0.796229  0.799384  0.796802       LSTM   \n",
              "8         8.0  79.746458   0.794606  0.797465  0.795420       LSTM   \n",
              "5         5.0  79.008341   0.794621  0.790083  0.788520       LSTM   \n",
              "1         1.0  76.833708   0.767436  0.768337  0.760659       CONV   \n",
              "3         3.0  76.138620   0.762896  0.761386  0.760519       CONV   \n",
              "0         0.0  76.204819   0.756748  0.762048  0.752150       CONV   \n",
              "2         2.0  74.573017   0.749558  0.745730  0.744882       CONV   \n",
              "4         4.0  74.778234   0.739646  0.747782  0.728716       CONV   \n",
              "\n",
              "   num_layers  emb_dim  filters  kernel_size  drop_rate    l2  dense_neurons  \\\n",
              "9         1.0     64.0      NaN          NaN        0.2  0.01            NaN   \n",
              "7         2.0    256.0      NaN          NaN        0.2  0.01            NaN   \n",
              "6         2.0     64.0      NaN          NaN        0.0  0.02            NaN   \n",
              "8         1.0     64.0      NaN          NaN        0.0  0.01            NaN   \n",
              "5         1.0    256.0      NaN          NaN        0.2  0.02            NaN   \n",
              "1         1.0    256.0     64.0          6.0        0.0  0.01           16.0   \n",
              "3         2.0    128.0     32.0          6.0        0.2  0.01           16.0   \n",
              "0         2.0     64.0     64.0          5.0        0.0  0.01            NaN   \n",
              "2         1.0    128.0     64.0          6.0        0.0  0.02           32.0   \n",
              "4         2.0    256.0     32.0          4.0        0.0  0.01           16.0   \n",
              "\n",
              "   add_batch_norm  neurons  bidir  \n",
              "9             NaN    128.0    1.0  \n",
              "7             NaN    128.0    0.0  \n",
              "6             NaN     64.0    1.0  \n",
              "8             NaN     32.0    1.0  \n",
              "5             NaN     32.0    0.0  \n",
              "1             0.0      NaN    NaN  \n",
              "3             1.0      NaN    NaN  \n",
              "0             0.0      NaN    NaN  \n",
              "2             1.0      NaN    NaN  \n",
              "4             0.0      NaN    NaN  "
            ],
            "text/html": [
              "\n",
              "  <div id=\"df-4a3bca51-33c2-4711-8e12-990d833ffd3c\">\n",
              "    <div class=\"colab-df-container\">\n",
              "      <div>\n",
              "<style scoped>\n",
              "    .dataframe tbody tr th:only-of-type {\n",
              "        vertical-align: middle;\n",
              "    }\n",
              "\n",
              "    .dataframe tbody tr th {\n",
              "        vertical-align: top;\n",
              "    }\n",
              "\n",
              "    .dataframe thead th {\n",
              "        text-align: right;\n",
              "    }\n",
              "</style>\n",
              "<table border=\"1\" class=\"dataframe\">\n",
              "  <thead>\n",
              "    <tr style=\"text-align: right;\">\n",
              "      <th></th>\n",
              "      <th>Unnamed: 0</th>\n",
              "      <th>acc</th>\n",
              "      <th>precision</th>\n",
              "      <th>recall</th>\n",
              "      <th>f1</th>\n",
              "      <th>model_type</th>\n",
              "      <th>num_layers</th>\n",
              "      <th>emb_dim</th>\n",
              "      <th>filters</th>\n",
              "      <th>kernel_size</th>\n",
              "      <th>drop_rate</th>\n",
              "      <th>l2</th>\n",
              "      <th>dense_neurons</th>\n",
              "      <th>add_batch_norm</th>\n",
              "      <th>neurons</th>\n",
              "      <th>bidir</th>\n",
              "    </tr>\n",
              "  </thead>\n",
              "  <tbody>\n",
              "    <tr>\n",
              "      <th>9</th>\n",
              "      <td>9.0</td>\n",
              "      <td>80.289289</td>\n",
              "      <td>0.801757</td>\n",
              "      <td>0.802893</td>\n",
              "      <td>0.800849</td>\n",
              "      <td>LSTM</td>\n",
              "      <td>1.0</td>\n",
              "      <td>64.0</td>\n",
              "      <td>NaN</td>\n",
              "      <td>NaN</td>\n",
              "      <td>0.2</td>\n",
              "      <td>0.01</td>\n",
              "      <td>NaN</td>\n",
              "      <td>NaN</td>\n",
              "      <td>128.0</td>\n",
              "      <td>1.0</td>\n",
              "    </tr>\n",
              "    <tr>\n",
              "      <th>7</th>\n",
              "      <td>7.0</td>\n",
              "      <td>80.100622</td>\n",
              "      <td>0.802843</td>\n",
              "      <td>0.801006</td>\n",
              "      <td>0.799914</td>\n",
              "      <td>LSTM</td>\n",
              "      <td>2.0</td>\n",
              "      <td>256.0</td>\n",
              "      <td>NaN</td>\n",
              "      <td>NaN</td>\n",
              "      <td>0.2</td>\n",
              "      <td>0.01</td>\n",
              "      <td>NaN</td>\n",
              "      <td>NaN</td>\n",
              "      <td>128.0</td>\n",
              "      <td>0.0</td>\n",
              "    </tr>\n",
              "    <tr>\n",
              "      <th>6</th>\n",
              "      <td>6.0</td>\n",
              "      <td>79.938435</td>\n",
              "      <td>0.796229</td>\n",
              "      <td>0.799384</td>\n",
              "      <td>0.796802</td>\n",
              "      <td>LSTM</td>\n",
              "      <td>2.0</td>\n",
              "      <td>64.0</td>\n",
              "      <td>NaN</td>\n",
              "      <td>NaN</td>\n",
              "      <td>0.0</td>\n",
              "      <td>0.02</td>\n",
              "      <td>NaN</td>\n",
              "      <td>NaN</td>\n",
              "      <td>64.0</td>\n",
              "      <td>1.0</td>\n",
              "    </tr>\n",
              "    <tr>\n",
              "      <th>8</th>\n",
              "      <td>8.0</td>\n",
              "      <td>79.746458</td>\n",
              "      <td>0.794606</td>\n",
              "      <td>0.797465</td>\n",
              "      <td>0.795420</td>\n",
              "      <td>LSTM</td>\n",
              "      <td>1.0</td>\n",
              "      <td>64.0</td>\n",
              "      <td>NaN</td>\n",
              "      <td>NaN</td>\n",
              "      <td>0.0</td>\n",
              "      <td>0.01</td>\n",
              "      <td>NaN</td>\n",
              "      <td>NaN</td>\n",
              "      <td>32.0</td>\n",
              "      <td>1.0</td>\n",
              "    </tr>\n",
              "    <tr>\n",
              "      <th>5</th>\n",
              "      <td>5.0</td>\n",
              "      <td>79.008341</td>\n",
              "      <td>0.794621</td>\n",
              "      <td>0.790083</td>\n",
              "      <td>0.788520</td>\n",
              "      <td>LSTM</td>\n",
              "      <td>1.0</td>\n",
              "      <td>256.0</td>\n",
              "      <td>NaN</td>\n",
              "      <td>NaN</td>\n",
              "      <td>0.2</td>\n",
              "      <td>0.02</td>\n",
              "      <td>NaN</td>\n",
              "      <td>NaN</td>\n",
              "      <td>32.0</td>\n",
              "      <td>0.0</td>\n",
              "    </tr>\n",
              "    <tr>\n",
              "      <th>1</th>\n",
              "      <td>1.0</td>\n",
              "      <td>76.833708</td>\n",
              "      <td>0.767436</td>\n",
              "      <td>0.768337</td>\n",
              "      <td>0.760659</td>\n",
              "      <td>CONV</td>\n",
              "      <td>1.0</td>\n",
              "      <td>256.0</td>\n",
              "      <td>64.0</td>\n",
              "      <td>6.0</td>\n",
              "      <td>0.0</td>\n",
              "      <td>0.01</td>\n",
              "      <td>16.0</td>\n",
              "      <td>0.0</td>\n",
              "      <td>NaN</td>\n",
              "      <td>NaN</td>\n",
              "    </tr>\n",
              "    <tr>\n",
              "      <th>3</th>\n",
              "      <td>3.0</td>\n",
              "      <td>76.138620</td>\n",
              "      <td>0.762896</td>\n",
              "      <td>0.761386</td>\n",
              "      <td>0.760519</td>\n",
              "      <td>CONV</td>\n",
              "      <td>2.0</td>\n",
              "      <td>128.0</td>\n",
              "      <td>32.0</td>\n",
              "      <td>6.0</td>\n",
              "      <td>0.2</td>\n",
              "      <td>0.01</td>\n",
              "      <td>16.0</td>\n",
              "      <td>1.0</td>\n",
              "      <td>NaN</td>\n",
              "      <td>NaN</td>\n",
              "    </tr>\n",
              "    <tr>\n",
              "      <th>0</th>\n",
              "      <td>0.0</td>\n",
              "      <td>76.204819</td>\n",
              "      <td>0.756748</td>\n",
              "      <td>0.762048</td>\n",
              "      <td>0.752150</td>\n",
              "      <td>CONV</td>\n",
              "      <td>2.0</td>\n",
              "      <td>64.0</td>\n",
              "      <td>64.0</td>\n",
              "      <td>5.0</td>\n",
              "      <td>0.0</td>\n",
              "      <td>0.01</td>\n",
              "      <td>NaN</td>\n",
              "      <td>0.0</td>\n",
              "      <td>NaN</td>\n",
              "      <td>NaN</td>\n",
              "    </tr>\n",
              "    <tr>\n",
              "      <th>2</th>\n",
              "      <td>2.0</td>\n",
              "      <td>74.573017</td>\n",
              "      <td>0.749558</td>\n",
              "      <td>0.745730</td>\n",
              "      <td>0.744882</td>\n",
              "      <td>CONV</td>\n",
              "      <td>1.0</td>\n",
              "      <td>128.0</td>\n",
              "      <td>64.0</td>\n",
              "      <td>6.0</td>\n",
              "      <td>0.0</td>\n",
              "      <td>0.02</td>\n",
              "      <td>32.0</td>\n",
              "      <td>1.0</td>\n",
              "      <td>NaN</td>\n",
              "      <td>NaN</td>\n",
              "    </tr>\n",
              "    <tr>\n",
              "      <th>4</th>\n",
              "      <td>4.0</td>\n",
              "      <td>74.778234</td>\n",
              "      <td>0.739646</td>\n",
              "      <td>0.747782</td>\n",
              "      <td>0.728716</td>\n",
              "      <td>CONV</td>\n",
              "      <td>2.0</td>\n",
              "      <td>256.0</td>\n",
              "      <td>32.0</td>\n",
              "      <td>4.0</td>\n",
              "      <td>0.0</td>\n",
              "      <td>0.01</td>\n",
              "      <td>16.0</td>\n",
              "      <td>0.0</td>\n",
              "      <td>NaN</td>\n",
              "      <td>NaN</td>\n",
              "    </tr>\n",
              "  </tbody>\n",
              "</table>\n",
              "</div>\n",
              "      <button class=\"colab-df-convert\" onclick=\"convertToInteractive('df-4a3bca51-33c2-4711-8e12-990d833ffd3c')\"\n",
              "              title=\"Convert this dataframe to an interactive table.\"\n",
              "              style=\"display:none;\">\n",
              "        \n",
              "  <svg xmlns=\"http://www.w3.org/2000/svg\" height=\"24px\"viewBox=\"0 0 24 24\"\n",
              "       width=\"24px\">\n",
              "    <path d=\"M0 0h24v24H0V0z\" fill=\"none\"/>\n",
              "    <path d=\"M18.56 5.44l.94 2.06.94-2.06 2.06-.94-2.06-.94-.94-2.06-.94 2.06-2.06.94zm-11 1L8.5 8.5l.94-2.06 2.06-.94-2.06-.94L8.5 2.5l-.94 2.06-2.06.94zm10 10l.94 2.06.94-2.06 2.06-.94-2.06-.94-.94-2.06-.94 2.06-2.06.94z\"/><path d=\"M17.41 7.96l-1.37-1.37c-.4-.4-.92-.59-1.43-.59-.52 0-1.04.2-1.43.59L10.3 9.45l-7.72 7.72c-.78.78-.78 2.05 0 2.83L4 21.41c.39.39.9.59 1.41.59.51 0 1.02-.2 1.41-.59l7.78-7.78 2.81-2.81c.8-.78.8-2.07 0-2.86zM5.41 20L4 18.59l7.72-7.72 1.47 1.35L5.41 20z\"/>\n",
              "  </svg>\n",
              "      </button>\n",
              "      \n",
              "  <style>\n",
              "    .colab-df-container {\n",
              "      display:flex;\n",
              "      flex-wrap:wrap;\n",
              "      gap: 12px;\n",
              "    }\n",
              "\n",
              "    .colab-df-convert {\n",
              "      background-color: #E8F0FE;\n",
              "      border: none;\n",
              "      border-radius: 50%;\n",
              "      cursor: pointer;\n",
              "      display: none;\n",
              "      fill: #1967D2;\n",
              "      height: 32px;\n",
              "      padding: 0 0 0 0;\n",
              "      width: 32px;\n",
              "    }\n",
              "\n",
              "    .colab-df-convert:hover {\n",
              "      background-color: #E2EBFA;\n",
              "      box-shadow: 0px 1px 2px rgba(60, 64, 67, 0.3), 0px 1px 3px 1px rgba(60, 64, 67, 0.15);\n",
              "      fill: #174EA6;\n",
              "    }\n",
              "\n",
              "    [theme=dark] .colab-df-convert {\n",
              "      background-color: #3B4455;\n",
              "      fill: #D2E3FC;\n",
              "    }\n",
              "\n",
              "    [theme=dark] .colab-df-convert:hover {\n",
              "      background-color: #434B5C;\n",
              "      box-shadow: 0px 1px 3px 1px rgba(0, 0, 0, 0.15);\n",
              "      filter: drop-shadow(0px 1px 2px rgba(0, 0, 0, 0.3));\n",
              "      fill: #FFFFFF;\n",
              "    }\n",
              "  </style>\n",
              "\n",
              "      <script>\n",
              "        const buttonEl =\n",
              "          document.querySelector('#df-4a3bca51-33c2-4711-8e12-990d833ffd3c button.colab-df-convert');\n",
              "        buttonEl.style.display =\n",
              "          google.colab.kernel.accessAllowed ? 'block' : 'none';\n",
              "\n",
              "        async function convertToInteractive(key) {\n",
              "          const element = document.querySelector('#df-4a3bca51-33c2-4711-8e12-990d833ffd3c');\n",
              "          const dataTable =\n",
              "            await google.colab.kernel.invokeFunction('convertToInteractive',\n",
              "                                                     [key], {});\n",
              "          if (!dataTable) return;\n",
              "\n",
              "          const docLinkHtml = 'Like what you see? Visit the ' +\n",
              "            '<a target=\"_blank\" href=https://colab.research.google.com/notebooks/data_table.ipynb>data table notebook</a>'\n",
              "            + ' to learn more about interactive tables.';\n",
              "          element.innerHTML = '';\n",
              "          dataTable['output_type'] = 'display_data';\n",
              "          await google.colab.output.renderOutput(dataTable, element);\n",
              "          const docLink = document.createElement('div');\n",
              "          docLink.innerHTML = docLinkHtml;\n",
              "          element.appendChild(docLink);\n",
              "        }\n",
              "      </script>\n",
              "    </div>\n",
              "  </div>\n",
              "  "
            ]
          },
          "metadata": {},
          "execution_count": 5
        }
      ]
    },
    {
      "cell_type": "code",
      "source": [
        "results.drop(columns=['Unnamed: 0'])"
      ],
      "metadata": {
        "colab": {
          "base_uri": "https://localhost:8080/",
          "height": 407
        },
        "id": "dLobHGBVmY03",
        "outputId": "176eafff-7ac5-4d83-ea06-1ef76682c424"
      },
      "execution_count": null,
      "outputs": [
        {
          "output_type": "execute_result",
          "data": {
            "text/plain": [
              "         acc  precision    recall        f1 model_type  num_layers  emb_dim  \\\n",
              "9  80.289289   0.801757  0.802893  0.800849       LSTM         1.0     64.0   \n",
              "7  80.100622   0.802843  0.801006  0.799914       LSTM         2.0    256.0   \n",
              "6  79.938435   0.796229  0.799384  0.796802       LSTM         2.0     64.0   \n",
              "8  79.746458   0.794606  0.797465  0.795420       LSTM         1.0     64.0   \n",
              "5  79.008341   0.794621  0.790083  0.788520       LSTM         1.0    256.0   \n",
              "1  76.833708   0.767436  0.768337  0.760659       CONV         1.0    256.0   \n",
              "3  76.138620   0.762896  0.761386  0.760519       CONV         2.0    128.0   \n",
              "0  76.204819   0.756748  0.762048  0.752150       CONV         2.0     64.0   \n",
              "2  74.573017   0.749558  0.745730  0.744882       CONV         1.0    128.0   \n",
              "4  74.778234   0.739646  0.747782  0.728716       CONV         2.0    256.0   \n",
              "\n",
              "   filters  kernel_size  drop_rate    l2  dense_neurons  add_batch_norm  \\\n",
              "9      NaN          NaN        0.2  0.01            NaN             NaN   \n",
              "7      NaN          NaN        0.2  0.01            NaN             NaN   \n",
              "6      NaN          NaN        0.0  0.02            NaN             NaN   \n",
              "8      NaN          NaN        0.0  0.01            NaN             NaN   \n",
              "5      NaN          NaN        0.2  0.02            NaN             NaN   \n",
              "1     64.0          6.0        0.0  0.01           16.0             0.0   \n",
              "3     32.0          6.0        0.2  0.01           16.0             1.0   \n",
              "0     64.0          5.0        0.0  0.01            NaN             0.0   \n",
              "2     64.0          6.0        0.0  0.02           32.0             1.0   \n",
              "4     32.0          4.0        0.0  0.01           16.0             0.0   \n",
              "\n",
              "   neurons  bidir  \n",
              "9    128.0    1.0  \n",
              "7    128.0    0.0  \n",
              "6     64.0    1.0  \n",
              "8     32.0    1.0  \n",
              "5     32.0    0.0  \n",
              "1      NaN    NaN  \n",
              "3      NaN    NaN  \n",
              "0      NaN    NaN  \n",
              "2      NaN    NaN  \n",
              "4      NaN    NaN  "
            ],
            "text/html": [
              "\n",
              "  <div id=\"df-6ebcaf4e-74a2-4c8e-ae69-f686fbbad7ed\">\n",
              "    <div class=\"colab-df-container\">\n",
              "      <div>\n",
              "<style scoped>\n",
              "    .dataframe tbody tr th:only-of-type {\n",
              "        vertical-align: middle;\n",
              "    }\n",
              "\n",
              "    .dataframe tbody tr th {\n",
              "        vertical-align: top;\n",
              "    }\n",
              "\n",
              "    .dataframe thead th {\n",
              "        text-align: right;\n",
              "    }\n",
              "</style>\n",
              "<table border=\"1\" class=\"dataframe\">\n",
              "  <thead>\n",
              "    <tr style=\"text-align: right;\">\n",
              "      <th></th>\n",
              "      <th>acc</th>\n",
              "      <th>precision</th>\n",
              "      <th>recall</th>\n",
              "      <th>f1</th>\n",
              "      <th>model_type</th>\n",
              "      <th>num_layers</th>\n",
              "      <th>emb_dim</th>\n",
              "      <th>filters</th>\n",
              "      <th>kernel_size</th>\n",
              "      <th>drop_rate</th>\n",
              "      <th>l2</th>\n",
              "      <th>dense_neurons</th>\n",
              "      <th>add_batch_norm</th>\n",
              "      <th>neurons</th>\n",
              "      <th>bidir</th>\n",
              "    </tr>\n",
              "  </thead>\n",
              "  <tbody>\n",
              "    <tr>\n",
              "      <th>9</th>\n",
              "      <td>80.289289</td>\n",
              "      <td>0.801757</td>\n",
              "      <td>0.802893</td>\n",
              "      <td>0.800849</td>\n",
              "      <td>LSTM</td>\n",
              "      <td>1.0</td>\n",
              "      <td>64.0</td>\n",
              "      <td>NaN</td>\n",
              "      <td>NaN</td>\n",
              "      <td>0.2</td>\n",
              "      <td>0.01</td>\n",
              "      <td>NaN</td>\n",
              "      <td>NaN</td>\n",
              "      <td>128.0</td>\n",
              "      <td>1.0</td>\n",
              "    </tr>\n",
              "    <tr>\n",
              "      <th>7</th>\n",
              "      <td>80.100622</td>\n",
              "      <td>0.802843</td>\n",
              "      <td>0.801006</td>\n",
              "      <td>0.799914</td>\n",
              "      <td>LSTM</td>\n",
              "      <td>2.0</td>\n",
              "      <td>256.0</td>\n",
              "      <td>NaN</td>\n",
              "      <td>NaN</td>\n",
              "      <td>0.2</td>\n",
              "      <td>0.01</td>\n",
              "      <td>NaN</td>\n",
              "      <td>NaN</td>\n",
              "      <td>128.0</td>\n",
              "      <td>0.0</td>\n",
              "    </tr>\n",
              "    <tr>\n",
              "      <th>6</th>\n",
              "      <td>79.938435</td>\n",
              "      <td>0.796229</td>\n",
              "      <td>0.799384</td>\n",
              "      <td>0.796802</td>\n",
              "      <td>LSTM</td>\n",
              "      <td>2.0</td>\n",
              "      <td>64.0</td>\n",
              "      <td>NaN</td>\n",
              "      <td>NaN</td>\n",
              "      <td>0.0</td>\n",
              "      <td>0.02</td>\n",
              "      <td>NaN</td>\n",
              "      <td>NaN</td>\n",
              "      <td>64.0</td>\n",
              "      <td>1.0</td>\n",
              "    </tr>\n",
              "    <tr>\n",
              "      <th>8</th>\n",
              "      <td>79.746458</td>\n",
              "      <td>0.794606</td>\n",
              "      <td>0.797465</td>\n",
              "      <td>0.795420</td>\n",
              "      <td>LSTM</td>\n",
              "      <td>1.0</td>\n",
              "      <td>64.0</td>\n",
              "      <td>NaN</td>\n",
              "      <td>NaN</td>\n",
              "      <td>0.0</td>\n",
              "      <td>0.01</td>\n",
              "      <td>NaN</td>\n",
              "      <td>NaN</td>\n",
              "      <td>32.0</td>\n",
              "      <td>1.0</td>\n",
              "    </tr>\n",
              "    <tr>\n",
              "      <th>5</th>\n",
              "      <td>79.008341</td>\n",
              "      <td>0.794621</td>\n",
              "      <td>0.790083</td>\n",
              "      <td>0.788520</td>\n",
              "      <td>LSTM</td>\n",
              "      <td>1.0</td>\n",
              "      <td>256.0</td>\n",
              "      <td>NaN</td>\n",
              "      <td>NaN</td>\n",
              "      <td>0.2</td>\n",
              "      <td>0.02</td>\n",
              "      <td>NaN</td>\n",
              "      <td>NaN</td>\n",
              "      <td>32.0</td>\n",
              "      <td>0.0</td>\n",
              "    </tr>\n",
              "    <tr>\n",
              "      <th>1</th>\n",
              "      <td>76.833708</td>\n",
              "      <td>0.767436</td>\n",
              "      <td>0.768337</td>\n",
              "      <td>0.760659</td>\n",
              "      <td>CONV</td>\n",
              "      <td>1.0</td>\n",
              "      <td>256.0</td>\n",
              "      <td>64.0</td>\n",
              "      <td>6.0</td>\n",
              "      <td>0.0</td>\n",
              "      <td>0.01</td>\n",
              "      <td>16.0</td>\n",
              "      <td>0.0</td>\n",
              "      <td>NaN</td>\n",
              "      <td>NaN</td>\n",
              "    </tr>\n",
              "    <tr>\n",
              "      <th>3</th>\n",
              "      <td>76.138620</td>\n",
              "      <td>0.762896</td>\n",
              "      <td>0.761386</td>\n",
              "      <td>0.760519</td>\n",
              "      <td>CONV</td>\n",
              "      <td>2.0</td>\n",
              "      <td>128.0</td>\n",
              "      <td>32.0</td>\n",
              "      <td>6.0</td>\n",
              "      <td>0.2</td>\n",
              "      <td>0.01</td>\n",
              "      <td>16.0</td>\n",
              "      <td>1.0</td>\n",
              "      <td>NaN</td>\n",
              "      <td>NaN</td>\n",
              "    </tr>\n",
              "    <tr>\n",
              "      <th>0</th>\n",
              "      <td>76.204819</td>\n",
              "      <td>0.756748</td>\n",
              "      <td>0.762048</td>\n",
              "      <td>0.752150</td>\n",
              "      <td>CONV</td>\n",
              "      <td>2.0</td>\n",
              "      <td>64.0</td>\n",
              "      <td>64.0</td>\n",
              "      <td>5.0</td>\n",
              "      <td>0.0</td>\n",
              "      <td>0.01</td>\n",
              "      <td>NaN</td>\n",
              "      <td>0.0</td>\n",
              "      <td>NaN</td>\n",
              "      <td>NaN</td>\n",
              "    </tr>\n",
              "    <tr>\n",
              "      <th>2</th>\n",
              "      <td>74.573017</td>\n",
              "      <td>0.749558</td>\n",
              "      <td>0.745730</td>\n",
              "      <td>0.744882</td>\n",
              "      <td>CONV</td>\n",
              "      <td>1.0</td>\n",
              "      <td>128.0</td>\n",
              "      <td>64.0</td>\n",
              "      <td>6.0</td>\n",
              "      <td>0.0</td>\n",
              "      <td>0.02</td>\n",
              "      <td>32.0</td>\n",
              "      <td>1.0</td>\n",
              "      <td>NaN</td>\n",
              "      <td>NaN</td>\n",
              "    </tr>\n",
              "    <tr>\n",
              "      <th>4</th>\n",
              "      <td>74.778234</td>\n",
              "      <td>0.739646</td>\n",
              "      <td>0.747782</td>\n",
              "      <td>0.728716</td>\n",
              "      <td>CONV</td>\n",
              "      <td>2.0</td>\n",
              "      <td>256.0</td>\n",
              "      <td>32.0</td>\n",
              "      <td>4.0</td>\n",
              "      <td>0.0</td>\n",
              "      <td>0.01</td>\n",
              "      <td>16.0</td>\n",
              "      <td>0.0</td>\n",
              "      <td>NaN</td>\n",
              "      <td>NaN</td>\n",
              "    </tr>\n",
              "  </tbody>\n",
              "</table>\n",
              "</div>\n",
              "      <button class=\"colab-df-convert\" onclick=\"convertToInteractive('df-6ebcaf4e-74a2-4c8e-ae69-f686fbbad7ed')\"\n",
              "              title=\"Convert this dataframe to an interactive table.\"\n",
              "              style=\"display:none;\">\n",
              "        \n",
              "  <svg xmlns=\"http://www.w3.org/2000/svg\" height=\"24px\"viewBox=\"0 0 24 24\"\n",
              "       width=\"24px\">\n",
              "    <path d=\"M0 0h24v24H0V0z\" fill=\"none\"/>\n",
              "    <path d=\"M18.56 5.44l.94 2.06.94-2.06 2.06-.94-2.06-.94-.94-2.06-.94 2.06-2.06.94zm-11 1L8.5 8.5l.94-2.06 2.06-.94-2.06-.94L8.5 2.5l-.94 2.06-2.06.94zm10 10l.94 2.06.94-2.06 2.06-.94-2.06-.94-.94-2.06-.94 2.06-2.06.94z\"/><path d=\"M17.41 7.96l-1.37-1.37c-.4-.4-.92-.59-1.43-.59-.52 0-1.04.2-1.43.59L10.3 9.45l-7.72 7.72c-.78.78-.78 2.05 0 2.83L4 21.41c.39.39.9.59 1.41.59.51 0 1.02-.2 1.41-.59l7.78-7.78 2.81-2.81c.8-.78.8-2.07 0-2.86zM5.41 20L4 18.59l7.72-7.72 1.47 1.35L5.41 20z\"/>\n",
              "  </svg>\n",
              "      </button>\n",
              "      \n",
              "  <style>\n",
              "    .colab-df-container {\n",
              "      display:flex;\n",
              "      flex-wrap:wrap;\n",
              "      gap: 12px;\n",
              "    }\n",
              "\n",
              "    .colab-df-convert {\n",
              "      background-color: #E8F0FE;\n",
              "      border: none;\n",
              "      border-radius: 50%;\n",
              "      cursor: pointer;\n",
              "      display: none;\n",
              "      fill: #1967D2;\n",
              "      height: 32px;\n",
              "      padding: 0 0 0 0;\n",
              "      width: 32px;\n",
              "    }\n",
              "\n",
              "    .colab-df-convert:hover {\n",
              "      background-color: #E2EBFA;\n",
              "      box-shadow: 0px 1px 2px rgba(60, 64, 67, 0.3), 0px 1px 3px 1px rgba(60, 64, 67, 0.15);\n",
              "      fill: #174EA6;\n",
              "    }\n",
              "\n",
              "    [theme=dark] .colab-df-convert {\n",
              "      background-color: #3B4455;\n",
              "      fill: #D2E3FC;\n",
              "    }\n",
              "\n",
              "    [theme=dark] .colab-df-convert:hover {\n",
              "      background-color: #434B5C;\n",
              "      box-shadow: 0px 1px 3px 1px rgba(0, 0, 0, 0.15);\n",
              "      filter: drop-shadow(0px 1px 2px rgba(0, 0, 0, 0.3));\n",
              "      fill: #FFFFFF;\n",
              "    }\n",
              "  </style>\n",
              "\n",
              "      <script>\n",
              "        const buttonEl =\n",
              "          document.querySelector('#df-6ebcaf4e-74a2-4c8e-ae69-f686fbbad7ed button.colab-df-convert');\n",
              "        buttonEl.style.display =\n",
              "          google.colab.kernel.accessAllowed ? 'block' : 'none';\n",
              "\n",
              "        async function convertToInteractive(key) {\n",
              "          const element = document.querySelector('#df-6ebcaf4e-74a2-4c8e-ae69-f686fbbad7ed');\n",
              "          const dataTable =\n",
              "            await google.colab.kernel.invokeFunction('convertToInteractive',\n",
              "                                                     [key], {});\n",
              "          if (!dataTable) return;\n",
              "\n",
              "          const docLinkHtml = 'Like what you see? Visit the ' +\n",
              "            '<a target=\"_blank\" href=https://colab.research.google.com/notebooks/data_table.ipynb>data table notebook</a>'\n",
              "            + ' to learn more about interactive tables.';\n",
              "          element.innerHTML = '';\n",
              "          dataTable['output_type'] = 'display_data';\n",
              "          await google.colab.output.renderOutput(dataTable, element);\n",
              "          const docLink = document.createElement('div');\n",
              "          docLink.innerHTML = docLinkHtml;\n",
              "          element.appendChild(docLink);\n",
              "        }\n",
              "      </script>\n",
              "    </div>\n",
              "  </div>\n",
              "  "
            ]
          },
          "metadata": {},
          "execution_count": 6
        }
      ]
    },
    {
      "cell_type": "markdown",
      "source": [
        "<h2><b>4.5</b> From the table above, it can be clearly seen that given the defined parameter grid, all LSTM architechtures outperformed Convolutional architechtures, with a gap of >2% validation accuracy between the worst perfroming LSTM and the best performing ConvNet. Indeed, after looking at the parameter values that were sampled uniformly, it can be seen that for ConvNets the optimizer only generated one addition of dropout, didn't explore the options of having 128 or 16 filters, and mostly focused on 2-layered networks, which when coupled with no dropout and additional dense layers, made the resulting model severly overfit. This overall poor exploration can be attributed to the extremely low number of parameter evaluations, which was to 5 for speeding up the process and presenting the results in time before deadline.</h2>\n",
        "\n",
        "---\n",
        "\n",
        "<h2>LSTMs, on the other hand, were more 'lucky' in terms of exploration, having tried each parameter value from the given grid. It can be seen that the best performing model here is quite simple -- the embedding dimension is selected to be 64, and it has only 1 layer. Some complexity is however added with an increased number of neurons and introduction of bidirectionality. It is also important to note that a regularization method called recurrent dropout, would be more suitable for LSTMs. However, it could not be implemeneted here as cuDNN has functionality to specifically accelerate LSTMs and GRUs, and there are some contraints in order for it to work properly, one of which is having recurrent_dropout set to 0.</h2>\n",
        "\n",
        "---\n",
        "\n",
        "<h2>Before training it on the whole set and determining the optimal number of epochs, I've decided to experiment with the batch size, which was shown to have shown correlation with asymtotic test accuracy (check <a href=https://medium.com/mini-distill/effect-of-batch-size-on-training-dynamics-21c14f7a716e> this</a> experimentation). Additionaly, reducing the batch size might instroduce a regularizing effect (check <a https://axon.cs.byu.edu/papers/Wilson.nn03.batch.pdf> here</a>), by, perhaps, adding some noise during training. It is often treated as a tunable parameter when working with a keras_tuner optimization library. The batch size experimentation will only be carried out for the best performing LSTM model.</h2>\n",
        "\n",
        "---\n",
        "\n",
        "<h2>Optimally, I would use a Bayesian Search for this type of problem. Indeed, the BS has its own problems, but its main advantage over the random search is that it does not independently sample from a uniform distribution, but selects parameters based on previous observations, which makes it find near-optimal solutions quicker. However, for the sake of simplicity and lack of time, I've decided to avoid implementing it.</h2>"
      ],
      "metadata": {
        "id": "i__-vEZnk7aO"
      }
    },
    {
      "cell_type": "markdown",
      "source": [
        "<h3>Batch size of 64.</h3>"
      ],
      "metadata": {
        "id": "krvr0lFmxwQW"
      }
    },
    {
      "cell_type": "code",
      "source": [
        "tf_train_ = tf.data.Dataset.from_tensor_slices((x_train, y_train))\n",
        "tf_train_64 = tf_train_.batch(64).prefetch(tf.data.AUTOTUNE)\n",
        "\n",
        "tf_val_ = tf.data.Dataset.from_tensor_slices((x_val, y_val))\n",
        "tf_val_64 = tf_val_.batch(64).prefetch(tf.data.AUTOTUNE)\n",
        "\n",
        "tf_test_ = tf.data.Dataset.from_tensor_slices((x_test, y_test))\n",
        "tf_test_64 = tf_test_.batch(64).prefetch(tf.data.AUTOTUNE)"
      ],
      "metadata": {
        "id": "DWAGASe_wIzM"
      },
      "execution_count": null,
      "outputs": []
    },
    {
      "cell_type": "code",
      "source": [
        "lstm_model_64bs = build_lstm(num_layers=1, emb_dim=64, drop_rate=0.2, l2=0.01, neurons=128, bidir=True)"
      ],
      "metadata": {
        "id": "3D5_YOx7tC2J"
      },
      "execution_count": null,
      "outputs": []
    },
    {
      "cell_type": "code",
      "source": [
        "lstm_hist_64bs = lstm_model_64bs.fit(tf_train_64, epochs = 5, validation_data = tf_val_64)"
      ],
      "metadata": {
        "colab": {
          "base_uri": "https://localhost:8080/"
        },
        "id": "_Pu8zO2HtNvO",
        "outputId": "1833f857-141c-412a-afc5-503356bca24d"
      },
      "execution_count": null,
      "outputs": [
        {
          "output_type": "stream",
          "name": "stdout",
          "text": [
            "Epoch 1/5\n",
            "2814/2814 [==============================] - 87s 28ms/step - loss: 0.6459 - accuracy: 0.7720 - val_loss: 0.5371 - val_accuracy: 0.8068\n",
            "Epoch 2/5\n",
            "2814/2814 [==============================] - 37s 13ms/step - loss: 0.4643 - accuracy: 0.8331 - val_loss: 0.5392 - val_accuracy: 0.8075\n",
            "Epoch 3/5\n",
            "2814/2814 [==============================] - 37s 13ms/step - loss: 0.3934 - accuracy: 0.8609 - val_loss: 0.5618 - val_accuracy: 0.8019\n",
            "Epoch 4/5\n",
            "2814/2814 [==============================] - 37s 13ms/step - loss: 0.3421 - accuracy: 0.8817 - val_loss: 0.5686 - val_accuracy: 0.8067\n",
            "Epoch 5/5\n",
            "2814/2814 [==============================] - 38s 14ms/step - loss: 0.3026 - accuracy: 0.8972 - val_loss: 0.6077 - val_accuracy: 0.8017\n"
          ]
        }
      ]
    },
    {
      "cell_type": "markdown",
      "source": [
        "<h3>Batch size of 32.</h3>"
      ],
      "metadata": {
        "id": "BE7Gdaosx6w9"
      }
    },
    {
      "cell_type": "code",
      "source": [
        "tf_train_ = tf.data.Dataset.from_tensor_slices((x_train, y_train))\n",
        "tf_train_32 = tf_train_.batch(32).prefetch(tf.data.AUTOTUNE)\n",
        "\n",
        "tf_val_ = tf.data.Dataset.from_tensor_slices((x_val, y_val))\n",
        "tf_val_32 = tf_val_.batch(32).prefetch(tf.data.AUTOTUNE)\n",
        "\n",
        "tf_test_ = tf.data.Dataset.from_tensor_slices((x_test, y_test))\n",
        "tf_test_32 = tf_test_.batch(32).prefetch(tf.data.AUTOTUNE)"
      ],
      "metadata": {
        "id": "WLEUgg76zjfx"
      },
      "execution_count": null,
      "outputs": []
    },
    {
      "cell_type": "code",
      "source": [
        "lstm_model_32bs = build_lstm(num_layers=1, emb_dim=64, drop_rate=0.2, l2=0.01, neurons=128, bidir=True)"
      ],
      "metadata": {
        "id": "opy0l9E-HuKa"
      },
      "execution_count": null,
      "outputs": []
    },
    {
      "cell_type": "code",
      "source": [
        "lstm_hist_32bs = lstm_model_32bs.fit(tf_train_32, epochs = 5, validation_data = tf_val_32)"
      ],
      "metadata": {
        "colab": {
          "base_uri": "https://localhost:8080/"
        },
        "id": "V439Ut-JHwOG",
        "outputId": "edacf6f5-4835-4f54-ddde-70f315ac4c40"
      },
      "execution_count": null,
      "outputs": [
        {
          "output_type": "stream",
          "name": "stdout",
          "text": [
            "Epoch 1/5\n",
            "5627/5627 [==============================] - 113s 19ms/step - loss: 0.6183 - accuracy: 0.7790 - val_loss: 0.5298 - val_accuracy: 0.8101\n",
            "Epoch 2/5\n",
            "5627/5627 [==============================] - 76s 13ms/step - loss: 0.4568 - accuracy: 0.8360 - val_loss: 0.5314 - val_accuracy: 0.8108\n",
            "Epoch 3/5\n",
            "5627/5627 [==============================] - 74s 13ms/step - loss: 0.3875 - accuracy: 0.8640 - val_loss: 0.5495 - val_accuracy: 0.8071\n",
            "Epoch 4/5\n",
            "5627/5627 [==============================] - 74s 13ms/step - loss: 0.3344 - accuracy: 0.8857 - val_loss: 0.5704 - val_accuracy: 0.8081\n",
            "Epoch 5/5\n",
            "5627/5627 [==============================] - 74s 13ms/step - loss: 0.2888 - accuracy: 0.9038 - val_loss: 0.6235 - val_accuracy: 0.8018\n"
          ]
        }
      ]
    },
    {
      "cell_type": "markdown",
      "source": [
        "<h2><b>Figures 7-8.</b>Model's losses and accuracy measurements with a batch_size = 64.</h2>"
      ],
      "metadata": {
        "id": "LjPYdr8a7w-W"
      }
    },
    {
      "cell_type": "code",
      "source": [
        "plot_hist(lstm_hist_64bs)"
      ],
      "metadata": {
        "colab": {
          "base_uri": "https://localhost:8080/",
          "height": 480
        },
        "id": "kGtUfTc_HirO",
        "outputId": "0cee0d0e-1957-4638-d4a8-3f05a6ac98b6"
      },
      "execution_count": null,
      "outputs": [
        {
          "output_type": "display_data",
          "data": {
            "text/plain": [
              "<Figure size 1600x500 with 2 Axes>"
            ],
            "image/png": "[encoded data removed]"
          },
          "metadata": {
            "needs_background": "light"
          }
        }
      ]
    },
    {
      "cell_type": "markdown",
      "source": [
        "<h2><b>Figures 9-10.</b> Model's losses and accuracy measurements with a batch_size = 32.</h2>"
      ],
      "metadata": {
        "id": "fps7d9pv74EC"
      }
    },
    {
      "cell_type": "code",
      "source": [
        "plot_hist(lstm_hist_32bs)"
      ],
      "metadata": {
        "colab": {
          "base_uri": "https://localhost:8080/",
          "height": 480
        },
        "id": "zNJreflTG0RD",
        "outputId": "e44baab9-c08e-4c51-864d-aa79edf4c4f1"
      },
      "execution_count": null,
      "outputs": [
        {
          "output_type": "display_data",
          "data": {
            "text/plain": [
              "<Figure size 1600x500 with 2 Axes>"
            ],
            "image/png": "[encoded data removed]"
          },
          "metadata": {
            "needs_background": "light"
          }
        }
      ]
    },
    {
      "cell_type": "markdown",
      "source": [
        "<h2><b>4.6</b> As can be seen from Figures 7-8, the batch size does have a somewhat regularizing effect, and decreasing it even further (Figures 9-10) leads to higher achieved val accuracy. It is important to note that validation loss is not necesarrily inversly correlated with accuracy, so its increase does not necessarily mean that accuracy has to decrease as well. For instance, it can happen when the network assigns higher and higher probability for a class that was initially classified incorrectly. </h2>"
      ],
      "metadata": {
        "id": "twKjNwhMyLYf"
      }
    },
    {
      "cell_type": "markdown",
      "source": [
        "<h2><b>4.7</b> Because of resource contraints Google Colab has, the final model will be trained with a larger batch size of 128 that was used initially, at the expense of lower test accuracy and greater overfitting, but for the purposes of this demonstration, I believe it would be sufficient. </h2>"
      ],
      "metadata": {
        "id": "Fu-y_qt8_ouV"
      }
    },
    {
      "cell_type": "code",
      "source": [
        "x_train_ = np.concatenate((x_train, x_val))\n",
        "y_train_ = np.concatenate((y_train, y_val))\n",
        "\n",
        "tf_train_ = tf.data.Dataset.from_tensor_slices((x_train_, y_train_))\n",
        "tf_train_ = tf_train_.batch(128).prefetch(tf.data.AUTOTUNE)\n",
        "\n",
        "tf_test_ = tf.data.Dataset.from_tensor_slices((x_test, y_test))\n",
        "tf_test_ = tf_test_.batch(128).prefetch(tf.data.AUTOTUNE)"
      ],
      "metadata": {
        "id": "IsRiAbs4LIvJ"
      },
      "execution_count": null,
      "outputs": []
    },
    {
      "cell_type": "code",
      "source": [
        "lstm_model_128bs = build_lstm(num_layers=1, emb_dim=64, drop_rate=0.2, l2=0.01, neurons=128, bidir=True)"
      ],
      "metadata": {
        "id": "jmJ1riSKLA8t"
      },
      "execution_count": null,
      "outputs": []
    },
    {
      "cell_type": "code",
      "source": [
        "lstm_hist_128bs = lstm_model_128bs.fit(tf_train_, epochs = 5, validation_data = tf_test_)"
      ],
      "metadata": {
        "colab": {
          "base_uri": "https://localhost:8080/"
        },
        "id": "vlT1NI1OLrAP",
        "outputId": "c52a2dbc-c2b1-4d4d-c2ef-735a49c6ab15"
      },
      "execution_count": null,
      "outputs": [
        {
          "output_type": "stream",
          "name": "stdout",
          "text": [
            "Epoch 1/5\n",
            "1643/1643 [==============================] - 72s 42ms/step - loss: 0.6731 - accuracy: 0.7680 - val_loss: 0.5384 - val_accuracy: 0.8066\n",
            "Epoch 2/5\n",
            "1643/1643 [==============================] - 24s 15ms/step - loss: 0.4679 - accuracy: 0.8316 - val_loss: 0.5421 - val_accuracy: 0.8019\n",
            "Epoch 3/5\n",
            "1643/1643 [==============================] - 24s 15ms/step - loss: 0.4034 - accuracy: 0.8563 - val_loss: 0.5629 - val_accuracy: 0.7967\n",
            "Epoch 4/5\n",
            "1643/1643 [==============================] - 24s 15ms/step - loss: 0.3531 - accuracy: 0.8754 - val_loss: 0.5929 - val_accuracy: 0.7969\n",
            "Epoch 5/5\n",
            "1643/1643 [==============================] - 24s 15ms/step - loss: 0.3145 - accuracy: 0.8917 - val_loss: 0.6341 - val_accuracy: 0.7909\n"
          ]
        }
      ]
    },
    {
      "cell_type": "code",
      "source": [
        "plot_hist(lstm_hist_128bs)"
      ],
      "metadata": {
        "colab": {
          "base_uri": "https://localhost:8080/",
          "height": 480
        },
        "id": "nsCM9X3cMtw2",
        "outputId": "717b0de8-9bf4-46c5-fccb-f5220823f0bf"
      },
      "execution_count": null,
      "outputs": [
        {
          "output_type": "display_data",
          "data": {
            "text/plain": [
              "<Figure size 1600x500 with 2 Axes>"
            ],
            "image/png": "[encoded data removed]"
          },
          "metadata": {
            "needs_background": "light"
          }
        }
      ]
    },
    {
      "cell_type": "markdown",
      "source": [
        "<h2> The model started overfitting right after the first epoch, so with these settings, it should be trained for 1 epoch.</h2>"
      ],
      "metadata": {
        "id": "r1IT8onHAsII"
      }
    },
    {
      "cell_type": "markdown",
      "source": [
        "<h1>Conclusion</h1>\n",
        "<h2>In this mini-project I have described a baseline to be a Multinomial Naive Bayes, which achieved the accuracy of ~73%, selected a simple NN model that beat the baseline by ~6%, implemented a Random Search class, which performed automatic experimentation with the provided hyperparameter settings, and finally described the LSTM architechture, which achieved >80% accuracy. The main takeaway from this experimentation is that it is extremely important to balance the complexity of the model with the proper selection of regularization parameters and batch sizes to achieve the best results."
      ],
      "metadata": {
        "id": "HxQE-P9XBfih"
      }
    }
  ]
}