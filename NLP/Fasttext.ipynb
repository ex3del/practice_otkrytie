{
 "nbformat": 4,
 "nbformat_minor": 0,
 "metadata": {
  "colab": {
   "provenance": []
  },
  "kernelspec": {
   "name": "python3",
   "language": "python",
   "display_name": "Python 3 (ipykernel)"
  },
  "language_info": {
   "name": "python"
  }
 },
 "cells": [
  {
   "cell_type": "code",
   "execution_count": 50,
   "metadata": {
    "id": "lySt6zHErMbJ"
   },
   "outputs": [],
   "source": [
    "import fasttext\n",
    "import numpy as np\n",
    "import pandas as pd\n",
    "import matplotlib.pyplot as  plt\n",
    "from nltk.corpus import stopwords\n",
    "from nltk.tokenize import WordPunctTokenizer\n",
    "from gensim.models import Word2Vec\n",
    "from nltk.stem import WordNetLemmatizer\n",
    "from sklearn.metrics import accuracy_score, f1_score, precision_score, recall_score\n",
    "from sklearn.linear_model import LogisticRegression\n",
    "from sklearn.metrics import confusion_matrix\n",
    "import seaborn as sea\n",
    "from sklearn.neighbors import KNeighborsClassifier\n",
    "import catboost as cat\n",
    "from sklearn.model_selection import RandomizedSearchCV\n",
    "from sklearn.model_selection import train_test_split\n",
    "\n",
    "\n",
    "def quality_metrics(marks, preds):\n",
    "    \"\"\"\n",
    "    Функция выводит значения основных показателей качества обучения модели\n",
    "    \"\"\"\n",
    "    print(\"Accuracy: {0:.9f}\".format(accuracy_score(marks, preds)))\n",
    "    print(\"Precision: {0:.9f}\".format(precision_score(marks, preds, average='micro')))\n",
    "    print(\"Recall: {0:.9f}\".format(recall_score(marks, preds, average='micro')))\n",
    "    print(\"F1: {0:.9f}\".format(f1_score(marks, preds, average='micro')))\n",
    "\n",
    "def vectorize(list_of_docs, model):\n",
    "    \"\"\"Generate vectors for list of documents using a Word Embedding\n",
    "\n",
    "    Args:\n",
    "        list_of_docs: List of documents\n",
    "        model: Gensim's Word Embedding\n",
    "\n",
    "    Returns:\n",
    "        List of document vectors\n",
    "    \"\"\"\n",
    "    features = []\n",
    "\n",
    "    for tokens in list_of_docs:\n",
    "        zero_vector = np.zeros(model.vector_size)\n",
    "        vectors = []\n",
    "        for token in tokens:\n",
    "            if token in model.wv:\n",
    "                try:\n",
    "                    vectors.append(model.wv[token])\n",
    "                except KeyError:\n",
    "                    continue\n",
    "        if vectors:\n",
    "            vectors = np.asarray(vectors)\n",
    "            avg_vec = vectors.mean(axis=0)\n",
    "            features.append(avg_vec)\n",
    "        else:\n",
    "            features.append(zero_vector)\n",
    "    return features"
   ]
  },
  {
   "cell_type": "code",
   "source": [
    "dataset = pd.read_csv('/content/selection_main (1).csv', delimiter=',')"
   ],
   "metadata": {
    "id": "6vPqbvsNrrgt"
   },
   "execution_count": 51,
   "outputs": []
  },
  {
   "cell_type": "code",
   "source": [
    "dataset = dataset.sample(frac=1)"
   ],
   "metadata": {
    "id": "IWqAxVvmrsIb"
   },
   "execution_count": 52,
   "outputs": []
  },
  {
   "cell_type": "code",
   "source": [
    "dataset"
   ],
   "metadata": {
    "colab": {
     "base_uri": "https://localhost:8080/",
     "height": 693
    },
    "id": "OmXQ1xDurr_M",
    "outputId": "debfa700-123c-4a80-f611-7748cae6101c"
   },
   "execution_count": 53,
   "outputs": [
    {
     "output_type": "execute_result",
     "data": {
      "text/plain": [
       "      Unnamed: 0                               url  \\\n",
       "3360        3360  https://arxiv.org/abs/2007.13926   \n",
       "3903        3903  https://arxiv.org/abs/1610.06490   \n",
       "7711        7711  https://arxiv.org/abs/2208.14197   \n",
       "4790        4790  https://arxiv.org/abs/2205.05070   \n",
       "5797        5797  https://arxiv.org/abs/2202.09110   \n",
       "...          ...                               ...   \n",
       "2838        2838  https://arxiv.org/abs/2203.13036   \n",
       "6777        6777  https://arxiv.org/abs/2110.11848   \n",
       "8561        8561  https://arxiv.org/abs/2205.01355   \n",
       "5853        5853  https://arxiv.org/abs/2202.12165   \n",
       "4529        4529  https://arxiv.org/abs/2208.04192   \n",
       "\n",
       "                                                  title  \\\n",
       "3360  Intelligent Optimization of Diversified Commun...   \n",
       "3903  An Ensemble of Adaptive Neuro-Fuzzy Kohonen Ne...   \n",
       "7711  A Comprehensive Review of Digital Twin -- Part...   \n",
       "4790  Tensor-based Collaborative Filtering With Smoo...   \n",
       "5797       Iterative Learning for Instance Segmentation   \n",
       "...                                                 ...   \n",
       "2838  Extending MAPE-K to support Human-Machine Teaming   \n",
       "6777  Clustering Market Regimes using the Wasserstei...   \n",
       "8561  Predicting Loose-Fitting Garment Deformations ...   \n",
       "5853   Transformers in Medical Image Analysis: A Review   \n",
       "4529  Institutional Collaboration Recommendation: An...   \n",
       "\n",
       "                                             tags_names  \\\n",
       "3360  Neural and Evolutionary Computing; Artificial ...   \n",
       "3903                            Artificial Intelligence   \n",
       "7711  Computational Engineering, Finance, and Scienc...   \n",
       "4790            Information Retrieval; Machine Learning   \n",
       "5797            Computer Vision and Pattern Recognition   \n",
       "...                                                 ...   \n",
       "2838                     Robotics; Software Engineering   \n",
       "6777  Computational Finance; Machine Learning; Mathe...   \n",
       "8561  Graphics; Computer Vision and Pattern Recognit...   \n",
       "5853            Computer Vision and Pattern Recognition   \n",
       "4529                                  Digital Libraries   \n",
       "\n",
       "                                               abstract  \\\n",
       "3360  Traditional Chinese medicine (TCM) has played ...   \n",
       "3903  A new approach to data stream clustering with ...   \n",
       "7711  As an emerging technology in the era of Indust...   \n",
       "4790  Conventional collaborative filtering technique...   \n",
       "5797  Instance segmentation is a computer vision tas...   \n",
       "...                                                 ...   \n",
       "2838  The MAPE-K feedback loop has been established ...   \n",
       "6777  The problem of rapid and automated detection o...   \n",
       "8561  We present a learning algorithm that uses bone...   \n",
       "5853  Transformers have dominated the field of natur...   \n",
       "4529  The shift from 'trust-based funding' to 'perfo...   \n",
       "\n",
       "                                           class  \n",
       "3360                                       Fuzzy  \n",
       "3903                                       Fuzzy  \n",
       "7711                             Control Systems  \n",
       "4790  Information Retrieval, Recommender Systems  \n",
       "5797                             Computer Vision  \n",
       "...                                          ...  \n",
       "2838                                     Robotic  \n",
       "6777                                 Text Mining  \n",
       "8561                                    Database  \n",
       "5853                             Computer Vision  \n",
       "4529  Information Retrieval, Recommender Systems  \n",
       "\n",
       "[10000 rows x 6 columns]"
      ],
      "text/html": [
       "\n",
       "  <div id=\"df-117c7e83-aa5a-4881-b1cb-5005c48d1ac9\">\n",
       "    <div class=\"colab-df-container\">\n",
       "      <div>\n",
       "<style scoped>\n",
       "    .dataframe tbody tr th:only-of-type {\n",
       "        vertical-align: middle;\n",
       "    }\n",
       "\n",
       "    .dataframe tbody tr th {\n",
       "        vertical-align: top;\n",
       "    }\n",
       "\n",
       "    .dataframe thead th {\n",
       "        text-align: right;\n",
       "    }\n",
       "</style>\n",
       "<table border=\"1\" class=\"dataframe\">\n",
       "  <thead>\n",
       "    <tr style=\"text-align: right;\">\n",
       "      <th></th>\n",
       "      <th>Unnamed: 0</th>\n",
       "      <th>url</th>\n",
       "      <th>title</th>\n",
       "      <th>tags_names</th>\n",
       "      <th>abstract</th>\n",
       "      <th>class</th>\n",
       "    </tr>\n",
       "  </thead>\n",
       "  <tbody>\n",
       "    <tr>\n",
       "      <th>3360</th>\n",
       "      <td>3360</td>\n",
       "      <td>https://arxiv.org/abs/2007.13926</td>\n",
       "      <td>Intelligent Optimization of Diversified Commun...</td>\n",
       "      <td>Neural and Evolutionary Computing; Artificial ...</td>\n",
       "      <td>Traditional Chinese medicine (TCM) has played ...</td>\n",
       "      <td>Fuzzy</td>\n",
       "    </tr>\n",
       "    <tr>\n",
       "      <th>3903</th>\n",
       "      <td>3903</td>\n",
       "      <td>https://arxiv.org/abs/1610.06490</td>\n",
       "      <td>An Ensemble of Adaptive Neuro-Fuzzy Kohonen Ne...</td>\n",
       "      <td>Artificial Intelligence</td>\n",
       "      <td>A new approach to data stream clustering with ...</td>\n",
       "      <td>Fuzzy</td>\n",
       "    </tr>\n",
       "    <tr>\n",
       "      <th>7711</th>\n",
       "      <td>7711</td>\n",
       "      <td>https://arxiv.org/abs/2208.14197</td>\n",
       "      <td>A Comprehensive Review of Digital Twin -- Part...</td>\n",
       "      <td>Computational Engineering, Finance, and Scienc...</td>\n",
       "      <td>As an emerging technology in the era of Indust...</td>\n",
       "      <td>Control Systems</td>\n",
       "    </tr>\n",
       "    <tr>\n",
       "      <th>4790</th>\n",
       "      <td>4790</td>\n",
       "      <td>https://arxiv.org/abs/2205.05070</td>\n",
       "      <td>Tensor-based Collaborative Filtering With Smoo...</td>\n",
       "      <td>Information Retrieval; Machine Learning</td>\n",
       "      <td>Conventional collaborative filtering technique...</td>\n",
       "      <td>Information Retrieval, Recommender Systems</td>\n",
       "    </tr>\n",
       "    <tr>\n",
       "      <th>5797</th>\n",
       "      <td>5797</td>\n",
       "      <td>https://arxiv.org/abs/2202.09110</td>\n",
       "      <td>Iterative Learning for Instance Segmentation</td>\n",
       "      <td>Computer Vision and Pattern Recognition</td>\n",
       "      <td>Instance segmentation is a computer vision tas...</td>\n",
       "      <td>Computer Vision</td>\n",
       "    </tr>\n",
       "    <tr>\n",
       "      <th>...</th>\n",
       "      <td>...</td>\n",
       "      <td>...</td>\n",
       "      <td>...</td>\n",
       "      <td>...</td>\n",
       "      <td>...</td>\n",
       "      <td>...</td>\n",
       "    </tr>\n",
       "    <tr>\n",
       "      <th>2838</th>\n",
       "      <td>2838</td>\n",
       "      <td>https://arxiv.org/abs/2203.13036</td>\n",
       "      <td>Extending MAPE-K to support Human-Machine Teaming</td>\n",
       "      <td>Robotics; Software Engineering</td>\n",
       "      <td>The MAPE-K feedback loop has been established ...</td>\n",
       "      <td>Robotic</td>\n",
       "    </tr>\n",
       "    <tr>\n",
       "      <th>6777</th>\n",
       "      <td>6777</td>\n",
       "      <td>https://arxiv.org/abs/2110.11848</td>\n",
       "      <td>Clustering Market Regimes using the Wasserstei...</td>\n",
       "      <td>Computational Finance; Machine Learning; Mathe...</td>\n",
       "      <td>The problem of rapid and automated detection o...</td>\n",
       "      <td>Text Mining</td>\n",
       "    </tr>\n",
       "    <tr>\n",
       "      <th>8561</th>\n",
       "      <td>8561</td>\n",
       "      <td>https://arxiv.org/abs/2205.01355</td>\n",
       "      <td>Predicting Loose-Fitting Garment Deformations ...</td>\n",
       "      <td>Graphics; Computer Vision and Pattern Recognit...</td>\n",
       "      <td>We present a learning algorithm that uses bone...</td>\n",
       "      <td>Database</td>\n",
       "    </tr>\n",
       "    <tr>\n",
       "      <th>5853</th>\n",
       "      <td>5853</td>\n",
       "      <td>https://arxiv.org/abs/2202.12165</td>\n",
       "      <td>Transformers in Medical Image Analysis: A Review</td>\n",
       "      <td>Computer Vision and Pattern Recognition</td>\n",
       "      <td>Transformers have dominated the field of natur...</td>\n",
       "      <td>Computer Vision</td>\n",
       "    </tr>\n",
       "    <tr>\n",
       "      <th>4529</th>\n",
       "      <td>4529</td>\n",
       "      <td>https://arxiv.org/abs/2208.04192</td>\n",
       "      <td>Institutional Collaboration Recommendation: An...</td>\n",
       "      <td>Digital Libraries</td>\n",
       "      <td>The shift from 'trust-based funding' to 'perfo...</td>\n",
       "      <td>Information Retrieval, Recommender Systems</td>\n",
       "    </tr>\n",
       "  </tbody>\n",
       "</table>\n",
       "<p>10000 rows × 6 columns</p>\n",
       "</div>\n",
       "      <button class=\"colab-df-convert\" onclick=\"convertToInteractive('df-117c7e83-aa5a-4881-b1cb-5005c48d1ac9')\"\n",
       "              title=\"Convert this dataframe to an interactive table.\"\n",
       "              style=\"display:none;\">\n",
       "        \n",
       "  <svg xmlns=\"http://www.w3.org/2000/svg\" height=\"24px\"viewBox=\"0 0 24 24\"\n",
       "       width=\"24px\">\n",
       "    <path d=\"M0 0h24v24H0V0z\" fill=\"none\"/>\n",
       "    <path d=\"M18.56 5.44l.94 2.06.94-2.06 2.06-.94-2.06-.94-.94-2.06-.94 2.06-2.06.94zm-11 1L8.5 8.5l.94-2.06 2.06-.94-2.06-.94L8.5 2.5l-.94 2.06-2.06.94zm10 10l.94 2.06.94-2.06 2.06-.94-2.06-.94-.94-2.06-.94 2.06-2.06.94z\"/><path d=\"M17.41 7.96l-1.37-1.37c-.4-.4-.92-.59-1.43-.59-.52 0-1.04.2-1.43.59L10.3 9.45l-7.72 7.72c-.78.78-.78 2.05 0 2.83L4 21.41c.39.39.9.59 1.41.59.51 0 1.02-.2 1.41-.59l7.78-7.78 2.81-2.81c.8-.78.8-2.07 0-2.86zM5.41 20L4 18.59l7.72-7.72 1.47 1.35L5.41 20z\"/>\n",
       "  </svg>\n",
       "      </button>\n",
       "      \n",
       "  <style>\n",
       "    .colab-df-container {\n",
       "      display:flex;\n",
       "      flex-wrap:wrap;\n",
       "      gap: 12px;\n",
       "    }\n",
       "\n",
       "    .colab-df-convert {\n",
       "      background-color: #E8F0FE;\n",
       "      border: none;\n",
       "      border-radius: 50%;\n",
       "      cursor: pointer;\n",
       "      display: none;\n",
       "      fill: #1967D2;\n",
       "      height: 32px;\n",
       "      padding: 0 0 0 0;\n",
       "      width: 32px;\n",
       "    }\n",
       "\n",
       "    .colab-df-convert:hover {\n",
       "      background-color: #E2EBFA;\n",
       "      box-shadow: 0px 1px 2px rgba(60, 64, 67, 0.3), 0px 1px 3px 1px rgba(60, 64, 67, 0.15);\n",
       "      fill: #174EA6;\n",
       "    }\n",
       "\n",
       "    [theme=dark] .colab-df-convert {\n",
       "      background-color: #3B4455;\n",
       "      fill: #D2E3FC;\n",
       "    }\n",
       "\n",
       "    [theme=dark] .colab-df-convert:hover {\n",
       "      background-color: #434B5C;\n",
       "      box-shadow: 0px 1px 3px 1px rgba(0, 0, 0, 0.15);\n",
       "      filter: drop-shadow(0px 1px 2px rgba(0, 0, 0, 0.3));\n",
       "      fill: #FFFFFF;\n",
       "    }\n",
       "  </style>\n",
       "\n",
       "      <script>\n",
       "        const buttonEl =\n",
       "          document.querySelector('#df-117c7e83-aa5a-4881-b1cb-5005c48d1ac9 button.colab-df-convert');\n",
       "        buttonEl.style.display =\n",
       "          google.colab.kernel.accessAllowed ? 'block' : 'none';\n",
       "\n",
       "        async function convertToInteractive(key) {\n",
       "          const element = document.querySelector('#df-117c7e83-aa5a-4881-b1cb-5005c48d1ac9');\n",
       "          const dataTable =\n",
       "            await google.colab.kernel.invokeFunction('convertToInteractive',\n",
       "                                                     [key], {});\n",
       "          if (!dataTable) return;\n",
       "\n",
       "          const docLinkHtml = 'Like what you see? Visit the ' +\n",
       "            '<a target=\"_blank\" href=https://colab.research.google.com/notebooks/data_table.ipynb>data table notebook</a>'\n",
       "            + ' to learn more about interactive tables.';\n",
       "          element.innerHTML = '';\n",
       "          dataTable['output_type'] = 'display_data';\n",
       "          await google.colab.output.renderOutput(dataTable, element);\n",
       "          const docLink = document.createElement('div');\n",
       "          docLink.innerHTML = docLinkHtml;\n",
       "          element.appendChild(docLink);\n",
       "        }\n",
       "      </script>\n",
       "    </div>\n",
       "  </div>\n",
       "  "
      ]
     },
     "metadata": {},
     "execution_count": 53
    }
   ]
  },
  {
   "cell_type": "code",
   "source": [
    "training, test = dataset.iloc[:7000], dataset.iloc[7000:]"
   ],
   "metadata": {
    "id": "nmj7XYmErr1T"
   },
   "execution_count": 54,
   "outputs": []
  },
  {
   "cell_type": "code",
   "source": [
    "training['class'].value_counts()"
   ],
   "metadata": {
    "colab": {
     "base_uri": "https://localhost:8080/"
    },
    "id": "uFPKxIXcs12C",
    "outputId": "0826d977-adb2-441d-9372-5c78f66b3ca3"
   },
   "execution_count": 55,
   "outputs": [
    {
     "output_type": "execute_result",
     "data": {
      "text/plain": [
       "Information Retrieval, Recommender Systems    721\n",
       "Neural Nets                                   720\n",
       "Cyber Security                                715\n",
       "Database                                      703\n",
       "Fuzzy                                         700\n",
       "Expert                                        698\n",
       "Text Mining                                   692\n",
       "Computer Vision                               689\n",
       "Control Systems                               681\n",
       "Robotic                                       681\n",
       "Name: class, dtype: int64"
      ]
     },
     "metadata": {},
     "execution_count": 55
    }
   ]
  },
  {
   "cell_type": "markdown",
   "source": [],
   "metadata": {
    "id": "Zga0M70xs2e8"
   }
  },
  {
   "cell_type": "code",
   "source": [
    "test['class'].value_counts()\n"
   ],
   "metadata": {
    "colab": {
     "base_uri": "https://localhost:8080/"
    },
    "id": "Pi8jyD4xs1z3",
    "outputId": "46deeb86-f661-4beb-aed5-8c59630b9767"
   },
   "execution_count": 56,
   "outputs": [
    {
     "output_type": "execute_result",
     "data": {
      "text/plain": [
       "Control Systems                               319\n",
       "Robotic                                       319\n",
       "Computer Vision                               311\n",
       "Text Mining                                   308\n",
       "Expert                                        302\n",
       "Fuzzy                                         300\n",
       "Database                                      297\n",
       "Cyber Security                                285\n",
       "Neural Nets                                   280\n",
       "Information Retrieval, Recommender Systems    279\n",
       "Name: class, dtype: int64"
      ]
     },
     "metadata": {},
     "execution_count": 56
    }
   ]
  },
  {
   "cell_type": "code",
   "source": [
    "import nltk\n",
    "nltk.download('stopwords')\n",
    "stopwords = stopwords.words('english')"
   ],
   "metadata": {
    "colab": {
     "base_uri": "https://localhost:8080/"
    },
    "id": "AEzNVgJ2s1xn",
    "outputId": "5b23f9eb-46e0-47d4-a694-d5b407143165"
   },
   "execution_count": 57,
   "outputs": [
    {
     "output_type": "stream",
     "name": "stderr",
     "text": [
      "[nltk_data] Downloading package stopwords to /root/nltk_data...\n",
      "[nltk_data]   Package stopwords is already up-to-date!\n"
     ]
    }
   ]
  },
  {
   "cell_type": "code",
   "source": [
    "tokenizer = WordPunctTokenizer()\n",
    "training['title'] = [tokenizer.tokenize(x.lower()) for x in training['title']]\n",
    "training['abstract'] = [tokenizer.tokenize(x.lower()) for x in training['abstract']]\n",
    "training['tags_names'] = [tokenizer.tokenize(x.lower()) for x in training['tags_names']]\n",
    "test['title'] = [tokenizer.tokenize(x.lower()) for x in test['title']]\n",
    "test['abstract'] = [tokenizer.tokenize(x.lower()) for x in test['abstract']]\n",
    "test['tags_names'] = [tokenizer.tokenize(x.lower()) for x in test['tags_names']]"
   ],
   "metadata": {
    "colab": {
     "base_uri": "https://localhost:8080/"
    },
    "id": "8fky81YQs1vX",
    "outputId": "a4c873c1-5ba7-4ddf-cf05-6235d0001ebd"
   },
   "execution_count": 58,
   "outputs": [
    {
     "output_type": "stream",
     "name": "stderr",
     "text": [
      "<ipython-input-58-d9d97d440fa3>:2: SettingWithCopyWarning: \n",
      "A value is trying to be set on a copy of a slice from a DataFrame.\n",
      "Try using .loc[row_indexer,col_indexer] = value instead\n",
      "\n",
      "See the caveats in the documentation: https://pandas.pydata.org/pandas-docs/stable/user_guide/indexing.html#returning-a-view-versus-a-copy\n",
      "  training['title'] = [tokenizer.tokenize(x.lower()) for x in training['title']]\n",
      "<ipython-input-58-d9d97d440fa3>:3: SettingWithCopyWarning: \n",
      "A value is trying to be set on a copy of a slice from a DataFrame.\n",
      "Try using .loc[row_indexer,col_indexer] = value instead\n",
      "\n",
      "See the caveats in the documentation: https://pandas.pydata.org/pandas-docs/stable/user_guide/indexing.html#returning-a-view-versus-a-copy\n",
      "  training['abstract'] = [tokenizer.tokenize(x.lower()) for x in training['abstract']]\n",
      "<ipython-input-58-d9d97d440fa3>:4: SettingWithCopyWarning: \n",
      "A value is trying to be set on a copy of a slice from a DataFrame.\n",
      "Try using .loc[row_indexer,col_indexer] = value instead\n",
      "\n",
      "See the caveats in the documentation: https://pandas.pydata.org/pandas-docs/stable/user_guide/indexing.html#returning-a-view-versus-a-copy\n",
      "  training['tags_names'] = [tokenizer.tokenize(x.lower()) for x in training['tags_names']]\n",
      "<ipython-input-58-d9d97d440fa3>:5: SettingWithCopyWarning: \n",
      "A value is trying to be set on a copy of a slice from a DataFrame.\n",
      "Try using .loc[row_indexer,col_indexer] = value instead\n",
      "\n",
      "See the caveats in the documentation: https://pandas.pydata.org/pandas-docs/stable/user_guide/indexing.html#returning-a-view-versus-a-copy\n",
      "  test['title'] = [tokenizer.tokenize(x.lower()) for x in test['title']]\n",
      "<ipython-input-58-d9d97d440fa3>:6: SettingWithCopyWarning: \n",
      "A value is trying to be set on a copy of a slice from a DataFrame.\n",
      "Try using .loc[row_indexer,col_indexer] = value instead\n",
      "\n",
      "See the caveats in the documentation: https://pandas.pydata.org/pandas-docs/stable/user_guide/indexing.html#returning-a-view-versus-a-copy\n",
      "  test['abstract'] = [tokenizer.tokenize(x.lower()) for x in test['abstract']]\n",
      "<ipython-input-58-d9d97d440fa3>:7: SettingWithCopyWarning: \n",
      "A value is trying to be set on a copy of a slice from a DataFrame.\n",
      "Try using .loc[row_indexer,col_indexer] = value instead\n",
      "\n",
      "See the caveats in the documentation: https://pandas.pydata.org/pandas-docs/stable/user_guide/indexing.html#returning-a-view-versus-a-copy\n",
      "  test['tags_names'] = [tokenizer.tokenize(x.lower()) for x in test['tags_names']]\n"
     ]
    }
   ]
  },
  {
   "cell_type": "code",
   "source": [
    "for i in ['title', 'abstract', 'tags_names']:\n",
    "    training[i] = [[x for x in y if x not in stopwords] for y in training[i]]\n",
    "    test[i] = [[x for x in y if x not in stopwords] for y in test[i]]\n"
   ],
   "metadata": {
    "colab": {
     "base_uri": "https://localhost:8080/"
    },
    "id": "niwl4-Ins1tC",
    "outputId": "8f9c5ebe-c50c-4f0c-ad39-fe5547f733f2"
   },
   "execution_count": 59,
   "outputs": [
    {
     "output_type": "stream",
     "name": "stderr",
     "text": [
      "<ipython-input-59-0998ee9ae46d>:2: SettingWithCopyWarning: \n",
      "A value is trying to be set on a copy of a slice from a DataFrame.\n",
      "Try using .loc[row_indexer,col_indexer] = value instead\n",
      "\n",
      "See the caveats in the documentation: https://pandas.pydata.org/pandas-docs/stable/user_guide/indexing.html#returning-a-view-versus-a-copy\n",
      "  training[i] = [[x for x in y if x not in stopwords] for y in training[i]]\n",
      "<ipython-input-59-0998ee9ae46d>:3: SettingWithCopyWarning: \n",
      "A value is trying to be set on a copy of a slice from a DataFrame.\n",
      "Try using .loc[row_indexer,col_indexer] = value instead\n",
      "\n",
      "See the caveats in the documentation: https://pandas.pydata.org/pandas-docs/stable/user_guide/indexing.html#returning-a-view-versus-a-copy\n",
      "  test[i] = [[x for x in y if x not in stopwords] for y in test[i]]\n"
     ]
    }
   ]
  },
  {
   "cell_type": "code",
   "source": [
    "training = training.drop(columns=['url', 'Unnamed: 0'])\n",
    "test = test.drop(columns=['url', 'Unnamed: 0'])"
   ],
   "metadata": {
    "id": "JoXXFV08s1q6"
   },
   "execution_count": 60,
   "outputs": []
  },
  {
   "cell_type": "code",
   "source": [
    "training['text'] = training['title'] + training['tags_names'] + training['abstract']\n",
    "test['text'] = test['title'] + test['tags_names'] + test['abstract']"
   ],
   "metadata": {
    "id": "Hrh_QSNes1oz"
   },
   "execution_count": 61,
   "outputs": []
  },
  {
   "cell_type": "code",
   "source": [
    "training = training.drop(columns=['title', 'tags_names', 'abstract'])\n",
    "test = test.drop(columns=['title', 'tags_names', 'abstract'])"
   ],
   "metadata": {
    "id": "9_6QqjGEs1mh"
   },
   "execution_count": 62,
   "outputs": []
  },
  {
   "cell_type": "code",
   "source": [
    "training = training[['text', 'class']]\n",
    "test = test[['text', 'class']]"
   ],
   "metadata": {
    "id": "-_4CLpLks1kW"
   },
   "execution_count": 63,
   "outputs": []
  },
  {
   "cell_type": "code",
   "source": [
    "lem = WordNetLemmatizer()\n",
    "training['text'] = [[lem.lemmatize(x) for x in i] for i in training['text']]\n",
    "training['text'] = [[x for x in i if x.isalpha()] for i in training['text']]"
   ],
   "metadata": {
    "id": "ELwjTRpFs1iE"
   },
   "execution_count": 64,
   "outputs": []
  },
  {
   "cell_type": "code",
   "source": [
    "test['text'] = [[lem.lemmatize(x) for x in i] for i in test['text']]\n",
    "test['text'] = [[x for x in i if x.isalpha()] for i in test['text']]"
   ],
   "metadata": {
    "id": "f-7RQvdxzGEK"
   },
   "execution_count": 67,
   "outputs": []
  },
  {
   "cell_type": "code",
   "source": [
    "test"
   ],
   "metadata": {
    "colab": {
     "base_uri": "https://localhost:8080/",
     "height": 423
    },
    "id": "RO-OOy0by-Ft",
    "outputId": "a3bb284a-f538-43a1-cecd-95cf55aa23c9"
   },
   "execution_count": 68,
   "outputs": [
    {
     "output_type": "execute_result",
     "data": {
      "text/plain": [
       "                                                   text  \\\n",
       "6693  [social, fraud, detection, review, method, cha...   \n",
       "7746  [motion, planning, control, multi, vehicle, au...   \n",
       "8422  [nosql, security, data, driven, decision, maki...   \n",
       "9433  [phishing, attack, website, classification, us...   \n",
       "9200  [fixed, point, cyber, space, rethinking, optim...   \n",
       "...                                                 ...   \n",
       "2838  [extending, mape, k, support, human, machine, ...   \n",
       "6777  [clustering, market, regime, using, wasserstei...   \n",
       "8561  [predicting, loose, fitting, garment, deformat...   \n",
       "5853  [transformer, medical, image, analysis, review...   \n",
       "4529  [institutional, collaboration, recommendation,...   \n",
       "\n",
       "                                           class  \n",
       "6693                                 Text Mining  \n",
       "7746                             Control Systems  \n",
       "8422                                    Database  \n",
       "9433                              Cyber Security  \n",
       "9200                              Cyber Security  \n",
       "...                                          ...  \n",
       "2838                                     Robotic  \n",
       "6777                                 Text Mining  \n",
       "8561                                    Database  \n",
       "5853                             Computer Vision  \n",
       "4529  Information Retrieval, Recommender Systems  \n",
       "\n",
       "[3000 rows x 2 columns]"
      ],
      "text/html": [
       "\n",
       "  <div id=\"df-33fe8da9-77a6-4a62-9555-38c4ce273c37\">\n",
       "    <div class=\"colab-df-container\">\n",
       "      <div>\n",
       "<style scoped>\n",
       "    .dataframe tbody tr th:only-of-type {\n",
       "        vertical-align: middle;\n",
       "    }\n",
       "\n",
       "    .dataframe tbody tr th {\n",
       "        vertical-align: top;\n",
       "    }\n",
       "\n",
       "    .dataframe thead th {\n",
       "        text-align: right;\n",
       "    }\n",
       "</style>\n",
       "<table border=\"1\" class=\"dataframe\">\n",
       "  <thead>\n",
       "    <tr style=\"text-align: right;\">\n",
       "      <th></th>\n",
       "      <th>text</th>\n",
       "      <th>class</th>\n",
       "    </tr>\n",
       "  </thead>\n",
       "  <tbody>\n",
       "    <tr>\n",
       "      <th>6693</th>\n",
       "      <td>[social, fraud, detection, review, method, cha...</td>\n",
       "      <td>Text Mining</td>\n",
       "    </tr>\n",
       "    <tr>\n",
       "      <th>7746</th>\n",
       "      <td>[motion, planning, control, multi, vehicle, au...</td>\n",
       "      <td>Control Systems</td>\n",
       "    </tr>\n",
       "    <tr>\n",
       "      <th>8422</th>\n",
       "      <td>[nosql, security, data, driven, decision, maki...</td>\n",
       "      <td>Database</td>\n",
       "    </tr>\n",
       "    <tr>\n",
       "      <th>9433</th>\n",
       "      <td>[phishing, attack, website, classification, us...</td>\n",
       "      <td>Cyber Security</td>\n",
       "    </tr>\n",
       "    <tr>\n",
       "      <th>9200</th>\n",
       "      <td>[fixed, point, cyber, space, rethinking, optim...</td>\n",
       "      <td>Cyber Security</td>\n",
       "    </tr>\n",
       "    <tr>\n",
       "      <th>...</th>\n",
       "      <td>...</td>\n",
       "      <td>...</td>\n",
       "    </tr>\n",
       "    <tr>\n",
       "      <th>2838</th>\n",
       "      <td>[extending, mape, k, support, human, machine, ...</td>\n",
       "      <td>Robotic</td>\n",
       "    </tr>\n",
       "    <tr>\n",
       "      <th>6777</th>\n",
       "      <td>[clustering, market, regime, using, wasserstei...</td>\n",
       "      <td>Text Mining</td>\n",
       "    </tr>\n",
       "    <tr>\n",
       "      <th>8561</th>\n",
       "      <td>[predicting, loose, fitting, garment, deformat...</td>\n",
       "      <td>Database</td>\n",
       "    </tr>\n",
       "    <tr>\n",
       "      <th>5853</th>\n",
       "      <td>[transformer, medical, image, analysis, review...</td>\n",
       "      <td>Computer Vision</td>\n",
       "    </tr>\n",
       "    <tr>\n",
       "      <th>4529</th>\n",
       "      <td>[institutional, collaboration, recommendation,...</td>\n",
       "      <td>Information Retrieval, Recommender Systems</td>\n",
       "    </tr>\n",
       "  </tbody>\n",
       "</table>\n",
       "<p>3000 rows × 2 columns</p>\n",
       "</div>\n",
       "      <button class=\"colab-df-convert\" onclick=\"convertToInteractive('df-33fe8da9-77a6-4a62-9555-38c4ce273c37')\"\n",
       "              title=\"Convert this dataframe to an interactive table.\"\n",
       "              style=\"display:none;\">\n",
       "        \n",
       "  <svg xmlns=\"http://www.w3.org/2000/svg\" height=\"24px\"viewBox=\"0 0 24 24\"\n",
       "       width=\"24px\">\n",
       "    <path d=\"M0 0h24v24H0V0z\" fill=\"none\"/>\n",
       "    <path d=\"M18.56 5.44l.94 2.06.94-2.06 2.06-.94-2.06-.94-.94-2.06-.94 2.06-2.06.94zm-11 1L8.5 8.5l.94-2.06 2.06-.94-2.06-.94L8.5 2.5l-.94 2.06-2.06.94zm10 10l.94 2.06.94-2.06 2.06-.94-2.06-.94-.94-2.06-.94 2.06-2.06.94z\"/><path d=\"M17.41 7.96l-1.37-1.37c-.4-.4-.92-.59-1.43-.59-.52 0-1.04.2-1.43.59L10.3 9.45l-7.72 7.72c-.78.78-.78 2.05 0 2.83L4 21.41c.39.39.9.59 1.41.59.51 0 1.02-.2 1.41-.59l7.78-7.78 2.81-2.81c.8-.78.8-2.07 0-2.86zM5.41 20L4 18.59l7.72-7.72 1.47 1.35L5.41 20z\"/>\n",
       "  </svg>\n",
       "      </button>\n",
       "      \n",
       "  <style>\n",
       "    .colab-df-container {\n",
       "      display:flex;\n",
       "      flex-wrap:wrap;\n",
       "      gap: 12px;\n",
       "    }\n",
       "\n",
       "    .colab-df-convert {\n",
       "      background-color: #E8F0FE;\n",
       "      border: none;\n",
       "      border-radius: 50%;\n",
       "      cursor: pointer;\n",
       "      display: none;\n",
       "      fill: #1967D2;\n",
       "      height: 32px;\n",
       "      padding: 0 0 0 0;\n",
       "      width: 32px;\n",
       "    }\n",
       "\n",
       "    .colab-df-convert:hover {\n",
       "      background-color: #E2EBFA;\n",
       "      box-shadow: 0px 1px 2px rgba(60, 64, 67, 0.3), 0px 1px 3px 1px rgba(60, 64, 67, 0.15);\n",
       "      fill: #174EA6;\n",
       "    }\n",
       "\n",
       "    [theme=dark] .colab-df-convert {\n",
       "      background-color: #3B4455;\n",
       "      fill: #D2E3FC;\n",
       "    }\n",
       "\n",
       "    [theme=dark] .colab-df-convert:hover {\n",
       "      background-color: #434B5C;\n",
       "      box-shadow: 0px 1px 3px 1px rgba(0, 0, 0, 0.15);\n",
       "      filter: drop-shadow(0px 1px 2px rgba(0, 0, 0, 0.3));\n",
       "      fill: #FFFFFF;\n",
       "    }\n",
       "  </style>\n",
       "\n",
       "      <script>\n",
       "        const buttonEl =\n",
       "          document.querySelector('#df-33fe8da9-77a6-4a62-9555-38c4ce273c37 button.colab-df-convert');\n",
       "        buttonEl.style.display =\n",
       "          google.colab.kernel.accessAllowed ? 'block' : 'none';\n",
       "\n",
       "        async function convertToInteractive(key) {\n",
       "          const element = document.querySelector('#df-33fe8da9-77a6-4a62-9555-38c4ce273c37');\n",
       "          const dataTable =\n",
       "            await google.colab.kernel.invokeFunction('convertToInteractive',\n",
       "                                                     [key], {});\n",
       "          if (!dataTable) return;\n",
       "\n",
       "          const docLinkHtml = 'Like what you see? Visit the ' +\n",
       "            '<a target=\"_blank\" href=https://colab.research.google.com/notebooks/data_table.ipynb>data table notebook</a>'\n",
       "            + ' to learn more about interactive tables.';\n",
       "          element.innerHTML = '';\n",
       "          dataTable['output_type'] = 'display_data';\n",
       "          await google.colab.output.renderOutput(dataTable, element);\n",
       "          const docLink = document.createElement('div');\n",
       "          docLink.innerHTML = docLinkHtml;\n",
       "          element.appendChild(docLink);\n",
       "        }\n",
       "      </script>\n",
       "    </div>\n",
       "  </div>\n",
       "  "
      ]
     },
     "metadata": {},
     "execution_count": 68
    }
   ]
  },
  {
   "cell_type": "code",
   "source": [
    "clses = ['Computer Vision', 'Control Systems', 'Cyber Security', 'Database', 'Expert', 'Fuzzy', \"Information Retrieval, Recommender Systems\", 'Neural Nets', 'Robotic', 'Text Mining']\n",
    "dic_lbls = {clses[i]:i  for i in range(10)}\n",
    "training = training.replace(dic_lbls)\n",
    "training['labels'] = training['class']\n",
    "training = training.drop(columns=['class'])\n",
    "dic_lbls"
   ],
   "metadata": {
    "colab": {
     "base_uri": "https://localhost:8080/"
    },
    "id": "coRxSXv8s1f0",
    "outputId": "eb632ecb-8d3a-40dc-b45d-d57ed78cc5a1"
   },
   "execution_count": 69,
   "outputs": [
    {
     "output_type": "execute_result",
     "data": {
      "text/plain": [
       "{'Computer Vision': 0,\n",
       " 'Control Systems': 1,\n",
       " 'Cyber Security': 2,\n",
       " 'Database': 3,\n",
       " 'Expert': 4,\n",
       " 'Fuzzy': 5,\n",
       " 'Information Retrieval, Recommender Systems': 6,\n",
       " 'Neural Nets': 7,\n",
       " 'Robotic': 8,\n",
       " 'Text Mining': 9}"
      ]
     },
     "metadata": {},
     "execution_count": 69
    }
   ]
  },
  {
   "cell_type": "code",
   "source": [
    "training"
   ],
   "metadata": {
    "colab": {
     "base_uri": "https://localhost:8080/",
     "height": 423
    },
    "id": "lhYjrZ_7s1dn",
    "outputId": "eb69aaa0-4ec5-4839-d679-3d705ae21460"
   },
   "execution_count": 70,
   "outputs": [
    {
     "output_type": "execute_result",
     "data": {
      "text/plain": [
       "                                                   text  labels\n",
       "3360  [intelligent, optimization, diversified, commu...       5\n",
       "3903  [ensemble, adaptive, neuro, fuzzy, kohonen, ne...       5\n",
       "7711  [comprehensive, review, digital, twin, part, m...       1\n",
       "4790  [tensor, based, collaborative, filtering, smoo...       6\n",
       "5797  [iterative, learning, instance, segmentation, ...       0\n",
       "...                                                 ...     ...\n",
       "3066  [robust, fuzzy, q, learning, based, strictly, ...       5\n",
       "742   [attack, deidentification, defense, cryptograp...       4\n",
       "2870  [transferable, legged, mobile, manipulation, f...       8\n",
       "8856  [vldb, designing, hybrid, conference, database...       3\n",
       "6849  [numgpt, improving, numeracy, ability, generat...       9\n",
       "\n",
       "[7000 rows x 2 columns]"
      ],
      "text/html": [
       "\n",
       "  <div id=\"df-f0d6bac0-068e-4866-be7d-9a0b8628b1ba\">\n",
       "    <div class=\"colab-df-container\">\n",
       "      <div>\n",
       "<style scoped>\n",
       "    .dataframe tbody tr th:only-of-type {\n",
       "        vertical-align: middle;\n",
       "    }\n",
       "\n",
       "    .dataframe tbody tr th {\n",
       "        vertical-align: top;\n",
       "    }\n",
       "\n",
       "    .dataframe thead th {\n",
       "        text-align: right;\n",
       "    }\n",
       "</style>\n",
       "<table border=\"1\" class=\"dataframe\">\n",
       "  <thead>\n",
       "    <tr style=\"text-align: right;\">\n",
       "      <th></th>\n",
       "      <th>text</th>\n",
       "      <th>labels</th>\n",
       "    </tr>\n",
       "  </thead>\n",
       "  <tbody>\n",
       "    <tr>\n",
       "      <th>3360</th>\n",
       "      <td>[intelligent, optimization, diversified, commu...</td>\n",
       "      <td>5</td>\n",
       "    </tr>\n",
       "    <tr>\n",
       "      <th>3903</th>\n",
       "      <td>[ensemble, adaptive, neuro, fuzzy, kohonen, ne...</td>\n",
       "      <td>5</td>\n",
       "    </tr>\n",
       "    <tr>\n",
       "      <th>7711</th>\n",
       "      <td>[comprehensive, review, digital, twin, part, m...</td>\n",
       "      <td>1</td>\n",
       "    </tr>\n",
       "    <tr>\n",
       "      <th>4790</th>\n",
       "      <td>[tensor, based, collaborative, filtering, smoo...</td>\n",
       "      <td>6</td>\n",
       "    </tr>\n",
       "    <tr>\n",
       "      <th>5797</th>\n",
       "      <td>[iterative, learning, instance, segmentation, ...</td>\n",
       "      <td>0</td>\n",
       "    </tr>\n",
       "    <tr>\n",
       "      <th>...</th>\n",
       "      <td>...</td>\n",
       "      <td>...</td>\n",
       "    </tr>\n",
       "    <tr>\n",
       "      <th>3066</th>\n",
       "      <td>[robust, fuzzy, q, learning, based, strictly, ...</td>\n",
       "      <td>5</td>\n",
       "    </tr>\n",
       "    <tr>\n",
       "      <th>742</th>\n",
       "      <td>[attack, deidentification, defense, cryptograp...</td>\n",
       "      <td>4</td>\n",
       "    </tr>\n",
       "    <tr>\n",
       "      <th>2870</th>\n",
       "      <td>[transferable, legged, mobile, manipulation, f...</td>\n",
       "      <td>8</td>\n",
       "    </tr>\n",
       "    <tr>\n",
       "      <th>8856</th>\n",
       "      <td>[vldb, designing, hybrid, conference, database...</td>\n",
       "      <td>3</td>\n",
       "    </tr>\n",
       "    <tr>\n",
       "      <th>6849</th>\n",
       "      <td>[numgpt, improving, numeracy, ability, generat...</td>\n",
       "      <td>9</td>\n",
       "    </tr>\n",
       "  </tbody>\n",
       "</table>\n",
       "<p>7000 rows × 2 columns</p>\n",
       "</div>\n",
       "      <button class=\"colab-df-convert\" onclick=\"convertToInteractive('df-f0d6bac0-068e-4866-be7d-9a0b8628b1ba')\"\n",
       "              title=\"Convert this dataframe to an interactive table.\"\n",
       "              style=\"display:none;\">\n",
       "        \n",
       "  <svg xmlns=\"http://www.w3.org/2000/svg\" height=\"24px\"viewBox=\"0 0 24 24\"\n",
       "       width=\"24px\">\n",
       "    <path d=\"M0 0h24v24H0V0z\" fill=\"none\"/>\n",
       "    <path d=\"M18.56 5.44l.94 2.06.94-2.06 2.06-.94-2.06-.94-.94-2.06-.94 2.06-2.06.94zm-11 1L8.5 8.5l.94-2.06 2.06-.94-2.06-.94L8.5 2.5l-.94 2.06-2.06.94zm10 10l.94 2.06.94-2.06 2.06-.94-2.06-.94-.94-2.06-.94 2.06-2.06.94z\"/><path d=\"M17.41 7.96l-1.37-1.37c-.4-.4-.92-.59-1.43-.59-.52 0-1.04.2-1.43.59L10.3 9.45l-7.72 7.72c-.78.78-.78 2.05 0 2.83L4 21.41c.39.39.9.59 1.41.59.51 0 1.02-.2 1.41-.59l7.78-7.78 2.81-2.81c.8-.78.8-2.07 0-2.86zM5.41 20L4 18.59l7.72-7.72 1.47 1.35L5.41 20z\"/>\n",
       "  </svg>\n",
       "      </button>\n",
       "      \n",
       "  <style>\n",
       "    .colab-df-container {\n",
       "      display:flex;\n",
       "      flex-wrap:wrap;\n",
       "      gap: 12px;\n",
       "    }\n",
       "\n",
       "    .colab-df-convert {\n",
       "      background-color: #E8F0FE;\n",
       "      border: none;\n",
       "      border-radius: 50%;\n",
       "      cursor: pointer;\n",
       "      display: none;\n",
       "      fill: #1967D2;\n",
       "      height: 32px;\n",
       "      padding: 0 0 0 0;\n",
       "      width: 32px;\n",
       "    }\n",
       "\n",
       "    .colab-df-convert:hover {\n",
       "      background-color: #E2EBFA;\n",
       "      box-shadow: 0px 1px 2px rgba(60, 64, 67, 0.3), 0px 1px 3px 1px rgba(60, 64, 67, 0.15);\n",
       "      fill: #174EA6;\n",
       "    }\n",
       "\n",
       "    [theme=dark] .colab-df-convert {\n",
       "      background-color: #3B4455;\n",
       "      fill: #D2E3FC;\n",
       "    }\n",
       "\n",
       "    [theme=dark] .colab-df-convert:hover {\n",
       "      background-color: #434B5C;\n",
       "      box-shadow: 0px 1px 3px 1px rgba(0, 0, 0, 0.15);\n",
       "      filter: drop-shadow(0px 1px 2px rgba(0, 0, 0, 0.3));\n",
       "      fill: #FFFFFF;\n",
       "    }\n",
       "  </style>\n",
       "\n",
       "      <script>\n",
       "        const buttonEl =\n",
       "          document.querySelector('#df-f0d6bac0-068e-4866-be7d-9a0b8628b1ba button.colab-df-convert');\n",
       "        buttonEl.style.display =\n",
       "          google.colab.kernel.accessAllowed ? 'block' : 'none';\n",
       "\n",
       "        async function convertToInteractive(key) {\n",
       "          const element = document.querySelector('#df-f0d6bac0-068e-4866-be7d-9a0b8628b1ba');\n",
       "          const dataTable =\n",
       "            await google.colab.kernel.invokeFunction('convertToInteractive',\n",
       "                                                     [key], {});\n",
       "          if (!dataTable) return;\n",
       "\n",
       "          const docLinkHtml = 'Like what you see? Visit the ' +\n",
       "            '<a target=\"_blank\" href=https://colab.research.google.com/notebooks/data_table.ipynb>data table notebook</a>'\n",
       "            + ' to learn more about interactive tables.';\n",
       "          element.innerHTML = '';\n",
       "          dataTable['output_type'] = 'display_data';\n",
       "          await google.colab.output.renderOutput(dataTable, element);\n",
       "          const docLink = document.createElement('div');\n",
       "          docLink.innerHTML = docLinkHtml;\n",
       "          element.appendChild(docLink);\n",
       "        }\n",
       "      </script>\n",
       "    </div>\n",
       "  </div>\n",
       "  "
      ]
     },
     "metadata": {},
     "execution_count": 70
    }
   ]
  },
  {
   "cell_type": "code",
   "source": [
    "nltk.download('wordnet')"
   ],
   "metadata": {
    "colab": {
     "base_uri": "https://localhost:8080/"
    },
    "id": "I1C2_OIrtWey",
    "outputId": "4ac54522-3b0c-42b7-c2a6-049ee1b6f8fc"
   },
   "execution_count": 30,
   "outputs": [
    {
     "output_type": "stream",
     "name": "stderr",
     "text": [
      "[nltk_data] Downloading package wordnet to /root/nltk_data...\n"
     ]
    },
    {
     "output_type": "execute_result",
     "data": {
      "text/plain": [
       "True"
      ]
     },
     "metadata": {},
     "execution_count": 30
    }
   ]
  },
  {
   "cell_type": "code",
   "source": [
    "test['text'] = [[lem.lemmatize(x) for x in i] for i in test['text']]\n",
    "test['text'] = [[x for x in i if x.isalpha()] for i in test['text']]\n",
    "test = test.replace(dic_lbls)\n",
    "test['labels'] = test['class']\n",
    "test = test.drop(columns=['class'])"
   ],
   "metadata": {
    "id": "xUnxX8ufs1bR"
   },
   "execution_count": 71,
   "outputs": []
  },
  {
   "cell_type": "code",
   "source": [
    "test"
   ],
   "metadata": {
    "colab": {
     "base_uri": "https://localhost:8080/",
     "height": 423
    },
    "id": "3PxkZJUVzjg1",
    "outputId": "f680aae7-828d-4e2a-f0b1-d34fd9c7f950"
   },
   "execution_count": 77,
   "outputs": [
    {
     "output_type": "execute_result",
     "data": {
      "text/plain": [
       "                                                   text  labels\n",
       "6693  [social, fraud, detection, review, method, cha...       9\n",
       "7746  [motion, planning, control, multi, vehicle, au...       1\n",
       "8422  [nosql, security, data, driven, decision, maki...       3\n",
       "9433  [phishing, attack, website, classification, us...       2\n",
       "9200  [fixed, point, cyber, space, rethinking, optim...       2\n",
       "...                                                 ...     ...\n",
       "2838  [extending, mape, k, support, human, machine, ...       8\n",
       "6777  [clustering, market, regime, using, wasserstei...       9\n",
       "8561  [predicting, loose, fitting, garment, deformat...       3\n",
       "5853  [transformer, medical, image, analysis, review...       0\n",
       "4529  [institutional, collaboration, recommendation,...       6\n",
       "\n",
       "[3000 rows x 2 columns]"
      ],
      "text/html": [
       "\n",
       "  <div id=\"df-1816c7b6-37f1-4fcb-a972-325382d4c11a\">\n",
       "    <div class=\"colab-df-container\">\n",
       "      <div>\n",
       "<style scoped>\n",
       "    .dataframe tbody tr th:only-of-type {\n",
       "        vertical-align: middle;\n",
       "    }\n",
       "\n",
       "    .dataframe tbody tr th {\n",
       "        vertical-align: top;\n",
       "    }\n",
       "\n",
       "    .dataframe thead th {\n",
       "        text-align: right;\n",
       "    }\n",
       "</style>\n",
       "<table border=\"1\" class=\"dataframe\">\n",
       "  <thead>\n",
       "    <tr style=\"text-align: right;\">\n",
       "      <th></th>\n",
       "      <th>text</th>\n",
       "      <th>labels</th>\n",
       "    </tr>\n",
       "  </thead>\n",
       "  <tbody>\n",
       "    <tr>\n",
       "      <th>6693</th>\n",
       "      <td>[social, fraud, detection, review, method, cha...</td>\n",
       "      <td>9</td>\n",
       "    </tr>\n",
       "    <tr>\n",
       "      <th>7746</th>\n",
       "      <td>[motion, planning, control, multi, vehicle, au...</td>\n",
       "      <td>1</td>\n",
       "    </tr>\n",
       "    <tr>\n",
       "      <th>8422</th>\n",
       "      <td>[nosql, security, data, driven, decision, maki...</td>\n",
       "      <td>3</td>\n",
       "    </tr>\n",
       "    <tr>\n",
       "      <th>9433</th>\n",
       "      <td>[phishing, attack, website, classification, us...</td>\n",
       "      <td>2</td>\n",
       "    </tr>\n",
       "    <tr>\n",
       "      <th>9200</th>\n",
       "      <td>[fixed, point, cyber, space, rethinking, optim...</td>\n",
       "      <td>2</td>\n",
       "    </tr>\n",
       "    <tr>\n",
       "      <th>...</th>\n",
       "      <td>...</td>\n",
       "      <td>...</td>\n",
       "    </tr>\n",
       "    <tr>\n",
       "      <th>2838</th>\n",
       "      <td>[extending, mape, k, support, human, machine, ...</td>\n",
       "      <td>8</td>\n",
       "    </tr>\n",
       "    <tr>\n",
       "      <th>6777</th>\n",
       "      <td>[clustering, market, regime, using, wasserstei...</td>\n",
       "      <td>9</td>\n",
       "    </tr>\n",
       "    <tr>\n",
       "      <th>8561</th>\n",
       "      <td>[predicting, loose, fitting, garment, deformat...</td>\n",
       "      <td>3</td>\n",
       "    </tr>\n",
       "    <tr>\n",
       "      <th>5853</th>\n",
       "      <td>[transformer, medical, image, analysis, review...</td>\n",
       "      <td>0</td>\n",
       "    </tr>\n",
       "    <tr>\n",
       "      <th>4529</th>\n",
       "      <td>[institutional, collaboration, recommendation,...</td>\n",
       "      <td>6</td>\n",
       "    </tr>\n",
       "  </tbody>\n",
       "</table>\n",
       "<p>3000 rows × 2 columns</p>\n",
       "</div>\n",
       "      <button class=\"colab-df-convert\" onclick=\"convertToInteractive('df-1816c7b6-37f1-4fcb-a972-325382d4c11a')\"\n",
       "              title=\"Convert this dataframe to an interactive table.\"\n",
       "              style=\"display:none;\">\n",
       "        \n",
       "  <svg xmlns=\"http://www.w3.org/2000/svg\" height=\"24px\"viewBox=\"0 0 24 24\"\n",
       "       width=\"24px\">\n",
       "    <path d=\"M0 0h24v24H0V0z\" fill=\"none\"/>\n",
       "    <path d=\"M18.56 5.44l.94 2.06.94-2.06 2.06-.94-2.06-.94-.94-2.06-.94 2.06-2.06.94zm-11 1L8.5 8.5l.94-2.06 2.06-.94-2.06-.94L8.5 2.5l-.94 2.06-2.06.94zm10 10l.94 2.06.94-2.06 2.06-.94-2.06-.94-.94-2.06-.94 2.06-2.06.94z\"/><path d=\"M17.41 7.96l-1.37-1.37c-.4-.4-.92-.59-1.43-.59-.52 0-1.04.2-1.43.59L10.3 9.45l-7.72 7.72c-.78.78-.78 2.05 0 2.83L4 21.41c.39.39.9.59 1.41.59.51 0 1.02-.2 1.41-.59l7.78-7.78 2.81-2.81c.8-.78.8-2.07 0-2.86zM5.41 20L4 18.59l7.72-7.72 1.47 1.35L5.41 20z\"/>\n",
       "  </svg>\n",
       "      </button>\n",
       "      \n",
       "  <style>\n",
       "    .colab-df-container {\n",
       "      display:flex;\n",
       "      flex-wrap:wrap;\n",
       "      gap: 12px;\n",
       "    }\n",
       "\n",
       "    .colab-df-convert {\n",
       "      background-color: #E8F0FE;\n",
       "      border: none;\n",
       "      border-radius: 50%;\n",
       "      cursor: pointer;\n",
       "      display: none;\n",
       "      fill: #1967D2;\n",
       "      height: 32px;\n",
       "      padding: 0 0 0 0;\n",
       "      width: 32px;\n",
       "    }\n",
       "\n",
       "    .colab-df-convert:hover {\n",
       "      background-color: #E2EBFA;\n",
       "      box-shadow: 0px 1px 2px rgba(60, 64, 67, 0.3), 0px 1px 3px 1px rgba(60, 64, 67, 0.15);\n",
       "      fill: #174EA6;\n",
       "    }\n",
       "\n",
       "    [theme=dark] .colab-df-convert {\n",
       "      background-color: #3B4455;\n",
       "      fill: #D2E3FC;\n",
       "    }\n",
       "\n",
       "    [theme=dark] .colab-df-convert:hover {\n",
       "      background-color: #434B5C;\n",
       "      box-shadow: 0px 1px 3px 1px rgba(0, 0, 0, 0.15);\n",
       "      filter: drop-shadow(0px 1px 2px rgba(0, 0, 0, 0.3));\n",
       "      fill: #FFFFFF;\n",
       "    }\n",
       "  </style>\n",
       "\n",
       "      <script>\n",
       "        const buttonEl =\n",
       "          document.querySelector('#df-1816c7b6-37f1-4fcb-a972-325382d4c11a button.colab-df-convert');\n",
       "        buttonEl.style.display =\n",
       "          google.colab.kernel.accessAllowed ? 'block' : 'none';\n",
       "\n",
       "        async function convertToInteractive(key) {\n",
       "          const element = document.querySelector('#df-1816c7b6-37f1-4fcb-a972-325382d4c11a');\n",
       "          const dataTable =\n",
       "            await google.colab.kernel.invokeFunction('convertToInteractive',\n",
       "                                                     [key], {});\n",
       "          if (!dataTable) return;\n",
       "\n",
       "          const docLinkHtml = 'Like what you see? Visit the ' +\n",
       "            '<a target=\"_blank\" href=https://colab.research.google.com/notebooks/data_table.ipynb>data table notebook</a>'\n",
       "            + ' to learn more about interactive tables.';\n",
       "          element.innerHTML = '';\n",
       "          dataTable['output_type'] = 'display_data';\n",
       "          await google.colab.output.renderOutput(dataTable, element);\n",
       "          const docLink = document.createElement('div');\n",
       "          docLink.innerHTML = docLinkHtml;\n",
       "          element.appendChild(docLink);\n",
       "        }\n",
       "      </script>\n",
       "    </div>\n",
       "  </div>\n",
       "  "
      ]
     },
     "metadata": {},
     "execution_count": 77
    }
   ]
  },
  {
   "cell_type": "code",
   "source": [
    "training"
   ],
   "metadata": {
    "colab": {
     "base_uri": "https://localhost:8080/",
     "height": 423
    },
    "id": "fciaLCo3zYx5",
    "outputId": "01aaeb27-20c5-47e0-d56a-c7f6cad7fb1b"
   },
   "execution_count": 76,
   "outputs": [
    {
     "output_type": "execute_result",
     "data": {
      "text/plain": [
       "                                                   text  labels\n",
       "3360  [intelligent, optimization, diversified, commu...       5\n",
       "3903  [ensemble, adaptive, neuro, fuzzy, kohonen, ne...       5\n",
       "7711  [comprehensive, review, digital, twin, part, m...       1\n",
       "4790  [tensor, based, collaborative, filtering, smoo...       6\n",
       "5797  [iterative, learning, instance, segmentation, ...       0\n",
       "...                                                 ...     ...\n",
       "3066  [robust, fuzzy, q, learning, based, strictly, ...       5\n",
       "742   [attack, deidentification, defense, cryptograp...       4\n",
       "2870  [transferable, legged, mobile, manipulation, f...       8\n",
       "8856  [vldb, designing, hybrid, conference, database...       3\n",
       "6849  [numgpt, improving, numeracy, ability, generat...       9\n",
       "\n",
       "[7000 rows x 2 columns]"
      ],
      "text/html": [
       "\n",
       "  <div id=\"df-0049e552-a24b-4910-86bc-f84cfa1fbb02\">\n",
       "    <div class=\"colab-df-container\">\n",
       "      <div>\n",
       "<style scoped>\n",
       "    .dataframe tbody tr th:only-of-type {\n",
       "        vertical-align: middle;\n",
       "    }\n",
       "\n",
       "    .dataframe tbody tr th {\n",
       "        vertical-align: top;\n",
       "    }\n",
       "\n",
       "    .dataframe thead th {\n",
       "        text-align: right;\n",
       "    }\n",
       "</style>\n",
       "<table border=\"1\" class=\"dataframe\">\n",
       "  <thead>\n",
       "    <tr style=\"text-align: right;\">\n",
       "      <th></th>\n",
       "      <th>text</th>\n",
       "      <th>labels</th>\n",
       "    </tr>\n",
       "  </thead>\n",
       "  <tbody>\n",
       "    <tr>\n",
       "      <th>3360</th>\n",
       "      <td>[intelligent, optimization, diversified, commu...</td>\n",
       "      <td>5</td>\n",
       "    </tr>\n",
       "    <tr>\n",
       "      <th>3903</th>\n",
       "      <td>[ensemble, adaptive, neuro, fuzzy, kohonen, ne...</td>\n",
       "      <td>5</td>\n",
       "    </tr>\n",
       "    <tr>\n",
       "      <th>7711</th>\n",
       "      <td>[comprehensive, review, digital, twin, part, m...</td>\n",
       "      <td>1</td>\n",
       "    </tr>\n",
       "    <tr>\n",
       "      <th>4790</th>\n",
       "      <td>[tensor, based, collaborative, filtering, smoo...</td>\n",
       "      <td>6</td>\n",
       "    </tr>\n",
       "    <tr>\n",
       "      <th>5797</th>\n",
       "      <td>[iterative, learning, instance, segmentation, ...</td>\n",
       "      <td>0</td>\n",
       "    </tr>\n",
       "    <tr>\n",
       "      <th>...</th>\n",
       "      <td>...</td>\n",
       "      <td>...</td>\n",
       "    </tr>\n",
       "    <tr>\n",
       "      <th>3066</th>\n",
       "      <td>[robust, fuzzy, q, learning, based, strictly, ...</td>\n",
       "      <td>5</td>\n",
       "    </tr>\n",
       "    <tr>\n",
       "      <th>742</th>\n",
       "      <td>[attack, deidentification, defense, cryptograp...</td>\n",
       "      <td>4</td>\n",
       "    </tr>\n",
       "    <tr>\n",
       "      <th>2870</th>\n",
       "      <td>[transferable, legged, mobile, manipulation, f...</td>\n",
       "      <td>8</td>\n",
       "    </tr>\n",
       "    <tr>\n",
       "      <th>8856</th>\n",
       "      <td>[vldb, designing, hybrid, conference, database...</td>\n",
       "      <td>3</td>\n",
       "    </tr>\n",
       "    <tr>\n",
       "      <th>6849</th>\n",
       "      <td>[numgpt, improving, numeracy, ability, generat...</td>\n",
       "      <td>9</td>\n",
       "    </tr>\n",
       "  </tbody>\n",
       "</table>\n",
       "<p>7000 rows × 2 columns</p>\n",
       "</div>\n",
       "      <button class=\"colab-df-convert\" onclick=\"convertToInteractive('df-0049e552-a24b-4910-86bc-f84cfa1fbb02')\"\n",
       "              title=\"Convert this dataframe to an interactive table.\"\n",
       "              style=\"display:none;\">\n",
       "        \n",
       "  <svg xmlns=\"http://www.w3.org/2000/svg\" height=\"24px\"viewBox=\"0 0 24 24\"\n",
       "       width=\"24px\">\n",
       "    <path d=\"M0 0h24v24H0V0z\" fill=\"none\"/>\n",
       "    <path d=\"M18.56 5.44l.94 2.06.94-2.06 2.06-.94-2.06-.94-.94-2.06-.94 2.06-2.06.94zm-11 1L8.5 8.5l.94-2.06 2.06-.94-2.06-.94L8.5 2.5l-.94 2.06-2.06.94zm10 10l.94 2.06.94-2.06 2.06-.94-2.06-.94-.94-2.06-.94 2.06-2.06.94z\"/><path d=\"M17.41 7.96l-1.37-1.37c-.4-.4-.92-.59-1.43-.59-.52 0-1.04.2-1.43.59L10.3 9.45l-7.72 7.72c-.78.78-.78 2.05 0 2.83L4 21.41c.39.39.9.59 1.41.59.51 0 1.02-.2 1.41-.59l7.78-7.78 2.81-2.81c.8-.78.8-2.07 0-2.86zM5.41 20L4 18.59l7.72-7.72 1.47 1.35L5.41 20z\"/>\n",
       "  </svg>\n",
       "      </button>\n",
       "      \n",
       "  <style>\n",
       "    .colab-df-container {\n",
       "      display:flex;\n",
       "      flex-wrap:wrap;\n",
       "      gap: 12px;\n",
       "    }\n",
       "\n",
       "    .colab-df-convert {\n",
       "      background-color: #E8F0FE;\n",
       "      border: none;\n",
       "      border-radius: 50%;\n",
       "      cursor: pointer;\n",
       "      display: none;\n",
       "      fill: #1967D2;\n",
       "      height: 32px;\n",
       "      padding: 0 0 0 0;\n",
       "      width: 32px;\n",
       "    }\n",
       "\n",
       "    .colab-df-convert:hover {\n",
       "      background-color: #E2EBFA;\n",
       "      box-shadow: 0px 1px 2px rgba(60, 64, 67, 0.3), 0px 1px 3px 1px rgba(60, 64, 67, 0.15);\n",
       "      fill: #174EA6;\n",
       "    }\n",
       "\n",
       "    [theme=dark] .colab-df-convert {\n",
       "      background-color: #3B4455;\n",
       "      fill: #D2E3FC;\n",
       "    }\n",
       "\n",
       "    [theme=dark] .colab-df-convert:hover {\n",
       "      background-color: #434B5C;\n",
       "      box-shadow: 0px 1px 3px 1px rgba(0, 0, 0, 0.15);\n",
       "      filter: drop-shadow(0px 1px 2px rgba(0, 0, 0, 0.3));\n",
       "      fill: #FFFFFF;\n",
       "    }\n",
       "  </style>\n",
       "\n",
       "      <script>\n",
       "        const buttonEl =\n",
       "          document.querySelector('#df-0049e552-a24b-4910-86bc-f84cfa1fbb02 button.colab-df-convert');\n",
       "        buttonEl.style.display =\n",
       "          google.colab.kernel.accessAllowed ? 'block' : 'none';\n",
       "\n",
       "        async function convertToInteractive(key) {\n",
       "          const element = document.querySelector('#df-0049e552-a24b-4910-86bc-f84cfa1fbb02');\n",
       "          const dataTable =\n",
       "            await google.colab.kernel.invokeFunction('convertToInteractive',\n",
       "                                                     [key], {});\n",
       "          if (!dataTable) return;\n",
       "\n",
       "          const docLinkHtml = 'Like what you see? Visit the ' +\n",
       "            '<a target=\"_blank\" href=https://colab.research.google.com/notebooks/data_table.ipynb>data table notebook</a>'\n",
       "            + ' to learn more about interactive tables.';\n",
       "          element.innerHTML = '';\n",
       "          dataTable['output_type'] = 'display_data';\n",
       "          await google.colab.output.renderOutput(dataTable, element);\n",
       "          const docLink = document.createElement('div');\n",
       "          docLink.innerHTML = docLinkHtml;\n",
       "          element.appendChild(docLink);\n",
       "        }\n",
       "      </script>\n",
       "    </div>\n",
       "  </div>\n",
       "  "
      ]
     },
     "metadata": {},
     "execution_count": 76
    }
   ]
  },
  {
   "cell_type": "code",
   "source": [
    "training['text'] = [[lem.lemmatize(x) for x in i] for i in training['text']]\n",
    "training['text'] = [[x for x in i if x.isalpha()] for i in training['text']]\n",
    "training = training.replace(dic_lbls)\n",
    "training['labels'] = training['labels']\n"
   ],
   "metadata": {
    "id": "xbSxUnUIyqEJ"
   },
   "execution_count": 80,
   "outputs": []
  },
  {
   "cell_type": "code",
   "source": [
    "training"
   ],
   "metadata": {
    "colab": {
     "base_uri": "https://localhost:8080/",
     "height": 662
    },
    "id": "g39DL4Xds1ZA",
    "outputId": "8b570530-db8d-4725-d9b9-10e129560125"
   },
   "execution_count": 82,
   "outputs": [
    {
     "output_type": "execute_result",
     "data": {
      "text/plain": [
       "                                                   text  labels\n",
       "3360  [intelligent, optimization, diversified, commu...       5\n",
       "3903  [ensemble, adaptive, neuro, fuzzy, kohonen, ne...       5\n",
       "7711  [comprehensive, review, digital, twin, part, m...       1\n",
       "4790  [tensor, based, collaborative, filtering, smoo...       6\n",
       "5797  [iterative, learning, instance, segmentation, ...       0\n",
       "...                                                 ...     ...\n",
       "3066  [robust, fuzzy, q, learning, based, strictly, ...       5\n",
       "742   [attack, deidentification, defense, cryptograp...       4\n",
       "2870  [transferable, legged, mobile, manipulation, f...       8\n",
       "8856  [vldb, designing, hybrid, conference, database...       3\n",
       "6849  [numgpt, improving, numeracy, ability, generat...       9\n",
       "\n",
       "[7000 rows x 2 columns]"
      ],
      "text/html": [
       "\n",
       "  <div id=\"df-8f18dfea-4426-4669-a387-8341f25eacf4\">\n",
       "    <div class=\"colab-df-container\">\n",
       "      <div>\n",
       "<style scoped>\n",
       "    .dataframe tbody tr th:only-of-type {\n",
       "        vertical-align: middle;\n",
       "    }\n",
       "\n",
       "    .dataframe tbody tr th {\n",
       "        vertical-align: top;\n",
       "    }\n",
       "\n",
       "    .dataframe thead th {\n",
       "        text-align: right;\n",
       "    }\n",
       "</style>\n",
       "<table border=\"1\" class=\"dataframe\">\n",
       "  <thead>\n",
       "    <tr style=\"text-align: right;\">\n",
       "      <th></th>\n",
       "      <th>text</th>\n",
       "      <th>labels</th>\n",
       "    </tr>\n",
       "  </thead>\n",
       "  <tbody>\n",
       "    <tr>\n",
       "      <th>3360</th>\n",
       "      <td>[intelligent, optimization, diversified, commu...</td>\n",
       "      <td>5</td>\n",
       "    </tr>\n",
       "    <tr>\n",
       "      <th>3903</th>\n",
       "      <td>[ensemble, adaptive, neuro, fuzzy, kohonen, ne...</td>\n",
       "      <td>5</td>\n",
       "    </tr>\n",
       "    <tr>\n",
       "      <th>7711</th>\n",
       "      <td>[comprehensive, review, digital, twin, part, m...</td>\n",
       "      <td>1</td>\n",
       "    </tr>\n",
       "    <tr>\n",
       "      <th>4790</th>\n",
       "      <td>[tensor, based, collaborative, filtering, smoo...</td>\n",
       "      <td>6</td>\n",
       "    </tr>\n",
       "    <tr>\n",
       "      <th>5797</th>\n",
       "      <td>[iterative, learning, instance, segmentation, ...</td>\n",
       "      <td>0</td>\n",
       "    </tr>\n",
       "    <tr>\n",
       "      <th>...</th>\n",
       "      <td>...</td>\n",
       "      <td>...</td>\n",
       "    </tr>\n",
       "    <tr>\n",
       "      <th>3066</th>\n",
       "      <td>[robust, fuzzy, q, learning, based, strictly, ...</td>\n",
       "      <td>5</td>\n",
       "    </tr>\n",
       "    <tr>\n",
       "      <th>742</th>\n",
       "      <td>[attack, deidentification, defense, cryptograp...</td>\n",
       "      <td>4</td>\n",
       "    </tr>\n",
       "    <tr>\n",
       "      <th>2870</th>\n",
       "      <td>[transferable, legged, mobile, manipulation, f...</td>\n",
       "      <td>8</td>\n",
       "    </tr>\n",
       "    <tr>\n",
       "      <th>8856</th>\n",
       "      <td>[vldb, designing, hybrid, conference, database...</td>\n",
       "      <td>3</td>\n",
       "    </tr>\n",
       "    <tr>\n",
       "      <th>6849</th>\n",
       "      <td>[numgpt, improving, numeracy, ability, generat...</td>\n",
       "      <td>9</td>\n",
       "    </tr>\n",
       "  </tbody>\n",
       "</table>\n",
       "<p>7000 rows × 2 columns</p>\n",
       "</div>\n",
       "      <button class=\"colab-df-convert\" onclick=\"convertToInteractive('df-8f18dfea-4426-4669-a387-8341f25eacf4')\"\n",
       "              title=\"Convert this dataframe to an interactive table.\"\n",
       "              style=\"display:none;\">\n",
       "        \n",
       "  <svg xmlns=\"http://www.w3.org/2000/svg\" height=\"24px\"viewBox=\"0 0 24 24\"\n",
       "       width=\"24px\">\n",
       "    <path d=\"M0 0h24v24H0V0z\" fill=\"none\"/>\n",
       "    <path d=\"M18.56 5.44l.94 2.06.94-2.06 2.06-.94-2.06-.94-.94-2.06-.94 2.06-2.06.94zm-11 1L8.5 8.5l.94-2.06 2.06-.94-2.06-.94L8.5 2.5l-.94 2.06-2.06.94zm10 10l.94 2.06.94-2.06 2.06-.94-2.06-.94-.94-2.06-.94 2.06-2.06.94z\"/><path d=\"M17.41 7.96l-1.37-1.37c-.4-.4-.92-.59-1.43-.59-.52 0-1.04.2-1.43.59L10.3 9.45l-7.72 7.72c-.78.78-.78 2.05 0 2.83L4 21.41c.39.39.9.59 1.41.59.51 0 1.02-.2 1.41-.59l7.78-7.78 2.81-2.81c.8-.78.8-2.07 0-2.86zM5.41 20L4 18.59l7.72-7.72 1.47 1.35L5.41 20z\"/>\n",
       "  </svg>\n",
       "      </button>\n",
       "      \n",
       "  <style>\n",
       "    .colab-df-container {\n",
       "      display:flex;\n",
       "      flex-wrap:wrap;\n",
       "      gap: 12px;\n",
       "    }\n",
       "\n",
       "    .colab-df-convert {\n",
       "      background-color: #E8F0FE;\n",
       "      border: none;\n",
       "      border-radius: 50%;\n",
       "      cursor: pointer;\n",
       "      display: none;\n",
       "      fill: #1967D2;\n",
       "      height: 32px;\n",
       "      padding: 0 0 0 0;\n",
       "      width: 32px;\n",
       "    }\n",
       "\n",
       "    .colab-df-convert:hover {\n",
       "      background-color: #E2EBFA;\n",
       "      box-shadow: 0px 1px 2px rgba(60, 64, 67, 0.3), 0px 1px 3px 1px rgba(60, 64, 67, 0.15);\n",
       "      fill: #174EA6;\n",
       "    }\n",
       "\n",
       "    [theme=dark] .colab-df-convert {\n",
       "      background-color: #3B4455;\n",
       "      fill: #D2E3FC;\n",
       "    }\n",
       "\n",
       "    [theme=dark] .colab-df-convert:hover {\n",
       "      background-color: #434B5C;\n",
       "      box-shadow: 0px 1px 3px 1px rgba(0, 0, 0, 0.15);\n",
       "      filter: drop-shadow(0px 1px 2px rgba(0, 0, 0, 0.3));\n",
       "      fill: #FFFFFF;\n",
       "    }\n",
       "  </style>\n",
       "\n",
       "      <script>\n",
       "        const buttonEl =\n",
       "          document.querySelector('#df-8f18dfea-4426-4669-a387-8341f25eacf4 button.colab-df-convert');\n",
       "        buttonEl.style.display =\n",
       "          google.colab.kernel.accessAllowed ? 'block' : 'none';\n",
       "\n",
       "        async function convertToInteractive(key) {\n",
       "          const element = document.querySelector('#df-8f18dfea-4426-4669-a387-8341f25eacf4');\n",
       "          const dataTable =\n",
       "            await google.colab.kernel.invokeFunction('convertToInteractive',\n",
       "                                                     [key], {});\n",
       "          if (!dataTable) return;\n",
       "\n",
       "          const docLinkHtml = 'Like what you see? Visit the ' +\n",
       "            '<a target=\"_blank\" href=https://colab.research.google.com/notebooks/data_table.ipynb>data table notebook</a>'\n",
       "            + ' to learn more about interactive tables.';\n",
       "          element.innerHTML = '';\n",
       "          dataTable['output_type'] = 'display_data';\n",
       "          await google.colab.output.renderOutput(dataTable, element);\n",
       "          const docLink = document.createElement('div');\n",
       "          docLink.innerHTML = docLinkHtml;\n",
       "          element.appendChild(docLink);\n",
       "        }\n",
       "      </script>\n",
       "    </div>\n",
       "  </div>\n",
       "  "
      ]
     },
     "metadata": {},
     "execution_count": 82
    }
   ]
  },
  {
   "cell_type": "code",
   "source": [
    "df = pd.concat([training, test])\n",
    "df['text'] = df['text'].agg(' '.join)"
   ],
   "metadata": {
    "id": "83eCm9tzs1Wk"
   },
   "execution_count": 83,
   "outputs": []
  },
  {
   "cell_type": "code",
   "source": [
    "X_train, X_test, y_train, y_test = train_test_split(\n",
    "    df['text'], df['labels'], test_size=0.3, stratify=df['labels'], random_state=123\n",
    ")"
   ],
   "metadata": {
    "id": "eLTYqUGus1UF"
   },
   "execution_count": 84,
   "outputs": []
  },
  {
   "cell_type": "code",
   "source": [
    "corpus = X_train.values"
   ],
   "metadata": {
    "id": "xiaNqGLLs1Ra"
   },
   "execution_count": 85,
   "outputs": []
  },
  {
   "cell_type": "markdown",
   "source": [
    "FAST TEXT"
   ],
   "metadata": {
    "id": "ZOS_bMwWtpa3"
   }
  },
  {
   "cell_type": "code",
   "source": [
    "with open('train.txt', 'w') as f:\n",
    "    for each_text, each_label in zip(X_train.values, y_train):\n",
    "        f.writelines(f'__label__{each_label} {each_text}\\n')\n",
    "\n",
    "with open('test.txt', 'w') as f:\n",
    "    for each_text, each_label in zip(X_test.values, y_test):\n",
    "        f.writelines(f'__label__{each_label} {each_text}\\n')"
   ],
   "metadata": {
    "id": "lO8MMqYTs1H1"
   },
   "execution_count": 88,
   "outputs": []
  },
  {
   "cell_type": "code",
   "source": [
    "!head -n 10 test.txt"
   ],
   "metadata": {
    "colab": {
     "base_uri": "https://localhost:8080/"
    },
    "id": "17M2sgDXs1Be",
    "outputId": "90923adb-8614-447e-d978-06bc71bd8b75"
   },
   "execution_count": 90,
   "outputs": [
    {
     "output_type": "stream",
     "name": "stdout",
     "text": [
      "__label__9 autohensgnn winning solution autograph challenge kdd cup machine learning artificial intelligence graph neural network gnns become increasingly popular achieved impressive result many graph based application however extensive manual work domain knowledge required design effective architecture result gnn model high variance different training setup limit application existing gnn model paper present autohensgnn framework build effective robust model graph task without human intervention autohensgnn first place autograph challenge kdd cup achieved best rank score five real life datasets final phase given task autohensgnn first applies fast proxy evaluation automatically select pool promising gnn model build hierarchical ensemble framework propose graph self ensemble gse reduce variance weight initialization efficiently exploit information local global neighborhood based gse weighted ensemble different type gnn model used effectively learn discriminative node representation efficiently search architecture ensemble weight propose autohensgnn text gradient treat architecture ensemble weight architecture parameter u gradient based architecture search obtain optimal configuration autohensgnn text adaptive adaptively adjust ensemble weight based model accuracy extensive experiment node classification graph classification edge prediction kdd cup challenge demonstrate effectiveness generality autohensgnn\n",
      "__label__4 benchmark representation learning multi agent behavior machine learning artificial intelligence computer vision pattern recognition multiagent system real world behavior often shaped complex interaction multiple agent scalably study multi agent behavior advance unsupervised self supervised learning enabled variety different behavioral representation learned trajectory data date exist unified set benchmark enable comparing method quantitatively systematically across broad set behavior analysis setting aim address introducing large scale multi agent trajectory dataset real world behavioral neuroscience experiment cover range behavior analysis task dataset consists trajectory data common model organism million frame mouse data million frame fly data variety experimental setting different strain length interaction optogenetic stimulation subset frame also consist expert annotated behavior label improvement dataset corresponds behavioral representation work across multiple organism able capture difference common behavior analysis task\n",
      "__label__2 fogros adaptive extensible platform cloud fog robotics using ro robotics mobility power price point often dictate robot sufficient computing power board run modern robot algorithm desired rate cloud computing provider aws gcp azure offer immense computing power demand tapping power robot non trivial paper present fogros easy use open source platform facilitate cloud fog robotics compatible emerging ro standard extending open source robot operating system ro fogros provision cloud computer deploys launch ro node cloud computer set secure networking robot cloud start application running fogros completely redesigned distinct predecessor support ro application transparent video compression communication improved performance security support multiple cloud computing provider remote monitoring visualization demonstrate example application performance gained using cloud computer overcome network latency significantly speed robot performance example fogros reduces slam latency reduces grasp planning time speed motion planning compared alternative fogros reduces network utilization fogros source example documentation available http github com berkeleyautomation\n",
      "__label__0 towards human global context vision language model really judge like human computer vision pattern recognition computer vision nlp make progress vision language vl becoming important area research despite importance evaluation metric research domain still preliminary stage development paper propose quantitative metric equivariance score evaluation dataset human puzzle as whether vl model understanding image like human observed vl model interpret overall context input image instead show bias toward specific object shape form local context aim quantitatively measure model performance understanding context verify current existing vl model capability sliced original input image piece randomly placed distorting global context image paper discus vl model level interpretation global context address structural characteristic influenced result\n",
      "__label__5 particle swarm optimization generating interpretable fuzzy reinforcement learning policy neural evolutionary computing artificial intelligence machine learning system control fuzzy controller efficient interpretable system controller continuous state action space date controller constructed manually trained automatically either using expert generated problem specific cost function incorporating detailed knowledge optimal control strategy requirement automatic training process found real world reinforcement learning rl problem application online learning often prohibited safety reason online learning requires exploration problem dynamic policy training introduce fuzzy particle swarm reinforcement learning fpsrl approach construct fuzzy rl policy solely training parameter world model simulate real system dynamic world model created employing autonomous machine learning technique u previously generated transition sample real system best knowledge approach first relate self organizing fuzzy controller model based batch rl therefore fpsrl intended solve problem domain online learning prohibited system dynamic relatively easy model previously generated default policy transition sample expected relatively easily interpretable control policy exists efficiency proposed approach problem domain demonstrated using three standard rl benchmark e mountain car cart pole balancing cart pole swing experimental result demonstrate high performing interpretable fuzzy policy\n",
      "__label__9 dark side language pre trained transformer darknet computation language machine learning pre trained transformer challenging human performance many natural language processing task gigantic datasets used pre training seem key success existing task paper explore range pre trained natural language understanding model perform truly novel unexplored data provided classification task darknet corpus surprisingly result show syntactic lexical neural network largely outperform pre trained transformer seems suggest pre trained transformer serious difficulty adapting radically novel text\n",
      "__label__2 residual bootstrap exploration stochastic linear bandit machine learning machine learning propose new bootstrap based online algorithm stochastic linear bandit problem key idea adopt residual bootstrap exploration agent estimate next step reward sampling residual mean reward estimate algorithm residual bootstrap exploration stochastic linear bandit texttt linreboot estimate linear reward sampling distribution pull arm highest reward estimate particular contribute theoretical framework demystify residual bootstrap based exploration mechanism stochastic linear bandit problem key insight strength bootstrap exploration based collaborated optimism online learned model sampling distribution residual observation enables u show proposed texttt linreboot secure high probability tilde sqrt n sub linear regret mild condition experiment support easy generalizability texttt reboot principle various formulation linear bandit problem show significant computational efficiency texttt linreboot\n",
      "__label__6 rpt effective efficient retrieval program translation big code software engineering database program translation growing demand software engineering manual program translation requires programming expertise source target language one way automate process make use big data program e big code particular one search program translation big code however existing code retrieval technique designed cross language code retrieval data driven approach require human effort constructing cross language parallel datasets train translation model paper present rpt novel code translation retrieval system propose lightweight informative program representation generalized imperative pls furthermore present index structure hierarchical filtering mechanism efficient code retrieval big code database\n",
      "__label__9 technique building multimodal representation matter comparative analysis machine learning creating meaningful representation fusing single modality e g text image audio core concept multimodal learning although several technique building multimodal representation proven successful compared yet therefore ambiguous technique expected yield best result given scenario factor considered choosing technique paper explores common technique building multimodal data representation late fusion early fusion sketch compare classification task experiment conducted three datasets amazon review datasets general result confirm multimodal representation able boost performance unimodal model accuracy amazon review auc however experiment movielens datasets indicate importance meaningful input data given task article show choice technique building multimodal representation crucial obtain highest possible model performance come proper modality combination choice relies influence modality analyzed machine learning ml problem type ml task memory constraint training predicting phase\n",
      "__label__4 data driven approach learning control computer machine learning would useful machine use computer human aid u everyday task setting also potential leverage large scale expert demonstration human judgement interactive behaviour two ingredient driven much recent success ai investigate setting computer control using keyboard mouse goal specified via natural language instead focusing hand designed curriculum specialized action space focus developing scalable method centered reinforcement learning combined behavioural prior informed actual human computer interaction achieve state art human level mean performance across task within miniwob benchmark challenging suite computer control problem find strong evidence cross task transfer result demonstrate usefulness unified human agent interface training machine use computer altogether result suggest formula achieving competency beyond miniwob towards controlling computer general human would\n"
     ]
    }
   ]
  },
  {
   "cell_type": "code",
   "source": [
    "model1 = fasttext.train_supervised('train.txt')\n",
    "\n",
    "def print_results(sample_size, precision, recall):\n",
    "    precision   = round(precision, 2)\n",
    "    recall      = round(recall, 2)\n",
    "    F1 = 2 * (precision * recall) / (precision + recall)\n",
    "    print(f'{sample_size=}')\n",
    "    print(f'{precision=}')\n",
    "    print(f'{recall=}')\n",
    "    print(f'{F1=}')\n",
    "\n",
    "# Применяем функцию\n",
    "print_results(*model1.test('test.txt'))"
   ],
   "metadata": {
    "colab": {
     "base_uri": "https://localhost:8080/"
    },
    "id": "jEz7NgQir9k4",
    "outputId": "aa7b4b2a-a852-4cd1-9d4e-53556d40135a"
   },
   "execution_count": 98,
   "outputs": [
    {
     "output_type": "stream",
     "name": "stdout",
     "text": [
      "sample_size=3000\n",
      "precision=0.53\n",
      "recall=0.53\n",
      "F1=0.53\n"
     ]
    }
   ]
  },
  {
   "cell_type": "code",
   "source": [
    "model2 = fasttext.train_supervised('train.txt', epoch=25)\n",
    "\n",
    "print_results(*model2.test('test.txt'))"
   ],
   "metadata": {
    "colab": {
     "base_uri": "https://localhost:8080/"
    },
    "id": "k9lIdApbtpIE",
    "outputId": "72b62be2-91d9-447e-94f2-5cd53b6f8ae6"
   },
   "execution_count": 99,
   "outputs": [
    {
     "output_type": "stream",
     "name": "stdout",
     "text": [
      "sample_size=3000\n",
      "precision=0.82\n",
      "recall=0.82\n",
      "F1=0.82\n"
     ]
    }
   ]
  },
  {
   "cell_type": "code",
   "source": [
    "model3 = fasttext.train_supervised('train.txt', epoch=50, lr=0.1)\n",
    "\n",
    "print_results(*model3.test('test.txt'))"
   ],
   "metadata": {
    "colab": {
     "base_uri": "https://localhost:8080/"
    },
    "id": "fkbO_bgBtpFh",
    "outputId": "2c1750f6-43c4-47e4-a761-55aef8108ddd"
   },
   "execution_count": 106,
   "outputs": [
    {
     "output_type": "stream",
     "name": "stdout",
     "text": [
      "sample_size=3000\n",
      "precision=0.82\n",
      "recall=0.82\n",
      "F1=0.82\n"
     ]
    }
   ]
  },
  {
   "cell_type": "code",
   "source": [
    "model4 = fasttext.train_supervised('train.txt', epoch=50, lr=0.1, wordNgrams =2)\n",
    "\n",
    "print_results(*model4.test('test.txt'))"
   ],
   "metadata": {
    "colab": {
     "base_uri": "https://localhost:8080/"
    },
    "id": "pWHcKNyetpDO",
    "outputId": "b2c3ae39-c1f9-4c14-aa92-997ce414d64e"
   },
   "execution_count": 107,
   "outputs": [
    {
     "output_type": "stream",
     "name": "stdout",
     "text": [
      "sample_size=3000\n",
      "precision=0.82\n",
      "recall=0.82\n",
      "F1=0.82\n"
     ]
    }
   ]
  },
  {
   "cell_type": "code",
   "source": [
    "model5 = fasttext.train_supervised('train.txt', autotuneValidationFile='test.txt')\n",
    "\n",
    "print_results(*model5.test('test.txt'))"
   ],
   "metadata": {
    "colab": {
     "base_uri": "https://localhost:8080/"
    },
    "id": "yp2HfCbBtpAu",
    "outputId": "66bdb53f-0dbe-4f5a-b285-bf720a69df4d"
   },
   "execution_count": 108,
   "outputs": [
    {
     "output_type": "stream",
     "name": "stdout",
     "text": [
      "sample_size=3000\n",
      "precision=0.83\n",
      "recall=0.83\n",
      "F1=0.83\n"
     ]
    }
   ]
  },
  {
   "cell_type": "code",
   "source": [
    "model6 = fasttext.train_supervised('train.txt', autotuneValidationFile='test.txt', autotuneMetric=\"f1:__label__1\")\n",
    "\n",
    "print_results(*model6.test('test.txt'))"
   ],
   "metadata": {
    "colab": {
     "base_uri": "https://localhost:8080/"
    },
    "id": "TJTtB0aWto-M",
    "outputId": "cf6e3a73-caa5-4c97-8c58-697aa28cb7ae"
   },
   "execution_count": 109,
   "outputs": [
    {
     "output_type": "stream",
     "name": "stdout",
     "text": [
      "sample_size=3000\n",
      "precision=0.83\n",
      "recall=0.83\n",
      "F1=0.83\n"
     ]
    }
   ]
  },
  {
   "cell_type": "code",
   "source": [
    "import os\n",
    "from tensorflow import keras\n",
    "from keras import layers\n",
    "from keras.models import Sequential\n",
    "import matplotlib.pyplot as plt\n",
    "import numpy as np\n",
    "from sklearn.metrics import classification_report, confusion_matrix\n",
    "from sklearn.metrics import ConfusionMatrixDisplay\n",
    "from sklearn.model_selection import train_test_split\n",
    "from keras.datasets import mnist\n",
    "from sklearn.model_selection import train_test_split"
   ],
   "metadata": {
    "id": "6AF-a9Q0to7h",
    "ExecuteTime": {
     "end_time": "2023-10-29T17:09:56.177186800Z",
     "start_time": "2023-10-29T17:09:54.392010500Z"
    }
   },
   "execution_count": 1,
   "outputs": []
  },
  {
   "cell_type": "code",
   "source": [
    "(X_train, y_train), (X_test, y_test) = mnist.load_data()\n"
   ],
   "metadata": {
    "id": "Oe0BEoNsto2s",
    "ExecuteTime": {
     "end_time": "2023-10-29T17:09:56.288710200Z",
     "start_time": "2023-10-29T17:09:56.178186800Z"
    }
   },
   "execution_count": 2,
   "outputs": []
  },
  {
   "cell_type": "code",
   "source": [
    "# создание своего разбиения датасета\n",
    "# объединяем в один набор\n",
    "X = np.concatenate((X_train, X_test))\n",
    "y = np.concatenate((y_train, y_test))\n",
    "\n",
    "# разбиваем по вариантам\n",
    "X_train, X_test, y_train, y_test = train_test_split(X, y,\n",
    " test_size = 10000,\n",
    " train_size = 60000,\n",
    " random_state = 4*9 - 1)\n",
    "\n",
    "# вывод размерностей\n",
    "print('Shape of X train:', X_train.shape)\n",
    "print('Shape of y train:', y_train.shape)\n",
    "print('Shape of X test:', X_test.shape)\n",
    "print('Shape of y test:', y_test.shape)"
   ],
   "metadata": {
    "id": "lUEG3G-Ttoxk",
    "ExecuteTime": {
     "end_time": "2023-10-29T17:09:57.266546500Z",
     "start_time": "2023-10-29T17:09:57.205727200Z"
    }
   },
   "execution_count": 3,
   "outputs": [
    {
     "name": "stdout",
     "output_type": "stream",
     "text": [
      "Shape of X train: (60000, 28, 28)\n",
      "Shape of y train: (60000,)\n",
      "Shape of X test: (10000, 28, 28)\n",
      "Shape of y test: (10000,)\n"
     ]
    }
   ]
  },
  {
   "cell_type": "markdown",
   "source": [],
   "metadata": {
    "id": "xjtlHaT2-yap"
   }
  },
  {
   "cell_type": "code",
   "source": [
    "# Зададим параметры данных и модели\n",
    "num_classes = 10\n",
    "input_shape = (28, 28, 1)\n",
    "\n",
    "# Приведение входных данных к диапазону [0, 1]\n",
    "X_train = X_train / 255\n",
    "X_test = X_test / 255\n",
    "\n",
    "# Расширяем размерность входных данных, чтобы каждое изображение имело\n",
    "# размерность (высота, ширина, количество каналов)\n",
    "X_train = np.expand_dims(X_train, -1)\n",
    "X_test = np.expand_dims(X_test, -1)\n",
    "print('Shape of transformed X train:', X_train.shape)\n",
    "print('Shape of transformed X test:', X_test.shape)\n",
    "\n",
    "# переведем метки в one-hot\n",
    "y_train = keras.utils.to_categorical(y_train, num_classes)\n",
    "y_test = keras.utils.to_categorical(y_test, num_classes)\n",
    "print('Shape of transformed y train:', y_train.shape)\n",
    "print('Shape of transformed y test:', y_test.shape)\n"
   ],
   "metadata": {
    "id": "NuqdjlgftosU",
    "ExecuteTime": {
     "end_time": "2023-10-29T17:10:05.626687800Z",
     "start_time": "2023-10-29T17:10:05.540894900Z"
    }
   },
   "execution_count": 4,
   "outputs": [
    {
     "name": "stdout",
     "output_type": "stream",
     "text": [
      "Shape of transformed X train: (60000, 28, 28, 1)\n",
      "Shape of transformed X test: (10000, 28, 28, 1)\n",
      "Shape of transformed y train: (60000, 10)\n",
      "Shape of transformed y test: (10000, 10)\n"
     ]
    }
   ]
  },
  {
   "cell_type": "code",
   "source": [
    "# создаем модель\n",
    "model = keras.Sequential()\n",
    "model.add(keras.layers.Conv2D(32, kernel_size=(3, 3), activation=\"relu\", input_shape=input_shape))\n",
    "model.add(keras.layers.MaxPooling2D(pool_size=(2, 2)))\n",
    "model.add(keras.layers.Conv2D(64, kernel_size=(3, 3), activation=\"relu\"))\n",
    "model.add(keras.layers.MaxPooling2D(pool_size=(2, 2)))\n",
    "model.add(keras.layers.Dropout(0.5))\n",
    "model.add(keras.layers.Flatten())\n",
    "model.add(keras.layers.Dense(num_classes, activation=\"softmax\"))\n",
    "model.summary()"
   ],
   "metadata": {
    "id": "NIvWKMN_tomY",
    "ExecuteTime": {
     "end_time": "2023-10-29T17:10:19.762038400Z",
     "start_time": "2023-10-29T17:10:19.039786800Z"
    }
   },
   "execution_count": 5,
   "outputs": [
    {
     "name": "stdout",
     "output_type": "stream",
     "text": [
      "Model: \"sequential\"\n",
      "_________________________________________________________________\n",
      " Layer (type)                Output Shape              Param #   \n",
      "=================================================================\n",
      " conv2d (Conv2D)             (None, 26, 26, 32)        320       \n",
      "                                                                 \n",
      " max_pooling2d (MaxPooling2D  (None, 13, 13, 32)       0         \n",
      " )                                                               \n",
      "                                                                 \n",
      " conv2d_1 (Conv2D)           (None, 11, 11, 64)        18496     \n",
      "                                                                 \n",
      " max_pooling2d_1 (MaxPooling  (None, 5, 5, 64)         0         \n",
      " 2D)                                                             \n",
      "                                                                 \n",
      " dropout (Dropout)           (None, 5, 5, 64)          0         \n",
      "                                                                 \n",
      " flatten (Flatten)           (None, 1600)              0         \n",
      "                                                                 \n",
      " dense (Dense)               (None, 10)                16010     \n",
      "                                                                 \n",
      "=================================================================\n",
      "Total params: 34,826\n",
      "Trainable params: 34,826\n",
      "Non-trainable params: 0\n",
      "_________________________________________________________________\n"
     ]
    }
   ]
  },
  {
   "cell_type": "code",
   "source": [
    "# компилируем и обучаем модель\n",
    "batch_size = 64\n",
    "epochs = 15\n",
    "model.compile(loss=\"categorical_crossentropy\", optimizer=\"adam\", metrics=[\"accuracy\"])\n",
    "model.fit(X_train, y_train, batch_size=batch_size, epochs=epochs, validation_split=0.1)\n",
    "\n",
    "# Оценка качества работы модели на тестовых данных\n",
    "scores = model.evaluate(X_test, y_test)\n",
    "print('Loss on test data:', scores[0])\n",
    "print('Accuracy on test data:', scores[1])"
   ],
   "metadata": {
    "id": "HgNyCL3DtogD",
    "is_executing": true,
    "ExecuteTime": {
     "start_time": "2023-10-29T17:10:28.944177200Z"
    }
   },
   "execution_count": null,
   "outputs": [
    {
     "name": "stdout",
     "output_type": "stream",
     "text": [
      "Epoch 1/15\n"
     ]
    }
   ]
  },
  {
   "cell_type": "code",
   "execution_count": null,
   "outputs": [],
   "source": [],
   "metadata": {
    "collapsed": false
   }
  }
 ]
}
